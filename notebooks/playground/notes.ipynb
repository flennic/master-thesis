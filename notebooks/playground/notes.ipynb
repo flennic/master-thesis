{
 "cells": [
  {
   "cell_type": "markdown",
   "metadata": {},
   "source": [
    "# Notes"
   ]
  },
  {
   "cell_type": "markdown",
   "metadata": {},
   "source": [
    "**Open Question 1 (Danuta):** What exactly is meant by the research question **identify the rythm when sleeping**? Does it mean there should be some statistical model describing/producing the data or should we distinguish between the states of a person sleeping and being awake? If the latter one, how can we do this considerung we only have data for the sleeping phase?"
   ]
  },
  {
   "cell_type": "markdown",
   "metadata": {},
   "source": [
    "**Open Question 2 (Danuta):** If we don't have any data from diseases, it's hard to actually predict them. Is there any more data?"
   ]
  },
  {
   "cell_type": "markdown",
   "metadata": {},
   "source": [
    "**Open Question 3 (Danuta + Krzysztof):** What is the interest in predicting the age? Can you not just look at the passport how old a person is?"
   ]
  },
  {
   "cell_type": "markdown",
   "metadata": {},
   "source": [
    "**Open Question 4 (Krzysztof):** In the time series data, for deep learning, there is no particle tracking. That was just for the other paper which deals with a complete different set of data. Why is it in the porposal then?"
   ]
  },
  {
   "cell_type": "markdown",
   "metadata": {},
   "source": [
    "**Open Question 5 (Krzysztof):** What information does the comment about the distribution provide me?"
   ]
  },
  {
   "cell_type": "markdown",
   "metadata": {},
   "source": [
    "## Objectives (Proposal)"
   ]
  },
  {
   "cell_type": "markdown",
   "metadata": {},
   "source": [
    "### Impurity & Simulation\n",
    "\n",
    "- The data contains some gaps that need to be filled. An easy way of doing to would be using linear and quadratic splines.\n",
    "- The data could be modelled with Gaussian Processes and Ornstein-Uhlenbeck models.\n",
    "    - The Gaussian Process can be used for filling in the gaps as well as sampling from the posterior for simulation.\n",
    "    - The Gaussian Process can be fit to one series or multiple ones to e.g. create simulations for healthy, sleeping patients\n",
    "        - What about concatenating them? e.g. all from age 30, 40, etc.?\n",
    "    - Ornstein-Uhlenbeck can be fitted (related to AR(1)) using e.g. LS. Also doing what KR proposed, trigonometric as the optimum function\n",
    "        - For the optimum function it has to be solved what exactly is meant by that"
   ]
  },
  {
   "cell_type": "markdown",
   "metadata": {},
   "source": [
    "### Age Prediction\n",
    "\n",
    "- The age is being predicted with a CNN and an LSTM, compared to Yusur's traditional, feature-based models\n",
    "- This can be done for just the sleeping patients as well as the other available data set (awake and sleeping) to see if there is a difference in model accuracy\n",
    "- Models could also be trained on the simulated data to see how much the difference is. For that the basic models have to work though (and at the moment it does not look like it)"
   ]
  },
  {
   "cell_type": "markdown",
   "metadata": {},
   "source": [
    "### Additions\n",
    "\n",
    "- Discrete HMM with Approximate Bayesian Computation (ABC) for the Parameters\n",
    "- Bootstrapping"
   ]
  },
  {
   "cell_type": "markdown",
   "metadata": {},
   "source": [
    "## Objectives"
   ]
  },
  {
   "cell_type": "markdown",
   "metadata": {},
   "source": [
    "Some ideas before starting:\n",
    "\n",
    "- Look at other datasets to have more data. Maybe also compare the different datasets. See [PhysioNet](https://physionet.org/about/database/). Compare Polish and \"American\" data.\n",
    "- Also look into sleep and non-sleep detection.\n",
    "- Slice and randomly sample the data to have for data for the CNN to train on."
   ]
  },
  {
   "cell_type": "markdown",
   "metadata": {},
   "source": [
    "### Data Impurity"
   ]
  },
  {
   "cell_type": "markdown",
   "metadata": {},
   "source": [
    "- Handling the impurity of the data, investigate different methods for solving this issue. \n",
    "    - Maybe fBm, maybe Gaussian Processes and compare their results. Splines as well, look at what pandas offers."
   ]
  },
  {
   "cell_type": "markdown",
   "metadata": {},
   "source": [
    "### Simulating Data"
   ]
  },
  {
   "cell_type": "markdown",
   "metadata": {},
   "source": [
    "- Split into chunks, SPT simulation with parameters, then we take them to classify (could also fall into the age prediction part)\n",
    "- Urnstein Uhlenbeck Process + Periodic (taking the trigonometric function as the optimum function)\n",
    "- Hidden Markow Model (discrete), Approximate Bayesian Computation for the parameters\n",
    "- Simple S(Arima) Model"
   ]
  },
  {
   "cell_type": "markdown",
   "metadata": {},
   "source": [
    "### Age / Gender Prediction"
   ]
  },
  {
   "cell_type": "markdown",
   "metadata": {},
   "source": [
    "- Use and tune the CNN for predicting the age, do additions like parameter tuning or training for different things (normal and cardiovascular age)"
   ]
  },
  {
   "cell_type": "markdown",
   "metadata": {},
   "source": [
    "### Combining"
   ]
  },
  {
   "cell_type": "markdown",
   "metadata": {},
   "source": [
    "- Bootstrapping\n",
    "    - Indivial A, pass through CNN, so we have $y_{\\text{true}}$, $y_{p\\text{rediction}}$\n",
    "    - Then I take the prediction $y_{p\\text{rediction}}$ and simualte data from that (from the simulating process, so some kind of parametric bootstrap)\n",
    "    - Simulated data to CNN which will give distributions, this CI and PI we can then use and see if $y_{\\text{true}}$ lies reasonable within the baundaries\n",
    "    - So we have $y_{\\text{true}}$, $y_{p\\text{rediction}}$ and simulated data and can see how it performs"
   ]
  },
  {
   "cell_type": "markdown",
   "metadata": {},
   "source": [
    "## Questions to Danuta Makowiec"
   ]
  },
  {
   "cell_type": "markdown",
   "metadata": {},
   "source": [
    "**Question 1:** Is there a definition of cardiovascular age? Or should some sort of\n",
    "classification of the curves be done and see how these relate to actual\n",
    "age?"
   ]
  },
  {
   "cell_type": "markdown",
   "metadata": {},
   "source": [
    "**Answer 1:** Something like cardiovascular age does not function in any formal context. One of the aims of Prof. Makowiec's group is to study the changes of the heart with time. All the recordings come from healthy people. Prof. Makowiec attaches an article where these people are described in detail."
   ]
  },
  {
   "cell_type": "markdown",
   "metadata": {},
   "source": [
    "**Question 2:** By single particle tracking methods do we mean that the time series is assumed to be an effect of a particle following some stochastic process, e.g. a a Brownian motion with reflecting boundaries. I attach also a paper and one can look at the [YUIMA R package](https://rdrr.io/rforge/yuima/)."
   ]
  },
  {
   "cell_type": "markdown",
   "metadata": {},
   "source": [
    "**Note 2:** See paper `Patterns of Heart Rate Dynamics in Healthy Aging Population`."
   ]
  },
  {
   "cell_type": "markdown",
   "metadata": {},
   "source": [
    "**Answer 2:** Essentially yes, but rather as a fractional Brownian motion with Hurst parameter in the range  0.2-0.3, a combination of such process or a stochastic multifractal (for the night rythm)."
   ]
  },
  {
   "cell_type": "markdown",
   "metadata": {},
   "source": [
    "**Question 3:** Are all the observations from healthy individuals, or is there maybe some disease associated with the data?"
   ]
  },
  {
   "cell_type": "markdown",
   "metadata": {},
   "source": [
    "**Answer 3:** All recordings come from healthy individuals. The term healthy is differently treated for people over 80. As most of them take medicine for high blood pressure or diabetes."
   ]
  },
  {
   "cell_type": "markdown",
   "metadata": {},
   "source": [
    "**Question 4:** Were there maybe more variables measured that are available, e.g. blood pressure?"
   ]
  },
  {
   "cell_type": "markdown",
   "metadata": {},
   "source": [
    "**Answer 4:** No, with this data only the hearts' rythm. The previously attached articles also consider blood pressure, but nothing like that was measured here."
   ]
  },
  {
   "cell_type": "markdown",
   "metadata": {},
   "source": [
    "**Question 5:** Are there some particular research questions from the data that are of interest?"
   ]
  },
  {
   "cell_type": "markdown",
   "metadata": {},
   "source": [
    "**Answer 5:** The two fundamental quesions are to **associate the rythm with age** and also to **identify the rythm when sleeping**. I also attach a master thesis that I supervised some time ago that could be useful, eps. w.r.t. used R packages and some other papers that could hopefully be useful."
   ]
  },
  {
   "cell_type": "markdown",
   "metadata": {},
   "source": [
    "**Note 5:** See Paper `Applying Machine Learning to LTE/5G Performance Trend Analysis`."
   ]
  },
  {
   "cell_type": "markdown",
   "metadata": {},
   "source": [
    "## Terms"
   ]
  },
  {
   "cell_type": "markdown",
   "metadata": {},
   "source": [
    "### Fractional Brownian Motion (fBm) {[Wikipedia](https://en.wikipedia.org/wiki/Fractional_Brownian_motion)}"
   ]
  },
  {
   "cell_type": "markdown",
   "metadata": {},
   "source": [
    "In probability theory, fractional Brownian motion (fBm), also called a fractal Brownian motion, is a generalization of Brownian motion. Unlike classical Brownian motion, the increments of fBm need not be independent."
   ]
  },
  {
   "cell_type": "markdown",
   "metadata": {},
   "source": [
    "# Papers"
   ]
  },
  {
   "cell_type": "markdown",
   "metadata": {},
   "source": [
    "## Classification of diffusion modes in single-particle tracking data: Feature-based versus deep-learning approach"
   ]
  },
  {
   "cell_type": "markdown",
   "metadata": {},
   "source": [
    "**Single-particle trajectories** measured in microscopy experiments contain **important information about dynamic processes undergoing in a range of materials including living cells and tissues**. However, extracting that information is not a trivial task due to the **stochastic nature of particles’ movement and the sampling noise**. In this paper, we adopt a deep-learning method known as a convolutional neural network (CNN) **to classify modes of diffusion from given trajectories**. We compare this fully automated approach working with raw data to classical machine learning techniques that require data preprocessing and extraction of human-engineered features from the trajectories to feed classifiers like random forest or gradient boosting. **All methods are tested using simulated trajectories for which the underlying physical model is known.** From the results it follows that CNN is usually slightly better than the feature-based methods, but at the costs of much longer processing times. Moreover, there are still some borderline cases, in which the classical methods perform better than CNN."
   ]
  },
  {
   "cell_type": "markdown",
   "metadata": {},
   "source": [
    "*The answer of these questions are not so imprtant as to me the paper does not really seem to be related to what we do?*"
   ]
  },
  {
   "cell_type": "markdown",
   "metadata": {},
   "source": [
    "**Question 1:** What are modes of diffusion?"
   ]
  },
  {
   "cell_type": "markdown",
   "metadata": {},
   "source": [
    "**Question 2:** What are the given trajectories in this paper?"
   ]
  },
  {
   "cell_type": "markdown",
   "metadata": {},
   "source": [
    "**Question 3:** How are the trajectories simulated? Instead of teh simulated ones, can we use the data that we obtained? How is that connected?"
   ]
  },
  {
   "cell_type": "markdown",
   "metadata": {},
   "source": [
    "**Question 4:** What are the underlying physical processes and how do they look like?"
   ]
  },
  {
   "cell_type": "markdown",
   "metadata": {},
   "source": [
    "**Question 5:** What are *mean square displacement (MSD)* curves?"
   ]
  },
  {
   "cell_type": "markdown",
   "metadata": {},
   "source": [
    "## Patterns of Heart Rate Dynamics in Healthy Aging Population: Insights from Machine Learning Methods"
   ]
  },
  {
   "cell_type": "markdown",
   "metadata": {},
   "source": [
    "**Question 1:** Why were only healthy subjects being recorded? If you want to classify according to age, then the sample should be as big and diverse as possible? Wouldn't it be nice to also have recordings of sick people to maybe connect patterns with diseases?"
   ]
  },
  {
   "cell_type": "markdown",
   "metadata": {},
   "source": [
    "**Question 2:** How exactly were the surrogate results obtained and what is their purpose? Why not splitting into training, validation and test? Why not slicing the data or bootstrapping it? What do these shuffled data points actually stand for, how did they got assigned their y labels?"
   ]
  },
  {
   "cell_type": "markdown",
   "metadata": {},
   "source": [
    "**Question 3:** Random shuffeling means per elements, not per slice? Is that really a good idea for training a statistical model?"
   ]
  },
  {
   "cell_type": "code",
   "execution_count": 2,
   "metadata": {},
   "outputs": [],
   "source": [
    "candidates = {\n",
    "    \"20\": [13, 17],\n",
    "    \"30\": [10, 11],\n",
    "    \"40\": [20, 13],\n",
    "    \"50\": [18, 13],\n",
    "    \"60\": [15 ,12],\n",
    "    \"70\": [12, 10],\n",
    "    \"80\": [6, 11]\n",
    "}"
   ]
  },
  {
   "cell_type": "code",
   "execution_count": 10,
   "metadata": {},
   "outputs": [
    {
     "data": {
      "text/plain": [
       "181"
      ]
     },
     "execution_count": 10,
     "metadata": {},
     "output_type": "execute_result"
    }
   ],
   "source": [
    "sum([sum(value) for key, value in candidates.items()])"
   ]
  },
  {
   "cell_type": "code",
   "execution_count": 11,
   "metadata": {},
   "outputs": [
    {
     "data": {
      "text/plain": [
       "107"
      ]
     },
     "execution_count": 11,
     "metadata": {},
     "output_type": "execute_result"
    }
   ],
   "source": [
    "13 + 17 + 20 + 13 + 15 + 12 + 6 + 11"
   ]
  },
  {
   "cell_type": "code",
   "execution_count": 12,
   "metadata": {},
   "outputs": [
    {
     "data": {
      "text/plain": [
       "0.7261682242990655"
      ]
     },
     "execution_count": 12,
     "metadata": {},
     "output_type": "execute_result"
    }
   ],
   "source": [
    "77.7 / 107"
   ]
  },
  {
   "cell_type": "code",
   "execution_count": null,
   "metadata": {},
   "outputs": [],
   "source": []
  }
 ],
 "metadata": {
  "kernelspec": {
   "display_name": "Python 3",
   "language": "python",
   "name": "python3"
  },
  "language_info": {
   "codemirror_mode": {
    "name": "ipython",
    "version": 3
   },
   "file_extension": ".py",
   "mimetype": "text/x-python",
   "name": "python",
   "nbconvert_exporter": "python",
   "pygments_lexer": "ipython3",
   "version": "3.8.1"
  }
 },
 "nbformat": 4,
 "nbformat_minor": 4
}
