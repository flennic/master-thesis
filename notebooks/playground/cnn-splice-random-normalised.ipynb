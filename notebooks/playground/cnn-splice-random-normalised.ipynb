{
 "cells": [
  {
   "cell_type": "markdown",
   "metadata": {},
   "source": [
    "# CNN Implementation - Splice Random (Normalised)"
   ]
  },
  {
   "cell_type": "markdown",
   "metadata": {},
   "source": [
    "## Load Data"
   ]
  },
  {
   "cell_type": "code",
   "execution_count": 1,
   "metadata": {},
   "outputs": [],
   "source": [
    "# Hyper Parameters\n",
    "N = 400\n",
    "SIZE = 5_000\n",
    "LR = 0.0001\n",
    "EPOCHS = 30\n",
    "splits = [0.8, 0.1, 0.1]\n",
    "SEED = 21\n",
    "data_dir = \"../data/age_decades/\""
   ]
  },
  {
   "cell_type": "code",
   "execution_count": 2,
   "metadata": {},
   "outputs": [],
   "source": [
    "# Imports\n",
    "import os\n",
    "import math\n",
    "import numpy as np\n",
    "import pandas as pd\n",
    "from datetime import datetime\n",
    "np.random.seed(seed=SEED)"
   ]
  },
  {
   "cell_type": "code",
   "execution_count": 3,
   "metadata": {},
   "outputs": [],
   "source": [
    "def raw_recording_to_dict(filepath, rawPythonic=True):\n",
    "    \n",
    "    recording = {}\n",
    "    \n",
    "    with open(filepath) as raw_recording:\n",
    "        \n",
    "        recording[\"Gender\"] = filepath.split(\"/\")[-1][0:1]\n",
    "        recording[\"AgeDecade\"] = filepath.split(\"/\")[-1][1:3]\n",
    "        recording[\"RecordingStartTime\"] = datetime.strptime(filepath.split(\"/\")[-1][4:9], '%H.%M').time()\n",
    "        \n",
    "        series = {\"ContractionNo\": [], \"ContractionNoNorm\": [], \"RrInterval\": []}\n",
    "        \n",
    "        first_index = None\n",
    "        previous_ContractionNo = None\n",
    "        \n",
    "        for line in raw_recording:\n",
    "            \n",
    "            # Handling shifted indexes\n",
    "            if first_index is None:\n",
    "                first_index = int(line.split()[1])\n",
    "            \n",
    "            # Fill missing data with None's\n",
    "            if previous_ContractionNo is not None:\n",
    "                diff = abs(previous_ContractionNo - int(line.split()[1]))\n",
    "                \n",
    "                if diff > 1:\n",
    "                    \n",
    "                    filling_indexes = np.array(range(previous_ContractionNo+1, int(line.split()[1])))\n",
    "                    \n",
    "                    series[\"ContractionNo\"].extend(filling_indexes)\n",
    "                    series[\"ContractionNoNorm\"].extend(filling_indexes - first_index)\n",
    "                    series[\"RrInterval\"].extend([math.nan]*(diff-1))\n",
    "          \n",
    "            series[\"ContractionNo\"].append(int(line.split()[1]))\n",
    "            series[\"ContractionNoNorm\"].append(int(line.split()[1]) - first_index)\n",
    "            series[\"RrInterval\"].append(int(line.split()[0]))\n",
    "            \n",
    "            previous_ContractionNo = int(line.split()[1])\n",
    "            \n",
    "        if rawPythonic:\n",
    "            recording[\"Series\"] = series\n",
    "            recording[\"RecordingStartTime\"] = str(recording[\"RecordingStartTime\"])\n",
    "        else:\n",
    "            recording[\"Series\"] = pd.DataFrame(series)\n",
    "            \n",
    "        return recording"
   ]
  },
  {
   "cell_type": "code",
   "execution_count": 4,
   "metadata": {},
   "outputs": [],
   "source": [
    "def splice_random(series, n=100, size=500, sigma=50):\n",
    "    cap = len(series) - size\n",
    "    starts = np.random.randint(cap, size=n)\n",
    "    ends = [max(min(round(np.random.normal(start+size, sigma)), cap+size), start+1) for start in starts]\n",
    "    splices = [series.iloc[start:end,] for start, end in zip(starts, ends)]\n",
    "    return splices"
   ]
  },
  {
   "cell_type": "code",
   "execution_count": 5,
   "metadata": {},
   "outputs": [],
   "source": [
    "def splice_constant(series, n=48):\n",
    "    return np.array_split(series, n)"
   ]
  },
  {
   "cell_type": "code",
   "execution_count": 6,
   "metadata": {},
   "outputs": [],
   "source": [
    "def splice_rr_intervals_constant(rr_intervals, n=48):\n",
    "    \n",
    "    spliced_recordings = []\n",
    "    \n",
    "    for recording in rr_intervals:\n",
    "        recording_copy = recording.copy()\n",
    "        # List of data frames\n",
    "        splices = splice_constant(recording_copy[\"Series\"], n=n)\n",
    "        \n",
    "        for splice in splices:\n",
    "            #spliced_recording = {}\n",
    "            recording_copy[\"Series\"] = splice\n",
    "            spliced_recordings.append(recording_copy)\n",
    "            \n",
    "    return spliced_recordings  "
   ]
  },
  {
   "cell_type": "code",
   "execution_count": 7,
   "metadata": {},
   "outputs": [],
   "source": [
    "def splice_rr_intervals_random(rr_intervals, n=48, size=500, sigma=50):\n",
    "    \n",
    "    spliced_recordings = []\n",
    "    \n",
    "    for recording in rr_intervals:\n",
    "        # List of data frames\n",
    "        splices = splice_random(recording[\"Series\"], n=n, size=500, sigma=50)\n",
    "        \n",
    "        for splice in splices:\n",
    "            recording_copy = recording.copy()\n",
    "            recording_copy[\"Series\"] = splice\n",
    "            spliced_recordings.append(recording_copy)\n",
    "            \n",
    "    return spliced_recordings  "
   ]
  },
  {
   "cell_type": "code",
   "execution_count": 8,
   "metadata": {},
   "outputs": [],
   "source": [
    "def decade_to_label(decade):\n",
    "    return(int(int(decade)/10) - 2)"
   ]
  },
  {
   "cell_type": "code",
   "execution_count": 9,
   "metadata": {},
   "outputs": [],
   "source": [
    "def label_to_decade(label):\n",
    "    return(str((label+2)*10))"
   ]
  },
  {
   "cell_type": "code",
   "execution_count": 10,
   "metadata": {},
   "outputs": [],
   "source": [
    "def pad(l, size, padding):\n",
    "    l = list(l)\n",
    "    l = l[0:min(len(l), size)]\n",
    "    return l + [padding] * abs((len(l)-size))"
   ]
  },
  {
   "cell_type": "code",
   "execution_count": 11,
   "metadata": {},
   "outputs": [],
   "source": [
    "def normalise(l):\n",
    "    scaled = l - np.mean(l)\n",
    "    return scaled / np.std(scaled)"
   ]
  },
  {
   "cell_type": "code",
   "execution_count": 12,
   "metadata": {},
   "outputs": [],
   "source": [
    "def rr_interval_dict_to_matrix(rr_interval_dict, pad_length):\n",
    "    data = []\n",
    "    labels = []\n",
    "    for recording in rr_interval_dict:\n",
    "        label = decade_to_label(recording[\"AgeDecade\"])\n",
    "        \n",
    "        # Interpolate\n",
    "        series = recording[\"Series\"][\"RrInterval\"].interpolate(method='linear', axis=0, limit_direction='both')\n",
    "        \n",
    "        # Normalise\n",
    "        series = normalise(series)\n",
    "        \n",
    "        # Pad\n",
    "        series = pad(series, pad_length, 0)\n",
    "        \n",
    "        #series = pad(normalise(recording[\"Series\"][\"RrInterval\"]), pad_length, 0)\n",
    "        labels.append(label)\n",
    "        data.append(series)\n",
    "    data = pd.DataFrame(data)\n",
    "    \n",
    "    return labels, data"
   ]
  },
  {
   "cell_type": "code",
   "execution_count": 13,
   "metadata": {},
   "outputs": [
    {
     "name": "stdout",
     "output_type": "stream",
     "text": [
      "CPU times: user 10.2 s, sys: 52.2 ms, total: 10.2 s\n",
      "Wall time: 10.3 s\n"
     ]
    }
   ],
   "source": [
    "%%time\n",
    "recordings = []\n",
    "for filename in os.listdir(data_dir):\n",
    "    recordings.append(raw_recording_to_dict(data_dir + filename, False))"
   ]
  },
  {
   "cell_type": "code",
   "execution_count": 14,
   "metadata": {},
   "outputs": [
    {
     "name": "stdout",
     "output_type": "stream",
     "text": [
      "CPU times: user 468 µs, sys: 9 µs, total: 477 µs\n",
      "Wall time: 1.98 ms\n"
     ]
    }
   ],
   "source": [
    "%%time\n",
    "train_orig, val_orig, test_orig = np.array_split(recordings, (np.array(splits)[:-1].cumsum() * len(recordings)).astype(int))\n",
    "#train = splice_rr_intervals_random(train_orig, n=N, size=SIZE)\n",
    "#val = splice_rr_intervals_random(val_orig, n=N, size=SIZE)\n",
    "#test = splice_rr_intervals_random(test_orig, n=N, size=SIZE)\n",
    "train = train_orig\n",
    "val = val_orig\n",
    "test = test_orig"
   ]
  },
  {
   "cell_type": "code",
   "execution_count": 15,
   "metadata": {},
   "outputs": [
    {
     "name": "stdout",
     "output_type": "stream",
     "text": [
      "CPU times: user 14.4 ms, sys: 43 µs, total: 14.5 ms\n",
      "Wall time: 13.5 ms\n"
     ]
    }
   ],
   "source": [
    "%%time\n",
    "max_length_rr = max([recording[\"Series\"].shape[0] for recording in train])\n",
    "colnames = [\"label\"] + [\"rr\" + str(i+1) for i in range(max_length_rr)]"
   ]
  },
  {
   "cell_type": "code",
   "execution_count": 16,
   "metadata": {},
   "outputs": [
    {
     "name": "stdout",
     "output_type": "stream",
     "text": [
      "CPU times: user 5.22 s, sys: 67.8 ms, total: 5.29 s\n",
      "Wall time: 5.29 s\n"
     ]
    },
    {
     "data": {
      "text/html": [
       "<div>\n",
       "<style scoped>\n",
       "    .dataframe tbody tr th:only-of-type {\n",
       "        vertical-align: middle;\n",
       "    }\n",
       "\n",
       "    .dataframe tbody tr th {\n",
       "        vertical-align: top;\n",
       "    }\n",
       "\n",
       "    .dataframe thead th {\n",
       "        text-align: right;\n",
       "    }\n",
       "</style>\n",
       "<table border=\"1\" class=\"dataframe\">\n",
       "  <thead>\n",
       "    <tr style=\"text-align: right;\">\n",
       "      <th></th>\n",
       "      <th>0</th>\n",
       "      <th>1</th>\n",
       "      <th>2</th>\n",
       "      <th>3</th>\n",
       "      <th>4</th>\n",
       "      <th>5</th>\n",
       "      <th>6</th>\n",
       "      <th>7</th>\n",
       "      <th>8</th>\n",
       "      <th>9</th>\n",
       "      <th>...</th>\n",
       "      <th>28862</th>\n",
       "      <th>28863</th>\n",
       "      <th>28864</th>\n",
       "      <th>28865</th>\n",
       "      <th>28866</th>\n",
       "      <th>28867</th>\n",
       "      <th>28868</th>\n",
       "      <th>28869</th>\n",
       "      <th>28870</th>\n",
       "      <th>28871</th>\n",
       "    </tr>\n",
       "  </thead>\n",
       "  <tbody>\n",
       "    <tr>\n",
       "      <th>0</th>\n",
       "      <td>-1.093936</td>\n",
       "      <td>-1.223796</td>\n",
       "      <td>-1.093936</td>\n",
       "      <td>-0.964076</td>\n",
       "      <td>-1.158866</td>\n",
       "      <td>-1.029006</td>\n",
       "      <td>-1.029006</td>\n",
       "      <td>-0.964076</td>\n",
       "      <td>-1.029006</td>\n",
       "      <td>-0.899146</td>\n",
       "      <td>...</td>\n",
       "      <td>0.0</td>\n",
       "      <td>0.0</td>\n",
       "      <td>0.0</td>\n",
       "      <td>0.0</td>\n",
       "      <td>0.0</td>\n",
       "      <td>0.0</td>\n",
       "      <td>0.0</td>\n",
       "      <td>0.0</td>\n",
       "      <td>0.0</td>\n",
       "      <td>0.0</td>\n",
       "    </tr>\n",
       "    <tr>\n",
       "      <th>1</th>\n",
       "      <td>-1.223742</td>\n",
       "      <td>-1.415674</td>\n",
       "      <td>-1.511640</td>\n",
       "      <td>-1.655589</td>\n",
       "      <td>-1.751555</td>\n",
       "      <td>-1.415674</td>\n",
       "      <td>-1.415674</td>\n",
       "      <td>-1.655589</td>\n",
       "      <td>-1.751555</td>\n",
       "      <td>-1.847521</td>\n",
       "      <td>...</td>\n",
       "      <td>0.0</td>\n",
       "      <td>0.0</td>\n",
       "      <td>0.0</td>\n",
       "      <td>0.0</td>\n",
       "      <td>0.0</td>\n",
       "      <td>0.0</td>\n",
       "      <td>0.0</td>\n",
       "      <td>0.0</td>\n",
       "      <td>0.0</td>\n",
       "      <td>0.0</td>\n",
       "    </tr>\n",
       "    <tr>\n",
       "      <th>2</th>\n",
       "      <td>-0.030155</td>\n",
       "      <td>-0.319777</td>\n",
       "      <td>0.356007</td>\n",
       "      <td>0.935251</td>\n",
       "      <td>0.356007</td>\n",
       "      <td>-0.512858</td>\n",
       "      <td>-0.512858</td>\n",
       "      <td>0.259466</td>\n",
       "      <td>1.031791</td>\n",
       "      <td>0.549088</td>\n",
       "      <td>...</td>\n",
       "      <td>0.0</td>\n",
       "      <td>0.0</td>\n",
       "      <td>0.0</td>\n",
       "      <td>0.0</td>\n",
       "      <td>0.0</td>\n",
       "      <td>0.0</td>\n",
       "      <td>0.0</td>\n",
       "      <td>0.0</td>\n",
       "      <td>0.0</td>\n",
       "      <td>0.0</td>\n",
       "    </tr>\n",
       "    <tr>\n",
       "      <th>3</th>\n",
       "      <td>-2.562358</td>\n",
       "      <td>-2.649452</td>\n",
       "      <td>-2.649452</td>\n",
       "      <td>-2.475264</td>\n",
       "      <td>-2.736546</td>\n",
       "      <td>-2.649452</td>\n",
       "      <td>-2.910733</td>\n",
       "      <td>-2.736546</td>\n",
       "      <td>-2.910733</td>\n",
       "      <td>-2.823640</td>\n",
       "      <td>...</td>\n",
       "      <td>0.0</td>\n",
       "      <td>0.0</td>\n",
       "      <td>0.0</td>\n",
       "      <td>0.0</td>\n",
       "      <td>0.0</td>\n",
       "      <td>0.0</td>\n",
       "      <td>0.0</td>\n",
       "      <td>0.0</td>\n",
       "      <td>0.0</td>\n",
       "      <td>0.0</td>\n",
       "    </tr>\n",
       "    <tr>\n",
       "      <th>4</th>\n",
       "      <td>0.109431</td>\n",
       "      <td>0.109431</td>\n",
       "      <td>0.109431</td>\n",
       "      <td>0.223146</td>\n",
       "      <td>0.564292</td>\n",
       "      <td>0.336861</td>\n",
       "      <td>0.109431</td>\n",
       "      <td>0.109431</td>\n",
       "      <td>0.109431</td>\n",
       "      <td>0.450577</td>\n",
       "      <td>...</td>\n",
       "      <td>0.0</td>\n",
       "      <td>0.0</td>\n",
       "      <td>0.0</td>\n",
       "      <td>0.0</td>\n",
       "      <td>0.0</td>\n",
       "      <td>0.0</td>\n",
       "      <td>0.0</td>\n",
       "      <td>0.0</td>\n",
       "      <td>0.0</td>\n",
       "      <td>0.0</td>\n",
       "    </tr>\n",
       "    <tr>\n",
       "      <th>...</th>\n",
       "      <td>...</td>\n",
       "      <td>...</td>\n",
       "      <td>...</td>\n",
       "      <td>...</td>\n",
       "      <td>...</td>\n",
       "      <td>...</td>\n",
       "      <td>...</td>\n",
       "      <td>...</td>\n",
       "      <td>...</td>\n",
       "      <td>...</td>\n",
       "      <td>...</td>\n",
       "      <td>...</td>\n",
       "      <td>...</td>\n",
       "      <td>...</td>\n",
       "      <td>...</td>\n",
       "      <td>...</td>\n",
       "      <td>...</td>\n",
       "      <td>...</td>\n",
       "      <td>...</td>\n",
       "      <td>...</td>\n",
       "      <td>...</td>\n",
       "    </tr>\n",
       "    <tr>\n",
       "      <th>139</th>\n",
       "      <td>-0.991480</td>\n",
       "      <td>-1.347966</td>\n",
       "      <td>-0.848886</td>\n",
       "      <td>-1.062777</td>\n",
       "      <td>-1.276669</td>\n",
       "      <td>-0.634995</td>\n",
       "      <td>-1.205372</td>\n",
       "      <td>-1.205372</td>\n",
       "      <td>-1.134075</td>\n",
       "      <td>-1.419263</td>\n",
       "      <td>...</td>\n",
       "      <td>0.0</td>\n",
       "      <td>0.0</td>\n",
       "      <td>0.0</td>\n",
       "      <td>0.0</td>\n",
       "      <td>0.0</td>\n",
       "      <td>0.0</td>\n",
       "      <td>0.0</td>\n",
       "      <td>0.0</td>\n",
       "      <td>0.0</td>\n",
       "      <td>0.0</td>\n",
       "    </tr>\n",
       "    <tr>\n",
       "      <th>140</th>\n",
       "      <td>-0.351599</td>\n",
       "      <td>0.019284</td>\n",
       "      <td>-0.351599</td>\n",
       "      <td>-0.784296</td>\n",
       "      <td>-0.475227</td>\n",
       "      <td>-0.413413</td>\n",
       "      <td>-0.660668</td>\n",
       "      <td>-0.722482</td>\n",
       "      <td>-0.227971</td>\n",
       "      <td>-0.227971</td>\n",
       "      <td>...</td>\n",
       "      <td>0.0</td>\n",
       "      <td>0.0</td>\n",
       "      <td>0.0</td>\n",
       "      <td>0.0</td>\n",
       "      <td>0.0</td>\n",
       "      <td>0.0</td>\n",
       "      <td>0.0</td>\n",
       "      <td>0.0</td>\n",
       "      <td>0.0</td>\n",
       "      <td>0.0</td>\n",
       "    </tr>\n",
       "    <tr>\n",
       "      <th>141</th>\n",
       "      <td>-0.654282</td>\n",
       "      <td>-1.239821</td>\n",
       "      <td>-1.474036</td>\n",
       "      <td>-1.474036</td>\n",
       "      <td>-1.356928</td>\n",
       "      <td>-1.239821</td>\n",
       "      <td>-1.122713</td>\n",
       "      <td>-1.591144</td>\n",
       "      <td>-1.708251</td>\n",
       "      <td>-1.356928</td>\n",
       "      <td>...</td>\n",
       "      <td>0.0</td>\n",
       "      <td>0.0</td>\n",
       "      <td>0.0</td>\n",
       "      <td>0.0</td>\n",
       "      <td>0.0</td>\n",
       "      <td>0.0</td>\n",
       "      <td>0.0</td>\n",
       "      <td>0.0</td>\n",
       "      <td>0.0</td>\n",
       "      <td>0.0</td>\n",
       "    </tr>\n",
       "    <tr>\n",
       "      <th>142</th>\n",
       "      <td>0.339497</td>\n",
       "      <td>0.339497</td>\n",
       "      <td>0.605442</td>\n",
       "      <td>0.472470</td>\n",
       "      <td>0.472470</td>\n",
       "      <td>0.339497</td>\n",
       "      <td>0.073552</td>\n",
       "      <td>0.073552</td>\n",
       "      <td>0.206524</td>\n",
       "      <td>0.472470</td>\n",
       "      <td>...</td>\n",
       "      <td>0.0</td>\n",
       "      <td>0.0</td>\n",
       "      <td>0.0</td>\n",
       "      <td>0.0</td>\n",
       "      <td>0.0</td>\n",
       "      <td>0.0</td>\n",
       "      <td>0.0</td>\n",
       "      <td>0.0</td>\n",
       "      <td>0.0</td>\n",
       "      <td>0.0</td>\n",
       "    </tr>\n",
       "    <tr>\n",
       "      <th>143</th>\n",
       "      <td>0.267490</td>\n",
       "      <td>0.488648</td>\n",
       "      <td>0.414929</td>\n",
       "      <td>-0.395986</td>\n",
       "      <td>-0.137968</td>\n",
       "      <td>0.562367</td>\n",
       "      <td>0.636087</td>\n",
       "      <td>0.083191</td>\n",
       "      <td>-0.690864</td>\n",
       "      <td>-0.359126</td>\n",
       "      <td>...</td>\n",
       "      <td>0.0</td>\n",
       "      <td>0.0</td>\n",
       "      <td>0.0</td>\n",
       "      <td>0.0</td>\n",
       "      <td>0.0</td>\n",
       "      <td>0.0</td>\n",
       "      <td>0.0</td>\n",
       "      <td>0.0</td>\n",
       "      <td>0.0</td>\n",
       "      <td>0.0</td>\n",
       "    </tr>\n",
       "  </tbody>\n",
       "</table>\n",
       "<p>144 rows × 28872 columns</p>\n",
       "</div>"
      ],
      "text/plain": [
       "        0         1         2         3         4         5         6      \\\n",
       "0   -1.093936 -1.223796 -1.093936 -0.964076 -1.158866 -1.029006 -1.029006   \n",
       "1   -1.223742 -1.415674 -1.511640 -1.655589 -1.751555 -1.415674 -1.415674   \n",
       "2   -0.030155 -0.319777  0.356007  0.935251  0.356007 -0.512858 -0.512858   \n",
       "3   -2.562358 -2.649452 -2.649452 -2.475264 -2.736546 -2.649452 -2.910733   \n",
       "4    0.109431  0.109431  0.109431  0.223146  0.564292  0.336861  0.109431   \n",
       "..        ...       ...       ...       ...       ...       ...       ...   \n",
       "139 -0.991480 -1.347966 -0.848886 -1.062777 -1.276669 -0.634995 -1.205372   \n",
       "140 -0.351599  0.019284 -0.351599 -0.784296 -0.475227 -0.413413 -0.660668   \n",
       "141 -0.654282 -1.239821 -1.474036 -1.474036 -1.356928 -1.239821 -1.122713   \n",
       "142  0.339497  0.339497  0.605442  0.472470  0.472470  0.339497  0.073552   \n",
       "143  0.267490  0.488648  0.414929 -0.395986 -0.137968  0.562367  0.636087   \n",
       "\n",
       "        7         8         9      ...  28862  28863  28864  28865  28866  \\\n",
       "0   -0.964076 -1.029006 -0.899146  ...    0.0    0.0    0.0    0.0    0.0   \n",
       "1   -1.655589 -1.751555 -1.847521  ...    0.0    0.0    0.0    0.0    0.0   \n",
       "2    0.259466  1.031791  0.549088  ...    0.0    0.0    0.0    0.0    0.0   \n",
       "3   -2.736546 -2.910733 -2.823640  ...    0.0    0.0    0.0    0.0    0.0   \n",
       "4    0.109431  0.109431  0.450577  ...    0.0    0.0    0.0    0.0    0.0   \n",
       "..        ...       ...       ...  ...    ...    ...    ...    ...    ...   \n",
       "139 -1.205372 -1.134075 -1.419263  ...    0.0    0.0    0.0    0.0    0.0   \n",
       "140 -0.722482 -0.227971 -0.227971  ...    0.0    0.0    0.0    0.0    0.0   \n",
       "141 -1.591144 -1.708251 -1.356928  ...    0.0    0.0    0.0    0.0    0.0   \n",
       "142  0.073552  0.206524  0.472470  ...    0.0    0.0    0.0    0.0    0.0   \n",
       "143  0.083191 -0.690864 -0.359126  ...    0.0    0.0    0.0    0.0    0.0   \n",
       "\n",
       "     28867  28868  28869  28870  28871  \n",
       "0      0.0    0.0    0.0    0.0    0.0  \n",
       "1      0.0    0.0    0.0    0.0    0.0  \n",
       "2      0.0    0.0    0.0    0.0    0.0  \n",
       "3      0.0    0.0    0.0    0.0    0.0  \n",
       "4      0.0    0.0    0.0    0.0    0.0  \n",
       "..     ...    ...    ...    ...    ...  \n",
       "139    0.0    0.0    0.0    0.0    0.0  \n",
       "140    0.0    0.0    0.0    0.0    0.0  \n",
       "141    0.0    0.0    0.0    0.0    0.0  \n",
       "142    0.0    0.0    0.0    0.0    0.0  \n",
       "143    0.0    0.0    0.0    0.0    0.0  \n",
       "\n",
       "[144 rows x 28872 columns]"
      ]
     },
     "execution_count": 16,
     "metadata": {},
     "output_type": "execute_result"
    }
   ],
   "source": [
    "%%time\n",
    "train_labels, train = rr_interval_dict_to_matrix(train, max_length_rr)\n",
    "val_labels, val = rr_interval_dict_to_matrix(val, max_length_rr)\n",
    "test_labels, test = rr_interval_dict_to_matrix(test, max_length_rr)\n",
    "train"
   ]
  },
  {
   "cell_type": "code",
   "execution_count": 17,
   "metadata": {},
   "outputs": [
    {
     "name": "stdout",
     "output_type": "stream",
     "text": [
      "CPU times: user 28 ms, sys: 0 ns, total: 28 ms\n",
      "Wall time: 26.7 ms\n"
     ]
    }
   ],
   "source": [
    "%%time\n",
    "train.insert(0, \"label\", train_labels)\n",
    "train.columns = colnames\n",
    "train[\"label\"] = train[\"label\"].astype('int32')\n",
    "\n",
    "val.insert(0, \"label\", val_labels)\n",
    "val.columns = colnames\n",
    "val[\"label\"] = val[\"label\"].astype('int32')\n",
    "\n",
    "test.insert(0, \"label\", test_labels)\n",
    "test.columns = colnames\n",
    "test[\"label\"] = test[\"label\"].astype('int32')"
   ]
  },
  {
   "cell_type": "markdown",
   "metadata": {},
   "source": [
    "To prevent information leakage, we will assume that the max length is given by the training set. If an entry in the test set it longer, we will simply drop the columns for now."
   ]
  },
  {
   "cell_type": "code",
   "execution_count": 18,
   "metadata": {},
   "outputs": [
    {
     "name": "stdout",
     "output_type": "stream",
     "text": [
      "CPU times: user 7.95 s, sys: 56 ms, total: 8 s\n",
      "Wall time: 8 s\n"
     ]
    }
   ],
   "source": [
    "%%time\n",
    "save_path_train = \"{}/preprocessed/train_spliced_complete_normalised.csv\".format(\"/\".join(data_dir.split(\"/\")[:-2]))\n",
    "save_path_val = \"{}/preprocessed/val_spliced_complete_normalised.csv\".format(\"/\".join(data_dir.split(\"/\")[:-2]))\n",
    "save_path_test = \"{}/preprocessed/test_spliced_complete_normalised.csv\".format(\"/\".join(data_dir.split(\"/\")[:-2]))\n",
    "train.to_csv(save_path_train)\n",
    "val.to_csv(save_path_val)\n",
    "test.to_csv(save_path_test)"
   ]
  },
  {
   "cell_type": "markdown",
   "metadata": {},
   "source": [
    "## RrIntervalDataset"
   ]
  },
  {
   "cell_type": "code",
   "execution_count": 2,
   "metadata": {},
   "outputs": [],
   "source": [
    "# Hyper Parameters\n",
    "N = 16\n",
    "SIZE = 5_000\n",
    "LR = 0.00002\n",
    "EPOCHS = 50\n",
    "splits = [0.8, 0.1, 0.1]\n",
    "SEED = 21\n",
    "data_dir = \"../data/age_decades/\""
   ]
  },
  {
   "cell_type": "code",
   "execution_count": 3,
   "metadata": {},
   "outputs": [],
   "source": [
    "save_path_train = \"{}/preprocessed/train_spliced_complete_normalised.csv\".format(\"/\".join(data_dir.split(\"/\")[:-2]))\n",
    "save_path_val = \"{}/preprocessed/val_spliced_complete_normalised.csv\".format(\"/\".join(data_dir.split(\"/\")[:-2]))\n",
    "save_path_test = \"{}/preprocessed/test_spliced_complete_normalised.csv\".format(\"/\".join(data_dir.split(\"/\")[:-2]))"
   ]
  },
  {
   "cell_type": "code",
   "execution_count": 4,
   "metadata": {},
   "outputs": [],
   "source": [
    "from torch.utils.data import Dataset\n",
    "import os\n",
    "\n",
    "class RrIntervalDataset(Dataset):\n",
    "    def __init__(self, path, header=True):\n",
    "        \n",
    "        self.samples = []\n",
    "        \n",
    "        with open(path, 'r') as file:\n",
    "            if header:\n",
    "                next(file)\n",
    "            for line in file:\n",
    "                self.samples.append(list(map(lambda x: float(x), line.split(\",\")[1:])))\n",
    "\n",
    "    def __len__(self):\n",
    "        return len(self.samples)\n",
    "\n",
    "    def __getitem__(self, idx):\n",
    "        return self.samples[idx]"
   ]
  },
  {
   "cell_type": "code",
   "execution_count": 5,
   "metadata": {},
   "outputs": [
    {
     "name": "stdout",
     "output_type": "stream",
     "text": [
      "CPU times: user 2.08 s, sys: 81.5 ms, total: 2.16 s\n",
      "Wall time: 2.33 s\n"
     ]
    }
   ],
   "source": [
    "%%time\n",
    "train_data = RrIntervalDataset(save_path_train)\n",
    "val_data = RrIntervalDataset(save_path_val)\n",
    "test_data = RrIntervalDataset(save_path_test)"
   ]
  },
  {
   "cell_type": "markdown",
   "metadata": {},
   "source": [
    "## RrIntervalDataLoader"
   ]
  },
  {
   "cell_type": "code",
   "execution_count": 6,
   "metadata": {},
   "outputs": [],
   "source": [
    "import torch\n",
    "def __batch2tensor__(batch):\n",
    "    \"\"\"\n",
    "    Takes a batch and transforms it in such a way that it can directly be fed to the network.\n",
    "    @param batch: List of x and y labels.\n",
    "    @return: Two tensors, one for x and one for y.\n",
    "    \"\"\"\n",
    "    #print(batch)\n",
    "    x, y = [None] * len(batch), [None] * len(batch)\n",
    "    for i, row in enumerate(batch):\n",
    "        #print(row)\n",
    "        y[i] = int(row[0])\n",
    "        x[i] = row[1:]\n",
    "\n",
    "    return torch.FloatTensor(x), torch.LongTensor(y)"
   ]
  },
  {
   "cell_type": "code",
   "execution_count": 7,
   "metadata": {},
   "outputs": [
    {
     "name": "stdout",
     "output_type": "stream",
     "text": [
      "CPU times: user 103 µs, sys: 0 ns, total: 103 µs\n",
      "Wall time: 107 µs\n"
     ]
    }
   ],
   "source": [
    "%%time\n",
    "from torch.utils.data import DataLoader\n",
    "\n",
    "# Batch size is one patient size!\n",
    "rrIntervalDataLoaderTrain = DataLoader(train_data, batch_size=N, num_workers=0, collate_fn=__batch2tensor__, shuffle=True)\n",
    "rrIntervalDataLoaderVal = DataLoader(val_data, batch_size=N, num_workers=0, collate_fn=__batch2tensor__)\n",
    "rrIntervalDataLoaderTest = DataLoader(test_data, batch_size=N, num_workers=0, collate_fn=__batch2tensor__)"
   ]
  },
  {
   "cell_type": "markdown",
   "metadata": {},
   "source": [
    "## Model Playground"
   ]
  },
  {
   "cell_type": "markdown",
   "metadata": {},
   "source": [
    "Input: $N, C_{in}, L_{in}$\n",
    "\n",
    "Output: $N, C_{out} , L_{out}$\n",
    "\n",
    "where $N$ is a batch size, $C$ denotes a number of channels, $L$ is a length of signal sequence."
   ]
  },
  {
   "cell_type": "code",
   "execution_count": 8,
   "metadata": {},
   "outputs": [
    {
     "data": {
      "text/plain": [
       "torch.Size([2, 16, 50])"
      ]
     },
     "execution_count": 8,
     "metadata": {},
     "output_type": "execute_result"
    }
   ],
   "source": [
    "import torch.nn as nn\n",
    "# IN: N, C, L\n",
    "input = torch.randn(2, 16, 50)\n",
    "input.shape"
   ]
  },
  {
   "cell_type": "code",
   "execution_count": 9,
   "metadata": {},
   "outputs": [
    {
     "data": {
      "text/plain": [
       "tensor([[[ 6.6204e-01, -1.1276e+00, -2.0253e-01,  ..., -1.1063e+00,\n",
       "          -7.6556e-01, -4.3073e-01],\n",
       "         [ 9.1056e-01,  7.5702e-01,  1.7823e+00,  ..., -1.1618e+00,\n",
       "           1.1027e+00, -8.6956e-01],\n",
       "         [ 4.6264e-02,  1.0335e+00, -2.6919e-01,  ..., -8.7824e-01,\n",
       "           4.2216e-01, -6.0637e-01],\n",
       "         ...,\n",
       "         [ 2.4385e-01,  1.1966e-01,  4.4147e-01,  ...,  1.7008e+00,\n",
       "          -7.8863e-02, -5.1000e-01],\n",
       "         [ 8.7123e-01,  6.9137e-01, -5.8986e-01,  ...,  1.0269e+00,\n",
       "           1.5926e+00,  1.5916e+00],\n",
       "         [-2.6980e-01, -2.6446e-02,  2.1084e+00,  ..., -9.5623e-02,\n",
       "          -6.4640e-01,  6.8664e-01]],\n",
       "\n",
       "        [[ 1.4661e+00, -4.6784e-01, -2.4238e+00,  ...,  1.3585e+00,\n",
       "           8.3804e-01, -2.7835e-01],\n",
       "         [ 1.4599e+00,  8.3109e-01,  2.4164e-02,  ...,  6.5441e-01,\n",
       "           8.3070e-01,  1.5584e+00],\n",
       "         [-1.5218e+00, -1.3948e+00, -5.6326e-01,  ..., -9.9017e-01,\n",
       "          -1.8075e+00, -1.2617e+00],\n",
       "         ...,\n",
       "         [ 3.0921e-01,  1.1490e+00, -1.2095e-01,  ...,  6.1901e-01,\n",
       "           1.3694e+00,  2.8179e-01],\n",
       "         [ 4.0193e-02,  1.0458e+00,  1.0203e-01,  ..., -2.6497e-01,\n",
       "           9.9766e-01,  6.2528e-01],\n",
       "         [-9.7298e-01,  5.6025e-01,  1.7121e+00,  ...,  2.4732e+00,\n",
       "           3.7202e-01, -1.6907e-03]]])"
      ]
     },
     "execution_count": 9,
     "metadata": {},
     "output_type": "execute_result"
    }
   ],
   "source": [
    "input"
   ]
  },
  {
   "cell_type": "code",
   "execution_count": 10,
   "metadata": {},
   "outputs": [
    {
     "data": {
      "text/plain": [
       "torch.Size([2, 33, 24])"
      ]
     },
     "execution_count": 10,
     "metadata": {},
     "output_type": "execute_result"
    }
   ],
   "source": [
    "#in_channels, out_channels, kernel_size\n",
    "m = nn.Conv1d(16, 33, 3, stride=2)\n",
    "output = m(input)\n",
    "output.shape"
   ]
  },
  {
   "cell_type": "code",
   "execution_count": 11,
   "metadata": {},
   "outputs": [],
   "source": [
    "# target output size of 5\n",
    "m = nn.AdaptiveMaxPool1d(5)\n",
    "input = torch.randn(1, 64, 8)\n",
    "output = m(input)"
   ]
  },
  {
   "cell_type": "code",
   "execution_count": 12,
   "metadata": {},
   "outputs": [
    {
     "data": {
      "text/plain": [
       "torch.Size([1, 64, 5])"
      ]
     },
     "execution_count": 12,
     "metadata": {},
     "output_type": "execute_result"
    }
   ],
   "source": [
    "output.shape"
   ]
  },
  {
   "cell_type": "markdown",
   "metadata": {},
   "source": [
    "## Model Definition"
   ]
  },
  {
   "cell_type": "code",
   "execution_count": 13,
   "metadata": {},
   "outputs": [
    {
     "data": {
      "text/plain": [
       "tensor([[-0.4545, -0.4545, -0.7451,  ...,  0.0000,  0.0000,  0.0000],\n",
       "        [ 0.1157, -0.4521, -0.7141,  ...,  0.0000,  0.0000,  0.0000],\n",
       "        [ 0.5867,  0.4080,  0.4974,  ...,  0.0000,  0.0000,  0.0000],\n",
       "        ...,\n",
       "        [-0.4674, -0.7861, -0.4674,  ...,  0.0000,  0.0000,  0.0000],\n",
       "        [ 0.4200,  0.0978,  0.3126,  ...,  0.0000,  0.0000,  0.0000],\n",
       "        [ 0.7197,  0.8868,  0.9703,  ...,  0.0000,  0.0000,  0.0000]])"
      ]
     },
     "execution_count": 13,
     "metadata": {},
     "output_type": "execute_result"
    }
   ],
   "source": [
    "###### import torch.nn as nn\n",
    "\n",
    "class CnnStage(nn.Module):\n",
    "    def __init__(self, avg_sequence_length=25_000, dropout=0.5, no_classes=7):\n",
    "        super().__init__()\n",
    "\n",
    "        # Dropout\n",
    "        # Maybe for CNN, check literature\n",
    "        self.dropout = nn.Dropout(p=dropout)\n",
    "        \n",
    "        # Convolutions\n",
    "        #in_channels, out_channels, kernel_size\n",
    "        self.conv1d1 = nn.Conv1d(1, 64, 3, stride=1)\n",
    "        self.conv1d2 = nn.Conv1d(64, 64, 3, stride=1)\n",
    "        \n",
    "        self.conv1d3 = nn.Conv1d(64, 128, 3, stride=1)\n",
    "        self.conv1d4 = nn.Conv1d(128, 128, 3, stride=1)\n",
    "        \n",
    "        # Forward // Don't how to _not_ hardcode this...\n",
    "        self.fc1 = nn.Linear(21120, 256)\n",
    "        self.fc2 = nn.Linear(256, no_classes)\n",
    "        \n",
    "        # Activation\n",
    "        self.relu = nn.ReLU()\n",
    "\n",
    "        # Pooling\n",
    "        ## MaxPool\n",
    "        self.maxpool = nn.AdaptiveMaxPool1d(avg_sequence_length//10)\n",
    "        ## Average\n",
    "        self.avgpool = torch.nn.AvgPool1d(3)\n",
    "        \n",
    "        # Softmax\n",
    "        self.softmax = nn.LogSoftmax(dim=1)\n",
    "        \n",
    "    def forward(self, x):\n",
    "        # Pass the input tensor through each of our operations\n",
    "        \n",
    "        # CNN\n",
    "        x = x.view(x.shape[0], -1, x.shape[1])\n",
    "        x = self.conv1d1(x)\n",
    "        x = self.relu(x)\n",
    "        x = self.conv1d2(x)\n",
    "        x = self.maxpool(x)\n",
    "        x = self.conv1d3(x)\n",
    "        x = self.relu(x)\n",
    "        x = self.conv1d4(x)\n",
    "        x = self.avgpool(x)\n",
    "        x = x.view(x.shape[0], -1)\n",
    "        \n",
    "        # FFN\n",
    "        x = self.dropout(x)\n",
    "        x = self.fc1(x)\n",
    "        x = self.dropout(x)\n",
    "        x = self.fc2(x)\n",
    "        x = self.softmax(x)\n",
    "        \n",
    "        return x\n",
    "    \n",
    "model = CnnStage(SIZE, no_classes=7).cuda()\n",
    "X, Y = next(iter(rrIntervalDataLoaderTrain))\n",
    "X"
   ]
  },
  {
   "cell_type": "code",
   "execution_count": 16,
   "metadata": {},
   "outputs": [
    {
     "data": {
      "text/plain": [
       "torch.Size([16, 7])"
      ]
     },
     "execution_count": 16,
     "metadata": {},
     "output_type": "execute_result"
    }
   ],
   "source": [
    "model(X.cuda()).shape"
   ]
  },
  {
   "cell_type": "code",
   "execution_count": null,
   "metadata": {},
   "outputs": [],
   "source": []
  },
  {
   "cell_type": "markdown",
   "metadata": {},
   "source": [
    "## Training"
   ]
  },
  {
   "cell_type": "code",
   "execution_count": 15,
   "metadata": {},
   "outputs": [],
   "source": [
    "optimizer = torch.optim.Adam(model.parameters(), lr=LR)\n",
    "criterion = torch.nn.NLLLoss()"
   ]
  },
  {
   "cell_type": "code",
   "execution_count": 15,
   "metadata": {},
   "outputs": [
    {
     "name": "stdout",
     "output_type": "stream",
     "text": [
      "Epoch: 1\n",
      "Training Loss: 0.12189837793509166\n",
      "Training Accuracy: 0.1597222222222222\n",
      "Validation Loss: 0.21468693017959595\n",
      "Validation Accuracy: 0.1111111111111111\n",
      "Epoch: 2\n",
      "Training Loss: 0.11954177998834187\n",
      "Training Accuracy: 0.2361111111111111\n",
      "Validation Loss: 0.22003555297851562\n",
      "Validation Accuracy: 0.05555555555555555\n",
      "Epoch: 3\n",
      "Training Loss: 0.11948815898762809\n",
      "Training Accuracy: 0.2361111111111111\n",
      "Validation Loss: 0.22152049011654323\n",
      "Validation Accuracy: 0.05555555555555555\n",
      "Epoch: 4\n",
      "Training Loss: 0.11806401196453306\n",
      "Training Accuracy: 0.2013888888888889\n",
      "Validation Loss: 0.2190989785724216\n",
      "Validation Accuracy: 0.05555555555555555\n",
      "Epoch: 5\n",
      "Training Loss: 0.11736035429769093\n",
      "Training Accuracy: 0.2013888888888889\n",
      "Validation Loss: 0.21844780445098877\n",
      "Validation Accuracy: 0.05555555555555555\n",
      "Epoch: 6\n",
      "Training Loss: 0.1163056997789277\n",
      "Training Accuracy: 0.20833333333333334\n",
      "Validation Loss: 0.21739043129814994\n",
      "Validation Accuracy: 0.05555555555555555\n",
      "Epoch: 7\n",
      "Training Loss: 0.1156199864215321\n",
      "Training Accuracy: 0.2777777777777778\n",
      "Validation Loss: 0.21713932355244955\n",
      "Validation Accuracy: 0.05555555555555555\n",
      "Epoch: 8\n",
      "Training Loss: 0.11498228046629164\n",
      "Training Accuracy: 0.24305555555555555\n",
      "Validation Loss: 0.21583405468198988\n",
      "Validation Accuracy: 0.05555555555555555\n",
      "Epoch: 9\n",
      "Training Loss: 0.11352262977096769\n",
      "Training Accuracy: 0.3055555555555556\n",
      "Validation Loss: 0.21721547842025757\n",
      "Validation Accuracy: 0.0\n",
      "Epoch: 10\n",
      "Training Loss: 0.11302770839797126\n",
      "Training Accuracy: 0.2777777777777778\n",
      "Validation Loss: 0.2192831966612074\n",
      "Validation Accuracy: 0.0\n",
      "Epoch: 11\n",
      "Training Loss: 0.11104736891057757\n",
      "Training Accuracy: 0.2916666666666667\n",
      "Validation Loss: 0.21972961558236015\n",
      "Validation Accuracy: 0.05555555555555555\n",
      "Epoch: 12\n",
      "Training Loss: 0.10980494982666439\n",
      "Training Accuracy: 0.3263888888888889\n",
      "Validation Loss: 0.22168335649702284\n",
      "Validation Accuracy: 0.0\n",
      "Epoch: 13\n",
      "Training Loss: 0.10812974969546\n",
      "Training Accuracy: 0.3819444444444444\n",
      "Validation Loss: 0.21849112378226387\n",
      "Validation Accuracy: 0.0\n",
      "Epoch: 14\n",
      "Training Loss: 0.10646363264984554\n",
      "Training Accuracy: 0.3958333333333333\n",
      "Validation Loss: 0.21809356080161202\n",
      "Validation Accuracy: 0.05555555555555555\n",
      "Epoch: 15\n",
      "Training Loss: 0.10474206424421734\n",
      "Training Accuracy: 0.4375\n",
      "Validation Loss: 0.2183359464009603\n",
      "Validation Accuracy: 0.1111111111111111\n",
      "Epoch: 16\n",
      "Training Loss: 0.10203173425462511\n",
      "Training Accuracy: 0.4236111111111111\n",
      "Validation Loss: 0.21946026219262016\n",
      "Validation Accuracy: 0.05555555555555555\n",
      "Epoch: 17\n",
      "Training Loss: 0.09968644711706373\n",
      "Training Accuracy: 0.4930555555555556\n",
      "Validation Loss: 0.22254277600182426\n",
      "Validation Accuracy: 0.0\n",
      "Epoch: 18\n",
      "Training Loss: 0.09838524378008312\n",
      "Training Accuracy: 0.4861111111111111\n",
      "Validation Loss: 0.2198645273844401\n",
      "Validation Accuracy: 0.05555555555555555\n",
      "Epoch: 19\n",
      "Training Loss: 0.0946758861343066\n",
      "Training Accuracy: 0.5347222222222222\n",
      "Validation Loss: 0.21677064895629883\n",
      "Validation Accuracy: 0.05555555555555555\n",
      "Epoch: 20\n",
      "Training Loss: 0.09323089321454366\n",
      "Training Accuracy: 0.5416666666666666\n",
      "Validation Loss: 0.22940193282233345\n",
      "Validation Accuracy: 0.1111111111111111\n",
      "Epoch: 21\n",
      "Training Loss: 0.08924407180812624\n",
      "Training Accuracy: 0.5277777777777778\n",
      "Validation Loss: 0.2281888723373413\n",
      "Validation Accuracy: 0.1111111111111111\n",
      "Epoch: 22\n",
      "Training Loss: 0.08747019618749619\n",
      "Training Accuracy: 0.5555555555555556\n",
      "Validation Loss: 0.22053911288579306\n",
      "Validation Accuracy: 0.1111111111111111\n",
      "Epoch: 23\n",
      "Training Loss: 0.08302920891178979\n",
      "Training Accuracy: 0.6597222222222222\n",
      "Validation Loss: 0.2206878595881992\n",
      "Validation Accuracy: 0.1111111111111111\n",
      "Epoch: 24\n",
      "Training Loss: 0.07928045094013214\n",
      "Training Accuracy: 0.6597222222222222\n",
      "Validation Loss: 0.2292870349354214\n",
      "Validation Accuracy: 0.1111111111111111\n",
      "Epoch: 25\n",
      "Training Loss: 0.07787505288918813\n",
      "Training Accuracy: 0.6527777777777778\n",
      "Validation Loss: 0.2325876752535502\n",
      "Validation Accuracy: 0.1111111111111111\n",
      "Epoch: 26\n",
      "Training Loss: 0.07535771901408832\n",
      "Training Accuracy: 0.7083333333333334\n",
      "Validation Loss: 0.23471205764346653\n",
      "Validation Accuracy: 0.1111111111111111\n",
      "Epoch: 27\n",
      "Training Loss: 0.07329967286851671\n",
      "Training Accuracy: 0.7013888888888888\n",
      "Validation Loss: 0.23274685939153036\n",
      "Validation Accuracy: 0.1111111111111111\n",
      "Epoch: 28\n",
      "Training Loss: 0.06974105826682514\n",
      "Training Accuracy: 0.7152777777777778\n",
      "Validation Loss: 0.24275575743781197\n",
      "Validation Accuracy: 0.1111111111111111\n",
      "Epoch: 29\n",
      "Training Loss: 0.06605209451582697\n",
      "Training Accuracy: 0.7291666666666666\n",
      "Validation Loss: 0.24291355080074734\n",
      "Validation Accuracy: 0.1111111111111111\n",
      "Epoch: 30\n",
      "Training Loss: 0.06419170565075344\n",
      "Training Accuracy: 0.7291666666666666\n",
      "Validation Loss: 0.2558858394622803\n",
      "Validation Accuracy: 0.1111111111111111\n",
      "Epoch: 31\n",
      "Training Loss: 0.06208984346853362\n",
      "Training Accuracy: 0.7638888888888888\n",
      "Validation Loss: 0.2583196692996555\n",
      "Validation Accuracy: 0.1111111111111111\n",
      "Epoch: 32\n",
      "Training Loss: 0.059077137460311256\n",
      "Training Accuracy: 0.7638888888888888\n",
      "Validation Loss: 0.2491730981402927\n",
      "Validation Accuracy: 0.1111111111111111\n",
      "Epoch: 33\n",
      "Training Loss: 0.054080249120791755\n",
      "Training Accuracy: 0.7847222222222222\n",
      "Validation Loss: 0.2703545888264974\n",
      "Validation Accuracy: 0.1111111111111111\n",
      "Epoch: 34\n",
      "Training Loss: 0.05140942624873585\n",
      "Training Accuracy: 0.7847222222222222\n",
      "Validation Loss: 0.2726021607716878\n",
      "Validation Accuracy: 0.1111111111111111\n",
      "Epoch: 35\n",
      "Training Loss: 0.05045946853028403\n",
      "Training Accuracy: 0.8125\n",
      "Validation Loss: 0.2710560162862142\n",
      "Validation Accuracy: 0.1111111111111111\n",
      "Epoch: 36\n",
      "Training Loss: 0.04590111018882857\n",
      "Training Accuracy: 0.8055555555555556\n",
      "Validation Loss: 0.27221447891659206\n",
      "Validation Accuracy: 0.05555555555555555\n",
      "Epoch: 37\n",
      "Training Loss: 0.04558406107955509\n",
      "Training Accuracy: 0.8055555555555556\n",
      "Validation Loss: 0.29186952114105225\n",
      "Validation Accuracy: 0.05555555555555555\n",
      "Epoch: 38\n",
      "Training Loss: 0.04324749236305555\n",
      "Training Accuracy: 0.8263888888888888\n",
      "Validation Loss: 0.2928579913245307\n",
      "Validation Accuracy: 0.1111111111111111\n",
      "Epoch: 39\n",
      "Training Loss: 0.04131814796063635\n",
      "Training Accuracy: 0.8263888888888888\n",
      "Validation Loss: 0.2906361023585002\n",
      "Validation Accuracy: 0.05555555555555555\n",
      "Epoch: 40\n",
      "Training Loss: 0.03890726053052478\n",
      "Training Accuracy: 0.8472222222222222\n",
      "Validation Loss: 0.29831022686428493\n",
      "Validation Accuracy: 0.05555555555555555\n",
      "Epoch: 41\n",
      "Training Loss: 0.03846185406049093\n",
      "Training Accuracy: 0.8402777777777778\n",
      "Validation Loss: 0.3090904686186049\n",
      "Validation Accuracy: 0.1111111111111111\n",
      "Epoch: 42\n",
      "Training Loss: 0.035127626525031194\n",
      "Training Accuracy: 0.8819444444444444\n",
      "Validation Loss: 0.2968054215113322\n",
      "Validation Accuracy: 0.1111111111111111\n",
      "Epoch: 43\n",
      "Training Loss: 0.031134033782614604\n",
      "Training Accuracy: 0.9027777777777778\n",
      "Validation Loss: 0.31039853890736896\n",
      "Validation Accuracy: 0.05555555555555555\n",
      "Epoch: 44\n",
      "Training Loss: 0.03149502786497275\n",
      "Training Accuracy: 0.8819444444444444\n",
      "Validation Loss: 0.32600508795844185\n",
      "Validation Accuracy: 0.1111111111111111\n",
      "Epoch: 45\n",
      "Training Loss: 0.03105178413291772\n",
      "Training Accuracy: 0.8611111111111112\n",
      "Validation Loss: 0.32885461383395725\n",
      "Validation Accuracy: 0.1111111111111111\n",
      "Epoch: 46\n",
      "Training Loss: 0.02619498347242673\n",
      "Training Accuracy: 0.9097222222222222\n",
      "Validation Loss: 0.3267916705873277\n",
      "Validation Accuracy: 0.1111111111111111\n",
      "Epoch: 47\n",
      "Training Loss: 0.02360942607952489\n",
      "Training Accuracy: 0.9444444444444444\n",
      "Validation Loss: 0.34226277139451766\n",
      "Validation Accuracy: 0.1111111111111111\n",
      "Epoch: 48\n",
      "Training Loss: 0.023759179541634187\n",
      "Training Accuracy: 0.9305555555555556\n",
      "Validation Loss: 0.3460453351338704\n",
      "Validation Accuracy: 0.1111111111111111\n",
      "Epoch: 49\n",
      "Training Loss: 0.02131908397293753\n",
      "Training Accuracy: 0.9444444444444444\n",
      "Validation Loss: 0.3442827992969089\n",
      "Validation Accuracy: 0.1111111111111111\n",
      "Epoch: 50\n",
      "Training Loss: 0.02249657880100939\n",
      "Training Accuracy: 0.9305555555555556\n",
      "Validation Loss: 0.3645062843958537\n",
      "Validation Accuracy: 0.1111111111111111\n"
     ]
    }
   ],
   "source": [
    "training_loss_storage = []\n",
    "training_accuracy_storage = []\n",
    "validation_loss_storage = []\n",
    "validation_accuracy_storage = []\n",
    "\n",
    "for i in range(EPOCHS):\n",
    "    \n",
    "    print(\"Epoch: {}\".format(i+1))\n",
    "    \n",
    "    training_loss = 0\n",
    "    training_accuracy = 0\n",
    "    training_processed_data = 0\n",
    "    \n",
    "    for x, y in rrIntervalDataLoaderTrain:\n",
    "        x = x.cuda()\n",
    "        y = y.cuda()\n",
    "        \n",
    "        # Reset Gradients\n",
    "        optimizer.zero_grad()\n",
    "\n",
    "        # Forward, Loss, Backwards, Update\n",
    "        output = model(x)\n",
    "        loss = criterion(output, y)\n",
    "        loss.backward()\n",
    "        optimizer.step()\n",
    "        \n",
    "        training_processed_data += x.shape[0]\n",
    "\n",
    "        # Calculate Metrics\n",
    "        training_loss += loss.item()\n",
    "        training_accuracy += torch.sum(torch.exp(output).topk(1)[1].view(-1) == y).item()\n",
    "    \n",
    "    else:\n",
    "        print(\"Training Loss: {}\".format(training_loss/training_processed_data))\n",
    "        print(\"Training Accuracy: {}\".format(training_accuracy/training_processed_data))\n",
    "        \n",
    "        training_loss_storage.append(training_loss/training_processed_data)\n",
    "        training_accuracy_storage.append(training_accuracy/training_processed_data)\n",
    "        \n",
    "        validation_loss = 0\n",
    "        validation_accuracy = 0\n",
    "        validation_processed_data = 0\n",
    "\n",
    "        model.eval()\n",
    "\n",
    "        with torch.no_grad():\n",
    "            for x, y in rrIntervalDataLoaderVal:\n",
    "                x = x.cuda()\n",
    "                y = y.cuda()\n",
    "\n",
    "                output_validation = model(x)\n",
    "                loss_val = criterion(output_validation, y)\n",
    "                \n",
    "                validation_processed_data += x.shape[0]\n",
    "                \n",
    "                validation_loss += loss_val.item()\n",
    "                validation_accuracy += torch.sum(\n",
    "                    torch.exp(output_validation).topk(1, dim=1)[1].view(-1) == y).item()\n",
    "            else:\n",
    "                print(\"Validation Loss: {}\".format(validation_loss/validation_processed_data))\n",
    "                print(\"Validation Accuracy: {}\".format(validation_accuracy/validation_processed_data))\n",
    "                \n",
    "                validation_loss_storage.append(validation_loss/validation_processed_data)\n",
    "                validation_accuracy_storage.append(validation_accuracy/validation_processed_data)\n",
    "                \n",
    "                model.train()\n",
    "                "
   ]
  },
  {
   "cell_type": "markdown",
   "metadata": {},
   "source": [
    "True label:"
   ]
  },
  {
   "cell_type": "code",
   "execution_count": 16,
   "metadata": {},
   "outputs": [],
   "source": [
    "X, Y = next(iter(rrIntervalDataLoaderVal))\n",
    "res = model(X.cuda()).cpu()"
   ]
  },
  {
   "cell_type": "code",
   "execution_count": 17,
   "metadata": {},
   "outputs": [],
   "source": [
    "import numpy as np\n",
    "import matplotlib.pyplot as plt"
   ]
  },
  {
   "cell_type": "code",
   "execution_count": 18,
   "metadata": {},
   "outputs": [
    {
     "data": {
      "image/png": "[encoded data removed]",
      "text/plain": [
       "<Figure size 432x288 with 1 Axes>"
      ]
     },
     "metadata": {
      "needs_background": "light"
     },
     "output_type": "display_data"
    }
   ],
   "source": [
    "index = 5\n",
    "true_label = int(Y[index])\n",
    "posterior = np.array(torch.exp(res[index]).detach().cpu())\n",
    "plt.bar(range(7), posterior);\n",
    "plt.title(f'True Label: {true_label}');"
   ]
  },
  {
   "cell_type": "code",
   "execution_count": 19,
   "metadata": {},
   "outputs": [],
   "source": [
    "import matplotlib.pyplot as plt\n",
    "%matplotlib inline\n",
    "plt.rcParams['figure.dpi']= 160"
   ]
  },
  {
   "cell_type": "code",
   "execution_count": 20,
   "metadata": {},
   "outputs": [
    {
     "data": {
      "image/png": "[encoded data removed]",
      "text/plain": [
       "<Figure size 960x640 with 1 Axes>"
      ]
     },
     "metadata": {
      "needs_background": "light"
     },
     "output_type": "display_data"
    }
   ],
   "source": [
    "plt.plot(range(len(training_loss_storage)), training_loss_storage, label=\"Training Loss\");\n",
    "plt.plot(range(len(validation_loss_storage)), validation_loss_storage, label=\"Validation Loss\");\n",
    "plt.legend()\n",
    "plt.ylabel('Loss');\n",
    "plt.xlabel('Epoch');\n",
    "plt.title('Loss during training');"
   ]
  },
  {
   "cell_type": "code",
   "execution_count": 21,
   "metadata": {},
   "outputs": [
    {
     "data": {
      "image/png": "[encoded data removed]",
      "text/plain": [
       "<Figure size 960x640 with 1 Axes>"
      ]
     },
     "metadata": {
      "needs_background": "light"
     },
     "output_type": "display_data"
    }
   ],
   "source": [
    "plt.plot(range(len(training_accuracy_storage)), training_accuracy_storage, label=\"Training Accuracy\");\n",
    "plt.plot(range(len(validation_accuracy_storage)), validation_accuracy_storage, label=\"Validation Accuracy\");\n",
    "plt.legend()\n",
    "plt.ylabel('Accuracy');\n",
    "plt.xlabel('Epoch');\n",
    "plt.title('Accuracy during training');"
   ]
  },
  {
   "cell_type": "markdown",
   "metadata": {},
   "source": [
    "## Testing"
   ]
  },
  {
   "cell_type": "markdown",
   "metadata": {},
   "source": [
    "**This code only works if the data sets are not shuffled!!!**"
   ]
  },
  {
   "cell_type": "code",
   "execution_count": 22,
   "metadata": {},
   "outputs": [],
   "source": [
    "def distrib(predictions, classes=7):\n",
    "    res = [0]*classes\n",
    "    \n",
    "    for pred in predictions:\n",
    "        res[pred] += 1\n",
    "    return res"
   ]
  },
  {
   "cell_type": "code",
   "execution_count": 23,
   "metadata": {},
   "outputs": [],
   "source": [
    "def classify_with_probs(dataLoader):\n",
    "    \n",
    "    matches = []\n",
    "    model.eval()\n",
    "    \n",
    "    for x, y in dataLoader:\n",
    "        \n",
    "        y_hat = model(x.cuda()).cpu()\n",
    "        y_hat = np.array(torch.exp(y_hat).detach().numpy())\n",
    "        y_hat = np.argmax(np.sum(y_hat, axis=0))\n",
    "        matches.append(np.argmax(y_hat) == np.array(y[0]))\n",
    "        \n",
    "    model.train()\n",
    "    \n",
    "    return matches"
   ]
  },
  {
   "cell_type": "code",
   "execution_count": 26,
   "metadata": {},
   "outputs": [],
   "source": [
    "def classify(dataLoader):\n",
    "    \n",
    "    matches = []\n",
    "    model.eval()\n",
    "    \n",
    "    for x, y in dataLoader:\n",
    "\n",
    "        y_hat = model(x.cuda()).cpu()\n",
    "        y_hat = distrib(np.array(torch.exp(y_hat).topk(1, dim=1)[1].view(-1)), classes=7)\n",
    "        matches.append(np.argmax(y_hat) == y[0])\n",
    "  \n",
    "    model.train()\n",
    "    \n",
    "    return matches"
   ]
  },
  {
   "cell_type": "code",
   "execution_count": 27,
   "metadata": {},
   "outputs": [
    {
     "data": {
      "text/plain": [
       "0.0"
      ]
     },
     "execution_count": 27,
     "metadata": {},
     "output_type": "execute_result"
    }
   ],
   "source": [
    "np.mean(classify(rrIntervalDataLoaderVal))"
   ]
  },
  {
   "cell_type": "code",
   "execution_count": 28,
   "metadata": {},
   "outputs": [
    {
     "data": {
      "text/plain": [
       "0.0"
      ]
     },
     "execution_count": 28,
     "metadata": {},
     "output_type": "execute_result"
    }
   ],
   "source": [
    "np.mean(classify_with_probs(rrIntervalDataLoaderVal))"
   ]
  },
  {
   "cell_type": "code",
   "execution_count": 29,
   "metadata": {},
   "outputs": [
    {
     "data": {
      "text/plain": [
       "0.5"
      ]
     },
     "execution_count": 29,
     "metadata": {},
     "output_type": "execute_result"
    }
   ],
   "source": [
    "np.mean(classify(rrIntervalDataLoaderTest))"
   ]
  },
  {
   "cell_type": "code",
   "execution_count": 30,
   "metadata": {},
   "outputs": [
    {
     "data": {
      "text/plain": [
       "0.0"
      ]
     },
     "execution_count": 30,
     "metadata": {},
     "output_type": "execute_result"
    }
   ],
   "source": [
    "np.mean(classify_with_probs(rrIntervalDataLoaderTest))"
   ]
  },
  {
   "cell_type": "code",
   "execution_count": null,
   "metadata": {},
   "outputs": [],
   "source": []
  },
  {
   "cell_type": "code",
   "execution_count": null,
   "metadata": {},
   "outputs": [],
   "source": []
  }
 ],
 "metadata": {
  "kernelspec": {
   "display_name": "Python 3",
   "language": "python",
   "name": "python3"
  },
  "language_info": {
   "codemirror_mode": {
    "name": "ipython",
    "version": 3
   },
   "file_extension": ".py",
   "mimetype": "text/x-python",
   "name": "python",
   "nbconvert_exporter": "python",
   "pygments_lexer": "ipython3",
   "version": "3.6.10"
  }
 },
 "nbformat": 4,
 "nbformat_minor": 4
}
