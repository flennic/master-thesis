{
 "cells": [
  {
   "cell_type": "code",
   "execution_count": null,
   "metadata": {},
   "outputs": [],
   "source": [
    "import os\n",
    "import subprocess\n",
    "import numpy as np\n",
    "import pandas as pd"
   ]
  },
  {
   "cell_type": "code",
   "execution_count": null,
   "metadata": {},
   "outputs": [],
   "source": [
    "!ls /home/flennic/Downloads/physionet.org/files/crisdb/1.0.0/ | head"
   ]
  },
  {
   "cell_type": "code",
   "execution_count": null,
   "metadata": {},
   "outputs": [],
   "source": [
    "# Hyper Parameters\n",
    "N = 400\n",
    "SIZE = 5_000\n",
    "LR = 0.0001\n",
    "EPOCHS = 3\n",
    "splits = [0.8, 0.1, 0.1]\n",
    "SEED = 21\n",
    "TAKE = 0.5\n",
    "sigma_outlier = 2\n",
    "data_dir_out = \"../data/age_decades/\"\n",
    "data_dir = \"/home/flennic/Downloads/physionet.org/files/crisdb/1.0.0/\"\n",
    "subdirs = [\"e/\", \"f/\", \"m/\"]"
   ]
  },
  {
   "cell_type": "code",
   "execution_count": null,
   "metadata": {},
   "outputs": [],
   "source": [
    "def extract_header_information(path):\n",
    "    with open(path, \"r\") as file:\n",
    "        \n",
    "        content = file.read()\n",
    "        start, end = 0, 0\n",
    "        \n",
    "        while content.find(\">\", end) != -1:\n",
    "\n",
    "            start = content.find(\">\", end)\n",
    "            end = content.find(\"<\", start)\n",
    "            value = content[start+2:end-2].strip()\n",
    "            \n",
    "            if value[-1] == \",\":\n",
    "                value = value[0:-1]\n",
    "            \n",
    "            if value.find(\"#\") != -1:\n",
    "                value = value.split(\"#\")[0]\n",
    "            \n",
    "            yield value"
   ]
  },
  {
   "cell_type": "code",
   "execution_count": null,
   "metadata": {},
   "outputs": [],
   "source": [
    "path = data_dir + \"e/\" + \"e238a.hea\"\n",
    "for value in extract_header_information(path):\n",
    "    print(value)"
   ]
  },
  {
   "cell_type": "code",
   "execution_count": null,
   "metadata": {},
   "outputs": [],
   "source": [
    "%%time\n",
    "\n",
    "all_recordings = []\n",
    "\n",
    "for medicationdir in subdirs:\n",
    "    \n",
    "    print(f\"Parsing {medicationdir} directory...\")\n",
    "    \n",
    "    basedir = data_dir + medicationdir\n",
    "    recordings = list(set([filename.split(\".\")[0] for filename in os.listdir(basedir) if len(filename.split(\".\")) == 2 and filename.find(\"index\") == -1]))\n",
    "    \n",
    "    for i, recording in enumerate(recordings):\n",
    "        \n",
    "        # Status\n",
    "        print(str(round(i/len(recordings)*100, 2)) + \"%\", end=\"\\r\")\n",
    "        \n",
    "        entry = {}\n",
    "        \n",
    "        # Filename\n",
    "        entry[\"name\"] = recording[1:4]\n",
    "        entry[\"medication\"] = recording[0]\n",
    "        entry[\"treatment\"] = recording[4] == \"b\"\n",
    "        \n",
    "        # Header\n",
    "        header_information = [value for value in extract_header_information(basedir + recording + \".hea\")]\n",
    "        entry[\"age\"] = header_information[0]\n",
    "        entry[\"gender\"] = header_information[1]\n",
    "        \n",
    "        try:\n",
    "            entry[\"rrlow\"] = int(float(header_information[3]) * 1000)\n",
    "        except ValueError:\n",
    "            entry[\"rrlow\"] = None\n",
    "        \n",
    "        try:\n",
    "            entry[\"rrhigh\"] = int(float(header_information[4]) * 1000)\n",
    "        except ValueError:\n",
    "            entry[\"rrhigh\"] = None\n",
    "        \n",
    "        # Recording\n",
    "        rrintervals = subprocess.check_output([\"ann2rr\", \"-r\", recording, \"-a\", \"atr\", \"-i\", \"s\"], cwd=basedir).splitlines()\n",
    "        rrintervals = np.array([int(float(value)*1000) for value in rrintervals], dtype=object)\n",
    "        rrintervals = rrintervals[1:]\n",
    "\n",
    "        try:\n",
    "            rrintervals[(rrintervals > entry[\"rrhigh\"]) | (rrintervals < entry[\"rrlow\"])] = np.nan\n",
    "        except TypeError:\n",
    "            rrintervals[abs(rrintervals - np.mean(rrintervals)) < sigma_outlier * np.std(rrintervals)] = np.nan\n",
    "\n",
    "        #print(\"Parsing\")\n",
    "        entry[\"Series\"] = pd.DataFrame({\"ContractionNoNorm\": list(range(len(rrintervals))), \"RrInterval\": rrintervals})\n",
    "\n",
    "        all_recordings.append(entry)"
   ]
  },
  {
   "cell_type": "code",
   "execution_count": null,
   "metadata": {},
   "outputs": [],
   "source": [
    "len(all_recordings)"
   ]
  },
  {
   "cell_type": "code",
   "execution_count": null,
   "metadata": {},
   "outputs": [],
   "source": [
    "all_recordings[0][\"Series\"]"
   ]
  },
  {
   "cell_type": "code",
   "execution_count": null,
   "metadata": {},
   "outputs": [],
   "source": [
    "def splice_random(series, n=100, size=500, sigma=50):\n",
    "    cap = len(series) - size\n",
    "    starts = np.random.randint(cap, size=n)\n",
    "    ends = [max(min(round(np.random.normal(start+size, sigma)), cap+size), start+1) for start in starts]\n",
    "    splices = [series.iloc[start:end,] for start, end in zip(starts, ends)]\n",
    "    return splices"
   ]
  },
  {
   "cell_type": "code",
   "execution_count": null,
   "metadata": {},
   "outputs": [],
   "source": [
    "def splice_constant(series, n=48):\n",
    "    return np.array_split(series, n)"
   ]
  },
  {
   "cell_type": "code",
   "execution_count": null,
   "metadata": {},
   "outputs": [],
   "source": [
    "def splice_rr_intervals_constant(rr_intervals, n=48):\n",
    "    \n",
    "    spliced_recordings = []\n",
    "    \n",
    "    for recording in rr_intervals:\n",
    "        # List of data frames\n",
    "        splices = splice_constant(recording[\"Series\"], n=n)\n",
    "        \n",
    "        for splice in splices:\n",
    "            recording_copy = recording.copy()\n",
    "            recording_copy[\"Series\"] = splice\n",
    "            spliced_recordings.append(recording_copy)\n",
    "            \n",
    "    return spliced_recordings  "
   ]
  },
  {
   "cell_type": "code",
   "execution_count": null,
   "metadata": {},
   "outputs": [],
   "source": [
    "def splice_rr_intervals_random(rr_intervals, n=48, size=500, sigma=50):\n",
    "    \n",
    "    spliced_recordings = []\n",
    "    \n",
    "    for recording in rr_intervals:\n",
    "        # List of data frames\n",
    "        splices = splice_random(recording[\"Series\"], n=n, size=500, sigma=50)\n",
    "        \n",
    "        for splice in splices:\n",
    "            recording_copy = recording.copy()\n",
    "            recording_copy[\"Series\"] = splice\n",
    "            spliced_recordings.append(recording_copy)\n",
    "            \n",
    "    return spliced_recordings  "
   ]
  },
  {
   "cell_type": "code",
   "execution_count": null,
   "metadata": {},
   "outputs": [],
   "source": [
    "def decade_to_label(decade):\n",
    "    return(int(int(decade[0:2])/10) - 2)"
   ]
  },
  {
   "cell_type": "code",
   "execution_count": null,
   "metadata": {},
   "outputs": [],
   "source": [
    "def pad(l, size, padding):\n",
    "    l = list(l)\n",
    "    l = l[0:min(len(l), size)]\n",
    "    return l + [padding] * abs((len(l)-size))"
   ]
  },
  {
   "cell_type": "code",
   "execution_count": null,
   "metadata": {},
   "outputs": [],
   "source": [
    "def normalise(l):\n",
    "    scaled = l - np.mean(l)\n",
    "    return scaled / np.std(scaled)"
   ]
  },
  {
   "cell_type": "code",
   "execution_count": null,
   "metadata": {},
   "outputs": [],
   "source": [
    "def rr_interval_dict_to_matrix(rr_interval_dict, pad_length):\n",
    "    data = []\n",
    "    labels = []\n",
    "    for recording in rr_interval_dict:\n",
    "        label = decade_to_label(recording[\"age\"])\n",
    "        \n",
    "        # Interpolate\n",
    "        series = recording[\"Series\"][\"RrInterval\"].interpolate(method='linear', axis=0, limit_direction='both')\n",
    "        \n",
    "        # Normalise\n",
    "        series = normalise(series)\n",
    "        \n",
    "        # Pad\n",
    "        series = pad(series, pad_length, 0)\n",
    "        \n",
    "        #series = pad(normalise(recording[\"Series\"][\"RrInterval\"]), pad_length, 0)\n",
    "        labels.append(label)\n",
    "        data.append(series)\n",
    "    data = pd.DataFrame(data)\n",
    "    \n",
    "    return labels, data"
   ]
  },
  {
   "cell_type": "code",
   "execution_count": null,
   "metadata": {},
   "outputs": [],
   "source": [
    "len(all_recordings)"
   ]
  },
  {
   "cell_type": "code",
   "execution_count": null,
   "metadata": {},
   "outputs": [],
   "source": [
    "len(all_recordings[0:round(len(all_recordings) * TAKE)])"
   ]
  },
  {
   "cell_type": "code",
   "execution_count": null,
   "metadata": {},
   "outputs": [],
   "source": [
    "splits"
   ]
  },
  {
   "cell_type": "code",
   "execution_count": null,
   "metadata": {},
   "outputs": [],
   "source": [
    "len(all_recordings[0:round(len(all_recordings) * TAKE)])"
   ]
  },
  {
   "cell_type": "code",
   "execution_count": null,
   "metadata": {},
   "outputs": [],
   "source": [
    "%%time\n",
    "subset = all_recordings[0:round(len(all_recordings) * TAKE)]\n",
    "train_orig, val_orig, test_orig = np.array_split(subset, (np.array(splits)[:-1].cumsum() * len(subset)).astype(int))\n",
    "#train = splice_rr_intervals_constant(train_orig, n=N)#, size=SIZE)\n",
    "#val = splice_rr_intervals_constant(val_orig, n=N)#, size=SIZE)\n",
    "#test = splice_rr_intervals_constant(test_orig, n=N)#, size=SIZE)\n",
    "train = train_orig\n",
    "val = val_orig\n",
    "test = test_orig"
   ]
  },
  {
   "cell_type": "code",
   "execution_count": null,
   "metadata": {},
   "outputs": [],
   "source": [
    "del subset, train_orig, val_orig, test_orig, all_recordings"
   ]
  },
  {
   "cell_type": "code",
   "execution_count": null,
   "metadata": {},
   "outputs": [],
   "source": [
    "len(train) #493600"
   ]
  },
  {
   "cell_type": "code",
   "execution_count": null,
   "metadata": {},
   "outputs": [],
   "source": [
    "len(val) #61600"
   ]
  },
  {
   "cell_type": "code",
   "execution_count": null,
   "metadata": {},
   "outputs": [],
   "source": [
    "len(test) #62000"
   ]
  },
  {
   "cell_type": "code",
   "execution_count": null,
   "metadata": {},
   "outputs": [],
   "source": [
    "%%time\n",
    "max_length_rr = max([recording[\"Series\"].shape[0] for recording in train])\n",
    "colnames = [\"label\"] + [\"rr\" + str(i+1) for i in range(max_length_rr)]"
   ]
  },
  {
   "cell_type": "code",
   "execution_count": null,
   "metadata": {},
   "outputs": [],
   "source": [
    "%%time\n",
    "\n",
    "# Finding missing values\n",
    "\n",
    "series = None\n",
    "indeces = None\n",
    "\n",
    "for i in range(train.shape[0]):\n",
    "    try:\n",
    "        indeces = []\n",
    "        for index, value in enumerate(train):\n",
    "            if np.isnan(value):\n",
    "                indeces.append(index)\n",
    "\n",
    "        series = train.iloc[i, indeces[0]-10:indeces[0]+30]\n",
    "        break\n",
    "    except IndexError:\n",
    "        continue\n",
    "series"
   ]
  },
  {
   "cell_type": "code",
   "execution_count": null,
   "metadata": {},
   "outputs": [],
   "source": [
    "%%time\n",
    "train_labels, train = rr_interval_dict_to_matrix(train, max_length_rr)\n",
    "val_labels, val = rr_interval_dict_to_matrix(val, max_length_rr)\n",
    "test_labels, test = rr_interval_dict_to_matrix(test, max_length_rr)\n",
    "train"
   ]
  },
  {
   "cell_type": "code",
   "execution_count": null,
   "metadata": {},
   "outputs": [],
   "source": []
  },
  {
   "cell_type": "code",
   "execution_count": null,
   "metadata": {},
   "outputs": [],
   "source": [
    "%%time\n",
    "train.insert(0, \"label\", train_labels)\n",
    "train.columns = colnames\n",
    "train[\"label\"] = train[\"label\"].astype('int32')\n",
    "\n",
    "val.insert(0, \"label\", val_labels)\n",
    "val.columns = colnames\n",
    "val[\"label\"] = val[\"label\"].astype('int32')\n",
    "\n",
    "test.insert(0, \"label\", test_labels)\n",
    "test.columns = colnames\n",
    "test[\"label\"] = test[\"label\"].astype('int32')"
   ]
  },
  {
   "cell_type": "code",
   "execution_count": null,
   "metadata": {},
   "outputs": [],
   "source": [
    "%%time\n",
    "save_path_train = \"{}/preprocessed/PHYSIO_train_spliced_complete.csv\".format(\"/\".join(data_dir_out.split(\"/\")[:-2]))\n",
    "save_path_val = \"{}/preprocessed/PHYSIO_val_spliced_complete.csv\".format(\"/\".join(data_dir_out.split(\"/\")[:-2]))\n",
    "save_path_test = \"{}/preprocessed/PHYSIO_test_spliced_complete.csv\".format(\"/\".join(data_dir_out.split(\"/\")[:-2]))\n",
    "train.to_csv(save_path_train)\n",
    "val.to_csv(save_path_val)\n",
    "test.to_csv(save_path_test)"
   ]
  },
  {
   "cell_type": "code",
   "execution_count": null,
   "metadata": {},
   "outputs": [],
   "source": [
    "train[\"label\"].value_counts()"
   ]
  },
  {
   "cell_type": "code",
   "execution_count": null,
   "metadata": {},
   "outputs": [],
   "source": [
    "train[\"label\"].count()"
   ]
  },
  {
   "cell_type": "code",
   "execution_count": null,
   "metadata": {},
   "outputs": [],
   "source": [
    "train[\"label\"].value_counts()[4]/train[\"label\"].count()"
   ]
  },
  {
   "cell_type": "code",
   "execution_count": null,
   "metadata": {},
   "outputs": [],
   "source": []
  },
  {
   "cell_type": "markdown",
   "metadata": {},
   "source": [
    "## DeepSleepNet"
   ]
  },
  {
   "cell_type": "code",
   "execution_count": null,
   "metadata": {},
   "outputs": [],
   "source": [
    "# Hyper Parameters\n",
    "LR = 0.00001\n",
    "EPOCHS = 10\n",
    "#splits = [0.8, 0.1, 0.1]\n",
    "SEED = 21\n",
    "#data_dir = \"../data/age_decades/\"\n",
    "data_dir_out = \"../data/age_decades/\""
   ]
  },
  {
   "cell_type": "code",
   "execution_count": null,
   "metadata": {},
   "outputs": [],
   "source": [
    "save_path_train = \"{}/preprocessed/PHYSIO_train_spliced_complete.csv\".format(\"/\".join(data_dir_out.split(\"/\")[:-2]))\n",
    "save_path_val = \"{}/preprocessed/PHYSIO_val_spliced_complete.csv\".format(\"/\".join(data_dir_out.split(\"/\")[:-2]))\n",
    "save_path_test = \"{}/preprocessed/PHYSIO_test_spliced_complete.csv\".format(\"/\".join(data_dir_out.split(\"/\")[:-2]))"
   ]
  },
  {
   "cell_type": "code",
   "execution_count": null,
   "metadata": {},
   "outputs": [],
   "source": [
    "from torch.utils.data import Dataset\n",
    "import os\n",
    "\n",
    "class RrIntervalDataset(Dataset):\n",
    "    def __init__(self, path, header=True):\n",
    "        \n",
    "        self.samples = []\n",
    "        \n",
    "        with open(path, 'r') as file:\n",
    "            if header:\n",
    "                next(file)\n",
    "            for line in file:\n",
    "                self.samples.append(list(map(lambda x: float(x), line.split(\",\")[1:])))\n",
    "\n",
    "    def __len__(self):\n",
    "        return len(self.samples)\n",
    "\n",
    "    def __getitem__(self, idx):\n",
    "        return self.samples[idx]"
   ]
  },
  {
   "cell_type": "code",
   "execution_count": null,
   "metadata": {},
   "outputs": [],
   "source": [
    "%%time\n",
    "train_data = RrIntervalDataset(save_path_train)\n",
    "val_data = RrIntervalDataset(save_path_val)\n",
    "#test_data = RrIntervalDataset(save_path_test)"
   ]
  },
  {
   "cell_type": "markdown",
   "metadata": {},
   "source": [
    "### RrInteral DataLoader"
   ]
  },
  {
   "cell_type": "code",
   "execution_count": null,
   "metadata": {},
   "outputs": [],
   "source": [
    "import torch\n",
    "def __batch2tensor__(batch):\n",
    "    \"\"\"\n",
    "    Takes a batch and transforms it in such a way that it can directly be fed to the network.\n",
    "    @param batch: List of x and y labels.\n",
    "    @return: Two tensors, one for x and one for y.\n",
    "    \"\"\"\n",
    "    #print(batch)\n",
    "    x, y = [None] * len(batch), [None] * len(batch)\n",
    "    for i, row in enumerate(batch):\n",
    "        #print(row)\n",
    "        y[i] = int(row[0])\n",
    "        x[i] = row[1:]\n",
    "\n",
    "    return torch.FloatTensor(x), torch.LongTensor(y)"
   ]
  },
  {
   "cell_type": "code",
   "execution_count": null,
   "metadata": {},
   "outputs": [],
   "source": [
    "%%time\n",
    "from torch.utils.data import DataLoader\n",
    "\n",
    "# Batch size is one patient size!\n",
    "rrIntervalDataLoaderTrain = DataLoader(train_data, batch_size=1, num_workers=1, collate_fn=__batch2tensor__, shuffle=True)\n",
    "rrIntervalDataLoaderVal = DataLoader(val_data, batch_size=1, num_workers=1, collate_fn=__batch2tensor__)\n",
    "#rrIntervalDataLoaderTest = DataLoader(test_data, batch_size=2, num_workers=1, collate_fn=__batch2tensor__)"
   ]
  },
  {
   "cell_type": "markdown",
   "metadata": {},
   "source": [
    "## DeepSleepNet Model"
   ]
  },
  {
   "cell_type": "code",
   "execution_count": null,
   "metadata": {},
   "outputs": [],
   "source": [
    "import torch.nn as nn\n",
    "\n",
    "class DeepSleepNet(nn.Module):\n",
    "    def __init__(self, no_classes, dropout=0.5, lstm_dropout=0.5, lstm_layers=2, lstm_hidden=256):\n",
    "        \n",
    "        super().__init__()\n",
    "        \n",
    "        # General Information\n",
    "        self.lstm_layers = lstm_layers\n",
    "        self.lstm_hidden = lstm_hidden\n",
    "        self.lstm_hidden_states = None\n",
    "        \n",
    "        # Dropout\n",
    "        # Maybe for CNN, check literature\n",
    "        self.dropout = nn.Dropout(p=dropout)\n",
    "        \n",
    "        # Head 1\n",
    "        self.conv1dh1l1 = nn.Conv1d(1, 128, 8, stride=1)\n",
    "        self.conv1dh1l2 = nn.Conv1d(128, 128, 8, stride=1)\n",
    "        self.conv1dh1l3 = nn.Conv1d(128, 128, 8, stride=1)\n",
    "\n",
    "        # Head 2\n",
    "        self.conv1dh2l1 = nn.Conv1d(1, 128, 4, stride=1)\n",
    "        self.conv1dh2l2 = nn.Conv1d(128, 128, 4, stride=1)\n",
    "        self.conv1dh2l3 = nn.Conv1d(128, 128, 4, stride=1)\n",
    "        \n",
    "        # Pooling\n",
    "        ## MaxPool\n",
    "        #self.maxpool = nn.AdaptiveMaxPool1d(avg_sequence_length//10)\n",
    "        self.maxpoolConvH1 = nn.MaxPool1d(8)\n",
    "        self.maxpoolConvH2 = nn.MaxPool1d(4)\n",
    "        \n",
    "        # LSTM\n",
    "        # Input diemension will be hardcoded, very hard the obtain that through calculations (but possible...)\n",
    "        self.lstm = nn.LSTM(58248, lstm_hidden, lstm_layers,\n",
    "                            batch_first=True, dropout=lstm_dropout,\n",
    "                            bidirectional=True)\n",
    "        \n",
    "        # Linear\n",
    "        self.l1 = nn.Linear(65536, no_classes)\n",
    "            \n",
    "        # Dropout\n",
    "        self.dropout = nn.Dropout(p=dropout)\n",
    "        \n",
    "        # Batch Normalisation\n",
    "        self.batchnorm1dH1 = nn.BatchNorm1d(128)\n",
    "        self.batchnorm1dH2 = nn.BatchNorm1d(128)\n",
    "        self.batchnormLstm = nn.BatchNorm1d(128)\n",
    "        \n",
    "        # Activation\n",
    "        #self.act = nn.Sigmoid()\n",
    "        self.act = nn.ReLU()\n",
    "        \n",
    "        # Log Softmax\n",
    "        self.softmax = nn.LogSoftmax(dim=1)\n",
    "        \n",
    "    def forward(self, x):\n",
    "        \n",
    "        # CNN\n",
    "        x = x.view(x.shape[0], -1, x.shape[1])\n",
    "        \n",
    "        x1 = self.conv1dh1l1(x)\n",
    "        x1 = self.act(x1)\n",
    "        x1 = self.conv1dh1l2(x1)\n",
    "        x1 = self.act(x1)\n",
    "        x1 = self.conv1dh1l3(x1)\n",
    "        x1 = self.batchnorm1dH1(x1)\n",
    "        x1 = self.maxpoolConvH1(x1)\n",
    "        \n",
    "        x2 = self.conv1dh2l1(x)\n",
    "        x2 = self.act(x2)\n",
    "        x2 = self.conv1dh2l2(x2)\n",
    "        x2 = self.act(x2)\n",
    "        x2 = self.conv1dh2l3(x2)\n",
    "        x2 = self.batchnorm1dH2(x2)\n",
    "        x2 = self.maxpoolConvH2(x2)\n",
    "        \n",
    "        x = torch.cat((x1, x2), 2)\n",
    "        x = self.batchnormLstm(x)\n",
    "        x = self.dropout(x)\n",
    "        \n",
    "        # LSTM\n",
    "        x, self.lstm_hidden_states = self.lstm(x, self.lstm_hidden_states)\n",
    "        # Decouple from training history\n",
    "        self.lstm_hidden_states = tuple([each.data for each in self.lstm_hidden_states])\n",
    "        \n",
    "        x = self.dropout(x)\n",
    "        \n",
    "        # Linear\n",
    "        x = x.reshape(x.shape[0], -1)\n",
    "        \n",
    "        x = self.l1(x)\n",
    "        #x = self.sigmoid(x)\n",
    "        x = self.softmax(x)\n",
    "        \n",
    "        return x\n",
    "    \n",
    "    def init_hidden(self, batch_size):\n",
    "        # Create two new tensors with sizes lstm_layers x batch_size x lstm_hidden,\n",
    "        # initialized to zero, for hidden state and cell state of LSTM\n",
    "        weight = next(self.parameters()).data\n",
    "\n",
    "        self.lstm_hidden_states = (weight.new(self.lstm_layers * 2, batch_size, self.lstm_hidden).zero_().cuda(),\n",
    "                                   weight.new(self.lstm_layers * 2, batch_size, self.lstm_hidden).zero_().cuda())"
   ]
  },
  {
   "cell_type": "code",
   "execution_count": null,
   "metadata": {},
   "outputs": [],
   "source": [
    "#del model\n",
    "#del X, Y\n",
    "#torch.cuda.empty_cache()"
   ]
  },
  {
   "cell_type": "markdown",
   "metadata": {},
   "source": [
    "model = DeepSleepNet(6).cuda()\n",
    "# Initialize hidden states\n",
    "model.init_hidden(1)\n",
    "X, Y = next(iter(rrIntervalDataLoaderTrain))\n",
    "X"
   ]
  },
  {
   "cell_type": "markdown",
   "metadata": {},
   "source": [
    "model(X.cuda()).shape"
   ]
  },
  {
   "cell_type": "markdown",
   "metadata": {},
   "source": [
    "model(X.cuda())"
   ]
  },
  {
   "cell_type": "markdown",
   "metadata": {},
   "source": [
    "## Training"
   ]
  },
  {
   "cell_type": "code",
   "execution_count": null,
   "metadata": {},
   "outputs": [],
   "source": [
    "model = DeepSleepNet(6).cuda()\n",
    "optimizer = torch.optim.Adam(model.parameters(), lr=LR)\n",
    "criterion = torch.nn.NLLLoss()"
   ]
  },
  {
   "cell_type": "code",
   "execution_count": 1,
   "metadata": {},
   "outputs": [
    {
     "ename": "NameError",
     "evalue": "name 'EPOCHS' is not defined",
     "output_type": "error",
     "traceback": [
      "\u001b[0;31m---------------------------------------\u001b[0m",
      "\u001b[0;31mNameError\u001b[0mTraceback (most recent call last)",
      "\u001b[0;32m<timed exec>\u001b[0m in \u001b[0;36m<module>\u001b[0;34m\u001b[0m\n",
      "\u001b[0;31mNameError\u001b[0m: name 'EPOCHS' is not defined"
     ]
    }
   ],
   "source": [
    "%%time\n",
    "\n",
    "training_loss_storage = []\n",
    "training_accuracy_storage = []\n",
    "validation_loss_storage = []\n",
    "validation_accuracy_storage = []\n",
    "\n",
    "for i in range(EPOCHS):\n",
    "    \n",
    "    print(\"Epoch: {}\".format(i+1))\n",
    "    \n",
    "    training_loss = 0\n",
    "    training_accuracy = 0\n",
    "    training_processed_data = 0\n",
    "    \n",
    "    for x, y in rrIntervalDataLoaderTrain:\n",
    "        \n",
    "        # Initialize hidden states in each epoch\n",
    "        model.init_hidden(x.shape[0])\n",
    "        \n",
    "        x = x.cuda()\n",
    "        y = y.cuda()\n",
    "        \n",
    "        # Reset Gradients\n",
    "        optimizer.zero_grad()\n",
    "\n",
    "        # Forward, Loss, Backwards, Update\n",
    "        output = model(x)\n",
    "        loss = criterion(output, y)\n",
    "        loss.backward()\n",
    "        optimizer.step()\n",
    "        \n",
    "        training_processed_data += x.shape[0]\n",
    "\n",
    "        # Calculate Metrics\n",
    "        training_loss += loss.item()\n",
    "        training_accuracy += torch.sum(torch.exp(output).topk(1)[1].view(-1) == y).item()\n",
    "        \n",
    "        print(f\"{training_processed_data}/{len(train_data)} ({round(training_processed_data/len(train_data)*100, 2)}%)\", end=\"\\r\")\n",
    "    \n",
    "    else:\n",
    "        print(\"Training Loss: {}\".format(training_loss/training_processed_data))\n",
    "        print(\"Training Accuracy: {}\".format(training_accuracy/training_processed_data))\n",
    "        \n",
    "        training_loss_storage.append(training_loss/training_processed_data)\n",
    "        training_accuracy_storage.append(training_accuracy/training_processed_data)\n",
    "        \n",
    "        validation_loss = 0\n",
    "        validation_accuracy = 0\n",
    "        validation_processed_data = 0\n",
    "\n",
    "        model.eval()\n",
    "\n",
    "        with torch.no_grad():\n",
    "            for x, y in rrIntervalDataLoaderVal:\n",
    "                x = x.cuda()\n",
    "                y = y.cuda()\n",
    "\n",
    "                output_validation = model(x)\n",
    "                loss_val = criterion(output_validation, y)\n",
    "                \n",
    "                validation_processed_data += x.shape[0]\n",
    "                \n",
    "                validation_loss += loss_val.item()\n",
    "                validation_accuracy += torch.sum(\n",
    "                    torch.exp(output_validation).topk(1, dim=1)[1].view(-1) == y).item()\n",
    "            else:\n",
    "                print(\"Validation Loss: {}\".format(validation_loss/validation_processed_data))\n",
    "                print(\"Validation Accuracy: {}\".format(validation_accuracy/validation_processed_data))\n",
    "                \n",
    "                validation_loss_storage.append(validation_loss/validation_processed_data)\n",
    "                validation_accuracy_storage.append(validation_accuracy/validation_processed_data)\n",
    "                \n",
    "                model.train()\n",
    "                "
   ]
  },
  {
   "cell_type": "code",
   "execution_count": null,
   "metadata": {},
   "outputs": [],
   "source": [
    "import numpy as np\n",
    "import matplotlib.pyplot as plt"
   ]
  },
  {
   "cell_type": "code",
   "execution_count": null,
   "metadata": {},
   "outputs": [],
   "source": [
    "X, Y = next(iter(rrIntervalDataLoaderVal))\n",
    "res = model(X.cuda()).cpu()"
   ]
  },
  {
   "cell_type": "code",
   "execution_count": null,
   "metadata": {},
   "outputs": [],
   "source": [
    "index = 0\n",
    "true_label = int(Y)\n",
    "posterior = np.array(torch.exp(res).detach().cpu())\n",
    "plt.bar(range(6), posterior.tolist()[0]);\n",
    "plt.title(f'True Label: {true_label}');"
   ]
  },
  {
   "cell_type": "code",
   "execution_count": null,
   "metadata": {},
   "outputs": [],
   "source": [
    "list(range(6))"
   ]
  },
  {
   "cell_type": "code",
   "execution_count": null,
   "metadata": {},
   "outputs": [],
   "source": [
    "posterior.tolist()[0]"
   ]
  },
  {
   "cell_type": "code",
   "execution_count": null,
   "metadata": {},
   "outputs": [],
   "source": []
  },
  {
   "cell_type": "code",
   "execution_count": null,
   "metadata": {},
   "outputs": [],
   "source": [
    "import matplotlib.pyplot as plt\n",
    "%matplotlib inline\n",
    "plt.rcParams['figure.dpi']= 160"
   ]
  },
  {
   "cell_type": "code",
   "execution_count": null,
   "metadata": {},
   "outputs": [],
   "source": [
    "plt.plot(range(len(training_loss_storage)), training_loss_storage, label=\"Training Loss\");\n",
    "plt.plot(range(len(validation_loss_storage)), validation_loss_storage, label=\"Validation Loss\");\n",
    "plt.legend()\n",
    "plt.ylabel('Loss');\n",
    "plt.xlabel('Epoch');\n",
    "plt.title('Loss during training');"
   ]
  },
  {
   "cell_type": "code",
   "execution_count": null,
   "metadata": {},
   "outputs": [],
   "source": [
    "plt.plot(range(len(training_accuracy_storage)), training_accuracy_storage, label=\"Training Accuracy\");\n",
    "plt.plot(range(len(validation_accuracy_storage)), validation_accuracy_storage, label=\"Validation Accuracy\");\n",
    "plt.legend()\n",
    "plt.ylabel('Accuracy');\n",
    "plt.xlabel('Epoch');\n",
    "plt.title('Accuracy during training');"
   ]
  },
  {
   "cell_type": "code",
   "execution_count": null,
   "metadata": {},
   "outputs": [],
   "source": []
  },
  {
   "cell_type": "code",
   "execution_count": null,
   "metadata": {},
   "outputs": [],
   "source": []
  }
 ],
 "metadata": {
  "kernelspec": {
   "display_name": "Python 3",
   "language": "python",
   "name": "python3"
  },
  "language_info": {
   "codemirror_mode": {
    "name": "ipython",
    "version": 3
   },
   "file_extension": ".py",
   "mimetype": "text/x-python",
   "name": "python",
   "nbconvert_exporter": "python",
   "pygments_lexer": "ipython3",
   "version": "3.8.1"
  }
 },
 "nbformat": 4,
 "nbformat_minor": 4
}
