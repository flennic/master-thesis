{
 "cells": [
  {
   "cell_type": "markdown",
   "metadata": {},
   "source": [
    "# CNN Implementation - Splice Constant"
   ]
  },
  {
   "cell_type": "markdown",
   "metadata": {},
   "source": [
    "## Load Data"
   ]
  },
  {
   "cell_type": "code",
   "execution_count": 62,
   "metadata": {},
   "outputs": [],
   "source": [
    "# Hyper Parameters\n",
    "N = 48\n",
    "LENGTH = 30_000 // N\n",
    "LR = 0.000005\n",
    "EPOCHS = 30\n",
    "splits = [0.8, 0.1, 0.1]\n",
    "SEED = 21\n",
    "data_dir = \"../data/age_decades/\""
   ]
  },
  {
   "cell_type": "code",
   "execution_count": 63,
   "metadata": {},
   "outputs": [],
   "source": [
    "import os\n",
    "import math\n",
    "import numpy as np\n",
    "import pandas as pd\n",
    "from datetime import datetime\n",
    "\n",
    "def raw_recording_to_dict(filepath, rawPythonic=True):\n",
    "    \n",
    "    recording = {}\n",
    "    \n",
    "    with open(filepath) as raw_recording:\n",
    "        \n",
    "        recording[\"Gender\"] = filepath.split(\"/\")[-1][0:1]\n",
    "        recording[\"AgeDecade\"] = filepath.split(\"/\")[-1][1:3]\n",
    "        recording[\"RecordingStartTime\"] = datetime.strptime(filepath.split(\"/\")[-1][4:9], '%H.%M').time()\n",
    "        \n",
    "        series = {\"ContractionNo\": [], \"ContractionNoNorm\": [], \"RrInterval\": []}\n",
    "        \n",
    "        first_index = None\n",
    "        previous_ContractionNo = None\n",
    "        \n",
    "        for line in raw_recording:\n",
    "            \n",
    "            # Handling shifted indexes\n",
    "            if first_index is None:\n",
    "                first_index = int(line.split()[1])\n",
    "            \n",
    "            # Fill missing data with None's\n",
    "            if previous_ContractionNo is not None:\n",
    "                diff = abs(previous_ContractionNo - int(line.split()[1]))\n",
    "                \n",
    "                if diff > 1:\n",
    "                    \n",
    "                    filling_indexes = np.array(range(previous_ContractionNo+1, int(line.split()[1])))\n",
    "                    \n",
    "                    series[\"ContractionNo\"].extend(filling_indexes)\n",
    "                    series[\"ContractionNoNorm\"].extend(filling_indexes - first_index)\n",
    "                    series[\"RrInterval\"].extend([math.nan]*(diff-1))\n",
    "          \n",
    "            series[\"ContractionNo\"].append(int(line.split()[1]))\n",
    "            series[\"ContractionNoNorm\"].append(int(line.split()[1]) - first_index)\n",
    "            series[\"RrInterval\"].append(int(line.split()[0]))\n",
    "            \n",
    "            previous_ContractionNo = int(line.split()[1])\n",
    "            \n",
    "        if rawPythonic:\n",
    "            recording[\"Series\"] = series\n",
    "            recording[\"RecordingStartTime\"] = str(recording[\"RecordingStartTime\"])\n",
    "        else:\n",
    "            recording[\"Series\"] = pd.DataFrame(series)\n",
    "            \n",
    "        return recording"
   ]
  },
  {
   "cell_type": "code",
   "execution_count": 64,
   "metadata": {},
   "outputs": [
    {
     "name": "stdout",
     "output_type": "stream",
     "text": [
      "CPU times: user 11.3 s, sys: 45.8 ms, total: 11.3 s\n",
      "Wall time: 11.3 s\n"
     ]
    }
   ],
   "source": [
    "%%time\n",
    "recordings = []\n",
    "for filename in os.listdir(data_dir):\n",
    "    recordings.append(raw_recording_to_dict(data_dir + filename, False))"
   ]
  },
  {
   "cell_type": "code",
   "execution_count": 65,
   "metadata": {},
   "outputs": [
    {
     "data": {
      "text/plain": [
       "181"
      ]
     },
     "execution_count": 65,
     "metadata": {},
     "output_type": "execute_result"
    }
   ],
   "source": [
    "len(recordings)"
   ]
  },
  {
   "cell_type": "code",
   "execution_count": 66,
   "metadata": {},
   "outputs": [
    {
     "data": {
      "text/plain": [
       "{'Gender': 'm',\n",
       " 'AgeDecade': '50',\n",
       " 'RecordingStartTime': datetime.time(10, 5),\n",
       " 'Series':        ContractionNo  ContractionNoNorm  RrInterval\n",
       " 0              49291                  0      1016.0\n",
       " 1              49292                  1      1000.0\n",
       " 2              49293                  2      1016.0\n",
       " 3              49294                  3      1032.0\n",
       " 4              49295                  4      1008.0\n",
       " ...              ...                ...         ...\n",
       " 21797          71088              21797      1312.0\n",
       " 21798          71089              21798      1328.0\n",
       " 21799          71090              21799      1296.0\n",
       " 21800          71091              21800      1296.0\n",
       " 21801          71092              21801      1288.0\n",
       " \n",
       " [21802 rows x 3 columns]}"
      ]
     },
     "execution_count": 66,
     "metadata": {},
     "output_type": "execute_result"
    }
   ],
   "source": [
    "recordings[0]"
   ]
  },
  {
   "cell_type": "code",
   "execution_count": 67,
   "metadata": {},
   "outputs": [
    {
     "data": {
      "text/plain": [
       "{20, 30, 40, 50, 60, 70, 80}"
      ]
     },
     "execution_count": 67,
     "metadata": {},
     "output_type": "execute_result"
    }
   ],
   "source": [
    "set([int(recording[\"AgeDecade\"]) for recording in recordings])"
   ]
  },
  {
   "cell_type": "code",
   "execution_count": 68,
   "metadata": {},
   "outputs": [
    {
     "data": {
      "text/plain": [
       "pandas.core.frame.DataFrame"
      ]
     },
     "execution_count": 68,
     "metadata": {},
     "output_type": "execute_result"
    }
   ],
   "source": [
    "type(recordings[0][\"Series\"])"
   ]
  },
  {
   "cell_type": "code",
   "execution_count": 69,
   "metadata": {},
   "outputs": [
    {
     "data": {
      "text/html": [
       "<div>\n",
       "<style scoped>\n",
       "    .dataframe tbody tr th:only-of-type {\n",
       "        vertical-align: middle;\n",
       "    }\n",
       "\n",
       "    .dataframe tbody tr th {\n",
       "        vertical-align: top;\n",
       "    }\n",
       "\n",
       "    .dataframe thead th {\n",
       "        text-align: right;\n",
       "    }\n",
       "</style>\n",
       "<table border=\"1\" class=\"dataframe\">\n",
       "  <thead>\n",
       "    <tr style=\"text-align: right;\">\n",
       "      <th></th>\n",
       "      <th>ContractionNo</th>\n",
       "      <th>ContractionNoNorm</th>\n",
       "      <th>RrInterval</th>\n",
       "    </tr>\n",
       "  </thead>\n",
       "  <tbody>\n",
       "    <tr>\n",
       "      <th>0</th>\n",
       "      <td>49291</td>\n",
       "      <td>0</td>\n",
       "      <td>1016.0</td>\n",
       "    </tr>\n",
       "    <tr>\n",
       "      <th>1</th>\n",
       "      <td>49292</td>\n",
       "      <td>1</td>\n",
       "      <td>1000.0</td>\n",
       "    </tr>\n",
       "    <tr>\n",
       "      <th>2</th>\n",
       "      <td>49293</td>\n",
       "      <td>2</td>\n",
       "      <td>1016.0</td>\n",
       "    </tr>\n",
       "    <tr>\n",
       "      <th>3</th>\n",
       "      <td>49294</td>\n",
       "      <td>3</td>\n",
       "      <td>1032.0</td>\n",
       "    </tr>\n",
       "    <tr>\n",
       "      <th>4</th>\n",
       "      <td>49295</td>\n",
       "      <td>4</td>\n",
       "      <td>1008.0</td>\n",
       "    </tr>\n",
       "    <tr>\n",
       "      <th>...</th>\n",
       "      <td>...</td>\n",
       "      <td>...</td>\n",
       "      <td>...</td>\n",
       "    </tr>\n",
       "    <tr>\n",
       "      <th>21797</th>\n",
       "      <td>71088</td>\n",
       "      <td>21797</td>\n",
       "      <td>1312.0</td>\n",
       "    </tr>\n",
       "    <tr>\n",
       "      <th>21798</th>\n",
       "      <td>71089</td>\n",
       "      <td>21798</td>\n",
       "      <td>1328.0</td>\n",
       "    </tr>\n",
       "    <tr>\n",
       "      <th>21799</th>\n",
       "      <td>71090</td>\n",
       "      <td>21799</td>\n",
       "      <td>1296.0</td>\n",
       "    </tr>\n",
       "    <tr>\n",
       "      <th>21800</th>\n",
       "      <td>71091</td>\n",
       "      <td>21800</td>\n",
       "      <td>1296.0</td>\n",
       "    </tr>\n",
       "    <tr>\n",
       "      <th>21801</th>\n",
       "      <td>71092</td>\n",
       "      <td>21801</td>\n",
       "      <td>1288.0</td>\n",
       "    </tr>\n",
       "  </tbody>\n",
       "</table>\n",
       "<p>21802 rows × 3 columns</p>\n",
       "</div>"
      ],
      "text/plain": [
       "       ContractionNo  ContractionNoNorm  RrInterval\n",
       "0              49291                  0      1016.0\n",
       "1              49292                  1      1000.0\n",
       "2              49293                  2      1016.0\n",
       "3              49294                  3      1032.0\n",
       "4              49295                  4      1008.0\n",
       "...              ...                ...         ...\n",
       "21797          71088              21797      1312.0\n",
       "21798          71089              21798      1328.0\n",
       "21799          71090              21799      1296.0\n",
       "21800          71091              21800      1296.0\n",
       "21801          71092              21801      1288.0\n",
       "\n",
       "[21802 rows x 3 columns]"
      ]
     },
     "execution_count": 69,
     "metadata": {},
     "output_type": "execute_result"
    }
   ],
   "source": [
    "recordings[0][\"Series\"]"
   ]
  },
  {
   "cell_type": "markdown",
   "metadata": {},
   "source": [
    "## Splicing"
   ]
  },
  {
   "cell_type": "code",
   "execution_count": 70,
   "metadata": {},
   "outputs": [
    {
     "data": {
      "text/plain": [
       "21802"
      ]
     },
     "execution_count": 70,
     "metadata": {},
     "output_type": "execute_result"
    }
   ],
   "source": [
    "len(recordings[0][\"Series\"])"
   ]
  },
  {
   "cell_type": "code",
   "execution_count": 71,
   "metadata": {},
   "outputs": [
    {
     "data": {
      "text/html": [
       "<div>\n",
       "<style scoped>\n",
       "    .dataframe tbody tr th:only-of-type {\n",
       "        vertical-align: middle;\n",
       "    }\n",
       "\n",
       "    .dataframe tbody tr th {\n",
       "        vertical-align: top;\n",
       "    }\n",
       "\n",
       "    .dataframe thead th {\n",
       "        text-align: right;\n",
       "    }\n",
       "</style>\n",
       "<table border=\"1\" class=\"dataframe\">\n",
       "  <thead>\n",
       "    <tr style=\"text-align: right;\">\n",
       "      <th></th>\n",
       "      <th>ContractionNo</th>\n",
       "      <th>ContractionNoNorm</th>\n",
       "      <th>RrInterval</th>\n",
       "    </tr>\n",
       "  </thead>\n",
       "  <tbody>\n",
       "    <tr>\n",
       "      <th>0</th>\n",
       "      <td>49291</td>\n",
       "      <td>0</td>\n",
       "      <td>1016.0</td>\n",
       "    </tr>\n",
       "    <tr>\n",
       "      <th>1</th>\n",
       "      <td>49292</td>\n",
       "      <td>1</td>\n",
       "      <td>1000.0</td>\n",
       "    </tr>\n",
       "    <tr>\n",
       "      <th>2</th>\n",
       "      <td>49293</td>\n",
       "      <td>2</td>\n",
       "      <td>1016.0</td>\n",
       "    </tr>\n",
       "    <tr>\n",
       "      <th>3</th>\n",
       "      <td>49294</td>\n",
       "      <td>3</td>\n",
       "      <td>1032.0</td>\n",
       "    </tr>\n",
       "    <tr>\n",
       "      <th>4</th>\n",
       "      <td>49295</td>\n",
       "      <td>4</td>\n",
       "      <td>1008.0</td>\n",
       "    </tr>\n",
       "    <tr>\n",
       "      <th>5</th>\n",
       "      <td>49296</td>\n",
       "      <td>5</td>\n",
       "      <td>1024.0</td>\n",
       "    </tr>\n",
       "    <tr>\n",
       "      <th>6</th>\n",
       "      <td>49297</td>\n",
       "      <td>6</td>\n",
       "      <td>1024.0</td>\n",
       "    </tr>\n",
       "    <tr>\n",
       "      <th>7</th>\n",
       "      <td>49298</td>\n",
       "      <td>7</td>\n",
       "      <td>1032.0</td>\n",
       "    </tr>\n",
       "    <tr>\n",
       "      <th>8</th>\n",
       "      <td>49299</td>\n",
       "      <td>8</td>\n",
       "      <td>1024.0</td>\n",
       "    </tr>\n",
       "  </tbody>\n",
       "</table>\n",
       "</div>"
      ],
      "text/plain": [
       "   ContractionNo  ContractionNoNorm  RrInterval\n",
       "0          49291                  0      1016.0\n",
       "1          49292                  1      1000.0\n",
       "2          49293                  2      1016.0\n",
       "3          49294                  3      1032.0\n",
       "4          49295                  4      1008.0\n",
       "5          49296                  5      1024.0\n",
       "6          49297                  6      1024.0\n",
       "7          49298                  7      1032.0\n",
       "8          49299                  8      1024.0"
      ]
     },
     "execution_count": 71,
     "metadata": {},
     "output_type": "execute_result"
    }
   ],
   "source": [
    "recordings[0][\"Series\"].iloc[0:9,]"
   ]
  },
  {
   "cell_type": "code",
   "execution_count": 72,
   "metadata": {},
   "outputs": [],
   "source": [
    "def splice_random(series, n=100, size=500, sigma=50):\n",
    "    cap = len(series) - size\n",
    "    starts = np.random.randint(cap, size=n)\n",
    "    ends = [max(min(round(np.random.normal(start+size, sigma)), cap+size), start+1) for start in starts]\n",
    "    splices = [series.iloc[start:end,] for start, end in zip(starts, ends)]\n",
    "    return splices"
   ]
  },
  {
   "cell_type": "code",
   "execution_count": 73,
   "metadata": {},
   "outputs": [],
   "source": [
    "def splice_constant(series, n=48):\n",
    "    return np.array_split(series, n)"
   ]
  },
  {
   "cell_type": "code",
   "execution_count": 74,
   "metadata": {},
   "outputs": [],
   "source": [
    "def splice_rr_intervals_constant(rr_intervals, n=48):\n",
    "    \n",
    "    spliced_recordings = []\n",
    "    \n",
    "    for recording in rr_intervals:\n",
    "        # List of data frames\n",
    "        splices = splice_constant(recording[\"Series\"], n=n)\n",
    "        \n",
    "        for splice in splices:\n",
    "            recording_copy = recording.copy()\n",
    "            recording_copy[\"Series\"] = splice\n",
    "            spliced_recordings.append(recording_copy)\n",
    "            \n",
    "    return spliced_recordings  "
   ]
  },
  {
   "cell_type": "code",
   "execution_count": 75,
   "metadata": {},
   "outputs": [],
   "source": [
    "def splice_rr_intervals_random(rr_intervals, n=48, size=500, sigma=50):\n",
    "    \n",
    "    spliced_recordings = []\n",
    "    \n",
    "    for recording in rr_intervals:\n",
    "        # List of data frames\n",
    "        splices = splice_random(recording[\"Series\"], n=n, size=500, sigma=50)\n",
    "        \n",
    "        for splice in splices:\n",
    "            recording_copy = recording.copy()\n",
    "            recording_copy[\"Series\"] = splice\n",
    "            spliced_recordings.append(recording_copy)\n",
    "            \n",
    "    return spliced_recordings  "
   ]
  },
  {
   "cell_type": "markdown",
   "metadata": {},
   "source": [
    "## Pre-Processing"
   ]
  },
  {
   "cell_type": "markdown",
   "metadata": {},
   "source": [
    "- Interpolation\n",
    "- Split into train, val, test"
   ]
  },
  {
   "cell_type": "code",
   "execution_count": 76,
   "metadata": {},
   "outputs": [],
   "source": [
    "def decade_to_label(decade):\n",
    "    return(int(int(decade)/10) - 2)"
   ]
  },
  {
   "cell_type": "code",
   "execution_count": 77,
   "metadata": {},
   "outputs": [],
   "source": [
    "def label_to_decade(label):\n",
    "    return(str((label+2)*10))"
   ]
  },
  {
   "cell_type": "code",
   "execution_count": 78,
   "metadata": {},
   "outputs": [],
   "source": [
    "def pad(l, size, padding):\n",
    "    l = list(l)\n",
    "    l = l[0:min(len(l), size)]\n",
    "    return l + [padding] * abs((len(l)-size))"
   ]
  },
  {
   "cell_type": "code",
   "execution_count": 79,
   "metadata": {},
   "outputs": [
    {
     "data": {
      "text/plain": [
       "7"
      ]
     },
     "execution_count": 79,
     "metadata": {},
     "output_type": "execute_result"
    }
   ],
   "source": [
    "decade_to_label(\"90\")"
   ]
  },
  {
   "cell_type": "code",
   "execution_count": 80,
   "metadata": {},
   "outputs": [
    {
     "data": {
      "text/plain": [
       "'90'"
      ]
     },
     "execution_count": 80,
     "metadata": {},
     "output_type": "execute_result"
    }
   ],
   "source": [
    "label_to_decade(7)"
   ]
  },
  {
   "cell_type": "markdown",
   "metadata": {},
   "source": [
    "Data must be split here."
   ]
  },
  {
   "cell_type": "code",
   "execution_count": 81,
   "metadata": {},
   "outputs": [
    {
     "name": "stdout",
     "output_type": "stream",
     "text": [
      "CPU times: user 1.78 s, sys: 16.9 ms, total: 1.8 s\n",
      "Wall time: 1.79 s\n"
     ]
    }
   ],
   "source": [
    "%%time\n",
    "train_orig, val_orig, test_orig = np.array_split(recordings, (np.array(splits)[:-1].cumsum() * len(recordings)).astype(int))\n",
    "train = splice_rr_intervals_constant(train_orig, n=N)\n",
    "val = splice_rr_intervals_constant(val_orig, n=N)\n",
    "test = splice_rr_intervals_constant(test_orig, n=N)"
   ]
  },
  {
   "cell_type": "code",
   "execution_count": 82,
   "metadata": {},
   "outputs": [
    {
     "data": {
      "text/plain": [
       "(455, 3)"
      ]
     },
     "execution_count": 82,
     "metadata": {},
     "output_type": "execute_result"
    }
   ],
   "source": [
    "train[0][\"Series\"].shape"
   ]
  },
  {
   "cell_type": "code",
   "execution_count": 83,
   "metadata": {},
   "outputs": [
    {
     "data": {
      "text/plain": [
       "(455, 3)"
      ]
     },
     "execution_count": 83,
     "metadata": {},
     "output_type": "execute_result"
    }
   ],
   "source": [
    "train[1][\"Series\"].shape"
   ]
  },
  {
   "cell_type": "code",
   "execution_count": 84,
   "metadata": {},
   "outputs": [
    {
     "data": {
      "text/plain": [
       "6912"
      ]
     },
     "execution_count": 84,
     "metadata": {},
     "output_type": "execute_result"
    }
   ],
   "source": [
    "len(train)"
   ]
  },
  {
   "cell_type": "code",
   "execution_count": 85,
   "metadata": {},
   "outputs": [
    {
     "data": {
      "text/plain": [
       "864"
      ]
     },
     "execution_count": 85,
     "metadata": {},
     "output_type": "execute_result"
    }
   ],
   "source": [
    "len(val)"
   ]
  },
  {
   "cell_type": "code",
   "execution_count": 86,
   "metadata": {},
   "outputs": [
    {
     "data": {
      "text/plain": [
       "912"
      ]
     },
     "execution_count": 86,
     "metadata": {},
     "output_type": "execute_result"
    }
   ],
   "source": [
    "len(test)"
   ]
  },
  {
   "cell_type": "markdown",
   "metadata": {},
   "source": [
    "Splice random looks fine."
   ]
  },
  {
   "cell_type": "code",
   "execution_count": 87,
   "metadata": {},
   "outputs": [
    {
     "name": "stdout",
     "output_type": "stream",
     "text": [
      "2     1016.0\n",
      "3     1032.0\n",
      "4     1008.0\n",
      "5     1024.0\n",
      "6     1024.0\n",
      "7     1032.0\n",
      "8     1024.0\n",
      "9     1040.0\n",
      "10    1032.0\n",
      "11    1024.0\n",
      "Name: RrInterval, dtype: float64\n",
      "aaa\n",
      "9     1040.0\n",
      "10    1032.0\n",
      "11    1024.0\n",
      "12    1024.0\n",
      "13    1024.0\n",
      "14    1008.0\n",
      "15    1024.0\n",
      "16    1016.0\n",
      "17     992.0\n",
      "18    1016.0\n",
      "Name: RrInterval, dtype: float64\n"
     ]
    }
   ],
   "source": [
    "test_series = train_orig[0][\"Series\"][\"RrInterval\"][0:20]\n",
    "res = splice_random(test_series, n=2, size=10, sigma=1)\n",
    "print(res[0])\n",
    "print(\"aaa\")\n",
    "print(res[1])"
   ]
  },
  {
   "cell_type": "code",
   "execution_count": 88,
   "metadata": {},
   "outputs": [
    {
     "name": "stdout",
     "output_type": "stream",
     "text": [
      "['label', 'rr1', 'rr2', 'rr3', 'rr4']\n",
      "['rr593', 'rr594', 'rr595', 'rr596', 'rr597', 'rr598', 'rr599', 'rr600', 'rr601', 'rr602']\n",
      "[1328.0, 1336.0, 1312.0, 1336.0, 1336.0, 1312.0, 1328.0, 1296.0, 1296.0, 1288.0]\n",
      "[1336.0, 1336.0, 1312.0, 1328.0, 1296.0, 1296.0, 1288.0, 0, 0, 0]\n"
     ]
    }
   ],
   "source": [
    "max_length_rr = max([recording[\"Series\"].shape[0] for recording in train])\n",
    "colnames = [\"label\"] + [\"rr\" + str(i+1) for i in range(max_length_rr)]\n",
    "print(colnames[0:5])\n",
    "print(colnames[-10:])\n",
    "print(list(recordings[0][\"Series\"][\"RrInterval\"])[-10:])\n",
    "print(pad(recordings[0][\"Series\"][\"RrInterval\"], 21805, 0)[-10:])"
   ]
  },
  {
   "cell_type": "code",
   "execution_count": 89,
   "metadata": {},
   "outputs": [],
   "source": [
    "def rr_interval_dict_to_matrix(rr_interval_dict, pad_length):\n",
    "    data = []\n",
    "    labels = []\n",
    "    for recording in rr_interval_dict:\n",
    "        label = decade_to_label(recording[\"AgeDecade\"])\n",
    "        series = pad(recording[\"Series\"][\"RrInterval\"], pad_length, 0)\n",
    "        labels.append(label)\n",
    "        data.append(series)\n",
    "    data = pd.DataFrame(data)\n",
    "    \n",
    "    return labels, data"
   ]
  },
  {
   "cell_type": "code",
   "execution_count": 90,
   "metadata": {},
   "outputs": [
    {
     "name": "stdout",
     "output_type": "stream",
     "text": [
      "CPU times: user 2.25 s, sys: 46.6 ms, total: 2.3 s\n",
      "Wall time: 2.3 s\n"
     ]
    },
    {
     "data": {
      "text/html": [
       "<div>\n",
       "<style scoped>\n",
       "    .dataframe tbody tr th:only-of-type {\n",
       "        vertical-align: middle;\n",
       "    }\n",
       "\n",
       "    .dataframe tbody tr th {\n",
       "        vertical-align: top;\n",
       "    }\n",
       "\n",
       "    .dataframe thead th {\n",
       "        text-align: right;\n",
       "    }\n",
       "</style>\n",
       "<table border=\"1\" class=\"dataframe\">\n",
       "  <thead>\n",
       "    <tr style=\"text-align: right;\">\n",
       "      <th></th>\n",
       "      <th>0</th>\n",
       "      <th>1</th>\n",
       "      <th>2</th>\n",
       "      <th>3</th>\n",
       "      <th>4</th>\n",
       "      <th>5</th>\n",
       "      <th>6</th>\n",
       "      <th>7</th>\n",
       "      <th>8</th>\n",
       "      <th>9</th>\n",
       "      <th>...</th>\n",
       "      <th>592</th>\n",
       "      <th>593</th>\n",
       "      <th>594</th>\n",
       "      <th>595</th>\n",
       "      <th>596</th>\n",
       "      <th>597</th>\n",
       "      <th>598</th>\n",
       "      <th>599</th>\n",
       "      <th>600</th>\n",
       "      <th>601</th>\n",
       "    </tr>\n",
       "  </thead>\n",
       "  <tbody>\n",
       "    <tr>\n",
       "      <th>0</th>\n",
       "      <td>1016.0</td>\n",
       "      <td>1000.0</td>\n",
       "      <td>1016.0</td>\n",
       "      <td>1032.0</td>\n",
       "      <td>1008.0</td>\n",
       "      <td>1024.0</td>\n",
       "      <td>1024.0</td>\n",
       "      <td>1032.0</td>\n",
       "      <td>1024.0</td>\n",
       "      <td>1040.0</td>\n",
       "      <td>...</td>\n",
       "      <td>0</td>\n",
       "      <td>0</td>\n",
       "      <td>0</td>\n",
       "      <td>0</td>\n",
       "      <td>0</td>\n",
       "      <td>0</td>\n",
       "      <td>0</td>\n",
       "      <td>0</td>\n",
       "      <td>0</td>\n",
       "      <td>0</td>\n",
       "    </tr>\n",
       "    <tr>\n",
       "      <th>1</th>\n",
       "      <td>1008.0</td>\n",
       "      <td>984.0</td>\n",
       "      <td>984.0</td>\n",
       "      <td>976.0</td>\n",
       "      <td>976.0</td>\n",
       "      <td>976.0</td>\n",
       "      <td>976.0</td>\n",
       "      <td>976.0</td>\n",
       "      <td>976.0</td>\n",
       "      <td>1000.0</td>\n",
       "      <td>...</td>\n",
       "      <td>0</td>\n",
       "      <td>0</td>\n",
       "      <td>0</td>\n",
       "      <td>0</td>\n",
       "      <td>0</td>\n",
       "      <td>0</td>\n",
       "      <td>0</td>\n",
       "      <td>0</td>\n",
       "      <td>0</td>\n",
       "      <td>0</td>\n",
       "    </tr>\n",
       "    <tr>\n",
       "      <th>2</th>\n",
       "      <td>1016.0</td>\n",
       "      <td>1000.0</td>\n",
       "      <td>1000.0</td>\n",
       "      <td>1000.0</td>\n",
       "      <td>992.0</td>\n",
       "      <td>992.0</td>\n",
       "      <td>984.0</td>\n",
       "      <td>960.0</td>\n",
       "      <td>952.0</td>\n",
       "      <td>928.0</td>\n",
       "      <td>...</td>\n",
       "      <td>0</td>\n",
       "      <td>0</td>\n",
       "      <td>0</td>\n",
       "      <td>0</td>\n",
       "      <td>0</td>\n",
       "      <td>0</td>\n",
       "      <td>0</td>\n",
       "      <td>0</td>\n",
       "      <td>0</td>\n",
       "      <td>0</td>\n",
       "    </tr>\n",
       "    <tr>\n",
       "      <th>3</th>\n",
       "      <td>1064.0</td>\n",
       "      <td>1040.0</td>\n",
       "      <td>1048.0</td>\n",
       "      <td>1024.0</td>\n",
       "      <td>1024.0</td>\n",
       "      <td>1016.0</td>\n",
       "      <td>1008.0</td>\n",
       "      <td>1008.0</td>\n",
       "      <td>1000.0</td>\n",
       "      <td>1008.0</td>\n",
       "      <td>...</td>\n",
       "      <td>0</td>\n",
       "      <td>0</td>\n",
       "      <td>0</td>\n",
       "      <td>0</td>\n",
       "      <td>0</td>\n",
       "      <td>0</td>\n",
       "      <td>0</td>\n",
       "      <td>0</td>\n",
       "      <td>0</td>\n",
       "      <td>0</td>\n",
       "    </tr>\n",
       "    <tr>\n",
       "      <th>4</th>\n",
       "      <td>1080.0</td>\n",
       "      <td>1072.0</td>\n",
       "      <td>1080.0</td>\n",
       "      <td>1088.0</td>\n",
       "      <td>1072.0</td>\n",
       "      <td>1080.0</td>\n",
       "      <td>1064.0</td>\n",
       "      <td>1024.0</td>\n",
       "      <td>1008.0</td>\n",
       "      <td>984.0</td>\n",
       "      <td>...</td>\n",
       "      <td>0</td>\n",
       "      <td>0</td>\n",
       "      <td>0</td>\n",
       "      <td>0</td>\n",
       "      <td>0</td>\n",
       "      <td>0</td>\n",
       "      <td>0</td>\n",
       "      <td>0</td>\n",
       "      <td>0</td>\n",
       "      <td>0</td>\n",
       "    </tr>\n",
       "    <tr>\n",
       "      <th>...</th>\n",
       "      <td>...</td>\n",
       "      <td>...</td>\n",
       "      <td>...</td>\n",
       "      <td>...</td>\n",
       "      <td>...</td>\n",
       "      <td>...</td>\n",
       "      <td>...</td>\n",
       "      <td>...</td>\n",
       "      <td>...</td>\n",
       "      <td>...</td>\n",
       "      <td>...</td>\n",
       "      <td>...</td>\n",
       "      <td>...</td>\n",
       "      <td>...</td>\n",
       "      <td>...</td>\n",
       "      <td>...</td>\n",
       "      <td>...</td>\n",
       "      <td>...</td>\n",
       "      <td>...</td>\n",
       "      <td>...</td>\n",
       "      <td>...</td>\n",
       "    </tr>\n",
       "    <tr>\n",
       "      <th>6907</th>\n",
       "      <td>1288.0</td>\n",
       "      <td>1280.0</td>\n",
       "      <td>1248.0</td>\n",
       "      <td>1232.0</td>\n",
       "      <td>1296.0</td>\n",
       "      <td>1304.0</td>\n",
       "      <td>1232.0</td>\n",
       "      <td>1224.0</td>\n",
       "      <td>1192.0</td>\n",
       "      <td>1024.0</td>\n",
       "      <td>...</td>\n",
       "      <td>0</td>\n",
       "      <td>0</td>\n",
       "      <td>0</td>\n",
       "      <td>0</td>\n",
       "      <td>0</td>\n",
       "      <td>0</td>\n",
       "      <td>0</td>\n",
       "      <td>0</td>\n",
       "      <td>0</td>\n",
       "      <td>0</td>\n",
       "    </tr>\n",
       "    <tr>\n",
       "      <th>6908</th>\n",
       "      <td>1216.0</td>\n",
       "      <td>1208.0</td>\n",
       "      <td>1112.0</td>\n",
       "      <td>976.0</td>\n",
       "      <td>1040.0</td>\n",
       "      <td>1072.0</td>\n",
       "      <td>864.0</td>\n",
       "      <td>784.0</td>\n",
       "      <td>736.0</td>\n",
       "      <td>696.0</td>\n",
       "      <td>...</td>\n",
       "      <td>0</td>\n",
       "      <td>0</td>\n",
       "      <td>0</td>\n",
       "      <td>0</td>\n",
       "      <td>0</td>\n",
       "      <td>0</td>\n",
       "      <td>0</td>\n",
       "      <td>0</td>\n",
       "      <td>0</td>\n",
       "      <td>0</td>\n",
       "    </tr>\n",
       "    <tr>\n",
       "      <th>6909</th>\n",
       "      <td>1416.0</td>\n",
       "      <td>1344.0</td>\n",
       "      <td>1256.0</td>\n",
       "      <td>1128.0</td>\n",
       "      <td>1096.0</td>\n",
       "      <td>1032.0</td>\n",
       "      <td>984.0</td>\n",
       "      <td>960.0</td>\n",
       "      <td>976.0</td>\n",
       "      <td>1000.0</td>\n",
       "      <td>...</td>\n",
       "      <td>0</td>\n",
       "      <td>0</td>\n",
       "      <td>0</td>\n",
       "      <td>0</td>\n",
       "      <td>0</td>\n",
       "      <td>0</td>\n",
       "      <td>0</td>\n",
       "      <td>0</td>\n",
       "      <td>0</td>\n",
       "      <td>0</td>\n",
       "    </tr>\n",
       "    <tr>\n",
       "      <th>6910</th>\n",
       "      <td>1192.0</td>\n",
       "      <td>1312.0</td>\n",
       "      <td>1264.0</td>\n",
       "      <td>1184.0</td>\n",
       "      <td>1184.0</td>\n",
       "      <td>1168.0</td>\n",
       "      <td>1152.0</td>\n",
       "      <td>1032.0</td>\n",
       "      <td>1072.0</td>\n",
       "      <td>1256.0</td>\n",
       "      <td>...</td>\n",
       "      <td>0</td>\n",
       "      <td>0</td>\n",
       "      <td>0</td>\n",
       "      <td>0</td>\n",
       "      <td>0</td>\n",
       "      <td>0</td>\n",
       "      <td>0</td>\n",
       "      <td>0</td>\n",
       "      <td>0</td>\n",
       "      <td>0</td>\n",
       "    </tr>\n",
       "    <tr>\n",
       "      <th>6911</th>\n",
       "      <td>1064.0</td>\n",
       "      <td>888.0</td>\n",
       "      <td>808.0</td>\n",
       "      <td>792.0</td>\n",
       "      <td>840.0</td>\n",
       "      <td>1136.0</td>\n",
       "      <td>1160.0</td>\n",
       "      <td>1008.0</td>\n",
       "      <td>856.0</td>\n",
       "      <td>784.0</td>\n",
       "      <td>...</td>\n",
       "      <td>0</td>\n",
       "      <td>0</td>\n",
       "      <td>0</td>\n",
       "      <td>0</td>\n",
       "      <td>0</td>\n",
       "      <td>0</td>\n",
       "      <td>0</td>\n",
       "      <td>0</td>\n",
       "      <td>0</td>\n",
       "      <td>0</td>\n",
       "    </tr>\n",
       "  </tbody>\n",
       "</table>\n",
       "<p>6912 rows × 602 columns</p>\n",
       "</div>"
      ],
      "text/plain": [
       "         0       1       2       3       4       5       6       7       8    \\\n",
       "0     1016.0  1000.0  1016.0  1032.0  1008.0  1024.0  1024.0  1032.0  1024.0   \n",
       "1     1008.0   984.0   984.0   976.0   976.0   976.0   976.0   976.0   976.0   \n",
       "2     1016.0  1000.0  1000.0  1000.0   992.0   992.0   984.0   960.0   952.0   \n",
       "3     1064.0  1040.0  1048.0  1024.0  1024.0  1016.0  1008.0  1008.0  1000.0   \n",
       "4     1080.0  1072.0  1080.0  1088.0  1072.0  1080.0  1064.0  1024.0  1008.0   \n",
       "...      ...     ...     ...     ...     ...     ...     ...     ...     ...   \n",
       "6907  1288.0  1280.0  1248.0  1232.0  1296.0  1304.0  1232.0  1224.0  1192.0   \n",
       "6908  1216.0  1208.0  1112.0   976.0  1040.0  1072.0   864.0   784.0   736.0   \n",
       "6909  1416.0  1344.0  1256.0  1128.0  1096.0  1032.0   984.0   960.0   976.0   \n",
       "6910  1192.0  1312.0  1264.0  1184.0  1184.0  1168.0  1152.0  1032.0  1072.0   \n",
       "6911  1064.0   888.0   808.0   792.0   840.0  1136.0  1160.0  1008.0   856.0   \n",
       "\n",
       "         9    ...  592  593  594  595  596  597  598  599  600  601  \n",
       "0     1040.0  ...    0    0    0    0    0    0    0    0    0    0  \n",
       "1     1000.0  ...    0    0    0    0    0    0    0    0    0    0  \n",
       "2      928.0  ...    0    0    0    0    0    0    0    0    0    0  \n",
       "3     1008.0  ...    0    0    0    0    0    0    0    0    0    0  \n",
       "4      984.0  ...    0    0    0    0    0    0    0    0    0    0  \n",
       "...      ...  ...  ...  ...  ...  ...  ...  ...  ...  ...  ...  ...  \n",
       "6907  1024.0  ...    0    0    0    0    0    0    0    0    0    0  \n",
       "6908   696.0  ...    0    0    0    0    0    0    0    0    0    0  \n",
       "6909  1000.0  ...    0    0    0    0    0    0    0    0    0    0  \n",
       "6910  1256.0  ...    0    0    0    0    0    0    0    0    0    0  \n",
       "6911   784.0  ...    0    0    0    0    0    0    0    0    0    0  \n",
       "\n",
       "[6912 rows x 602 columns]"
      ]
     },
     "execution_count": 90,
     "metadata": {},
     "output_type": "execute_result"
    }
   ],
   "source": [
    "%%time\n",
    "train_labels, train = rr_interval_dict_to_matrix(train, max_length_rr)\n",
    "val_labels, val = rr_interval_dict_to_matrix(val, max_length_rr)\n",
    "test_labels, test = rr_interval_dict_to_matrix(test, max_length_rr)\n",
    "train"
   ]
  },
  {
   "cell_type": "markdown",
   "metadata": {},
   "source": [
    "Finding Nans:"
   ]
  },
  {
   "cell_type": "code",
   "execution_count": 91,
   "metadata": {},
   "outputs": [
    {
     "data": {
      "text/plain": [
       "0      1008.0\n",
       "1       984.0\n",
       "2       984.0\n",
       "3       976.0\n",
       "4       976.0\n",
       "        ...  \n",
       "597       0.0\n",
       "598       0.0\n",
       "599       0.0\n",
       "600       0.0\n",
       "601       0.0\n",
       "Name: 1, Length: 602, dtype: float64"
      ]
     },
     "execution_count": 91,
     "metadata": {},
     "output_type": "execute_result"
    }
   ],
   "source": [
    "train.iloc[1,:]"
   ]
  },
  {
   "cell_type": "code",
   "execution_count": 92,
   "metadata": {},
   "outputs": [
    {
     "data": {
      "text/plain": [
       "(6912, 602)"
      ]
     },
     "execution_count": 92,
     "metadata": {},
     "output_type": "execute_result"
    }
   ],
   "source": [
    "train.shape"
   ]
  },
  {
   "cell_type": "code",
   "execution_count": 93,
   "metadata": {},
   "outputs": [
    {
     "data": {
      "text/plain": [
       "(864, 602)"
      ]
     },
     "execution_count": 93,
     "metadata": {},
     "output_type": "execute_result"
    }
   ],
   "source": [
    "val.shape"
   ]
  },
  {
   "cell_type": "code",
   "execution_count": 94,
   "metadata": {},
   "outputs": [
    {
     "data": {
      "text/plain": [
       "(912, 602)"
      ]
     },
     "execution_count": 94,
     "metadata": {},
     "output_type": "execute_result"
    }
   ],
   "source": [
    "test.shape"
   ]
  },
  {
   "cell_type": "code",
   "execution_count": 95,
   "metadata": {},
   "outputs": [
    {
     "name": "stdout",
     "output_type": "stream",
     "text": [
      "CPU times: user 96.1 ms, sys: 0 ns, total: 96.1 ms\n",
      "Wall time: 93.9 ms\n"
     ]
    },
    {
     "data": {
      "text/plain": [
       "422    1200.0\n",
       "423    1256.0\n",
       "424    1288.0\n",
       "425    1312.0\n",
       "426    1368.0\n",
       "427    1368.0\n",
       "428    1408.0\n",
       "429    1456.0\n",
       "430    1488.0\n",
       "431    1488.0\n",
       "432       NaN\n",
       "433       NaN\n",
       "434       NaN\n",
       "435       NaN\n",
       "436       NaN\n",
       "437       NaN\n",
       "438       NaN\n",
       "439       NaN\n",
       "440       NaN\n",
       "441    1408.0\n",
       "442    1368.0\n",
       "443    1368.0\n",
       "444    1328.0\n",
       "445    1320.0\n",
       "446    1336.0\n",
       "447    1280.0\n",
       "448    1328.0\n",
       "449    1272.0\n",
       "450    1264.0\n",
       "451    1200.0\n",
       "452    1200.0\n",
       "453    1200.0\n",
       "454       0.0\n",
       "455       0.0\n",
       "456       0.0\n",
       "457       0.0\n",
       "458       0.0\n",
       "459       0.0\n",
       "460       0.0\n",
       "461       0.0\n",
       "Name: 44, dtype: float64"
      ]
     },
     "execution_count": 95,
     "metadata": {},
     "output_type": "execute_result"
    }
   ],
   "source": [
    "%%time\n",
    "\n",
    "series = None\n",
    "indeces = None\n",
    "\n",
    "for i in range(train.shape[0]):\n",
    "    try:\n",
    "        indeces = []\n",
    "        for index, value in enumerate(train.iloc[i,:].tolist()):\n",
    "            if np.isnan(value):\n",
    "                indeces.append(index)\n",
    "\n",
    "        series = train.iloc[i, indeces[0]-10:indeces[0]+30]\n",
    "        break\n",
    "    except IndexError:\n",
    "        continue\n",
    "series"
   ]
  },
  {
   "cell_type": "code",
   "execution_count": 102,
   "metadata": {},
   "outputs": [
    {
     "name": "stdout",
     "output_type": "stream",
     "text": [
      "1, 2, 3, 4, 5, 6, 7, 8, 9, 10, 11, 12, 13, 14, 15, 16, 17, 18, 19, 20, 21, 22, 23, 24, 25, 26, 27, 28, 29, 30, 31, 32, 33, 34, 35, 36, 37, 38, 39, 40, "
     ]
    }
   ],
   "source": [
    "for index in series.index:\n",
    "    print(f\"{index-421}, \", end = '')"
   ]
  },
  {
   "cell_type": "code",
   "execution_count": 106,
   "metadata": {},
   "outputs": [
    {
     "name": "stdout",
     "output_type": "stream",
     "text": [
      "1200.0, 1256.0, 1288.0, 1312.0, 1368.0, 1368.0, 1408.0, 1456.0, 1488.0, 1488.0, nan, nan, nan, nan, nan, nan, nan, nan, nan, 1408.0, 1368.0, 1368.0, 1328.0, 1320.0, 1336.0, 1280.0, 1328.0, 1272.0, 1264.0, 1200.0, 1200.0, 1200.0, 0.0, 0.0, 0.0, 0.0, 0.0, 0.0, 0.0, 0.0, "
     ]
    }
   ],
   "source": [
    "for value in series:\n",
    "    print(f\"{value}, \", end = '')"
   ]
  },
  {
   "cell_type": "code",
   "execution_count": 37,
   "metadata": {},
   "outputs": [
    {
     "data": {
      "image/png": "[encoded data removed]",
      "text/plain": [
       "<Figure size 432x288 with 1 Axes>"
      ]
     },
     "metadata": {
      "needs_background": "light"
     },
     "output_type": "display_data"
    }
   ],
   "source": [
    "import matplotlib.pyplot as plt\n",
    "plt.plot(series)\n",
    "plt.ylabel('some numbers')\n",
    "plt.show()"
   ]
  },
  {
   "cell_type": "code",
   "execution_count": 38,
   "metadata": {},
   "outputs": [
    {
     "name": "stdout",
     "output_type": "stream",
     "text": [
      "CPU times: user 2.63 ms, sys: 68 µs, total: 2.7 ms\n",
      "Wall time: 2.43 ms\n"
     ]
    },
    {
     "data": {
      "text/plain": [
       "(0      1016.0\n",
       " 1      1000.0\n",
       " 2      1000.0\n",
       " 3      1000.0\n",
       " 4       992.0\n",
       "         ...  \n",
       " 597       0.0\n",
       " 598       0.0\n",
       " 599       0.0\n",
       " 600       0.0\n",
       " 601       0.0\n",
       " Name: 2, Length: 602, dtype: float64,)"
      ]
     },
     "execution_count": 38,
     "metadata": {},
     "output_type": "execute_result"
    }
   ],
   "source": [
    "%%time\n",
    "train.iloc[2,:].interpolate(method='linear'),"
   ]
  },
  {
   "cell_type": "code",
   "execution_count": 39,
   "metadata": {},
   "outputs": [
    {
     "name": "stdout",
     "output_type": "stream",
     "text": [
      "CPU times: user 410 ms, sys: 32 ms, total: 442 ms\n",
      "Wall time: 440 ms\n"
     ]
    }
   ],
   "source": [
    "%%time\n",
    "train = train.interpolate(method='linear', axis=1, limit_direction='both')\n",
    "val = val.interpolate(method='linear', axis=1, limit_direction='both')\n",
    "test = test.interpolate(method='linear', axis=1, limit_direction='both')"
   ]
  },
  {
   "cell_type": "code",
   "execution_count": 40,
   "metadata": {},
   "outputs": [
    {
     "data": {
      "text/plain": [
       "422    1200.0\n",
       "423    1256.0\n",
       "424    1288.0\n",
       "425    1312.0\n",
       "426    1368.0\n",
       "427    1368.0\n",
       "428    1408.0\n",
       "429    1456.0\n",
       "430    1488.0\n",
       "431    1488.0\n",
       "432    1480.0\n",
       "433    1472.0\n",
       "434    1464.0\n",
       "435    1456.0\n",
       "436    1448.0\n",
       "437    1440.0\n",
       "438    1432.0\n",
       "439    1424.0\n",
       "440    1416.0\n",
       "441    1408.0\n",
       "442    1368.0\n",
       "443    1368.0\n",
       "444    1328.0\n",
       "445    1320.0\n",
       "446    1336.0\n",
       "447    1280.0\n",
       "448    1328.0\n",
       "449    1272.0\n",
       "450    1264.0\n",
       "451    1200.0\n",
       "452    1200.0\n",
       "453    1200.0\n",
       "454       0.0\n",
       "455       0.0\n",
       "456       0.0\n",
       "457       0.0\n",
       "458       0.0\n",
       "459       0.0\n",
       "460       0.0\n",
       "461       0.0\n",
       "Name: 44, dtype: float64"
      ]
     },
     "execution_count": 40,
     "metadata": {},
     "output_type": "execute_result"
    }
   ],
   "source": [
    "iseries = train.iloc[i, indeces[0]-10:indeces[0]+30]\n",
    "iseries"
   ]
  },
  {
   "cell_type": "code",
   "execution_count": 41,
   "metadata": {},
   "outputs": [
    {
     "data": {
      "image/png": "[encoded data removed]",
      "text/plain": [
       "<Figure size 432x288 with 1 Axes>"
      ]
     },
     "metadata": {
      "needs_background": "light"
     },
     "output_type": "display_data"
    }
   ],
   "source": [
    "plt.plot(iseries)\n",
    "plt.ylabel('some numbers')\n",
    "plt.show()"
   ]
  },
  {
   "cell_type": "code",
   "execution_count": 42,
   "metadata": {},
   "outputs": [
    {
     "data": {
      "text/plain": [
       "array([[False, False, False, ..., False, False, False],\n",
       "       [False, False, False, ..., False, False, False],\n",
       "       [False, False, False, ..., False, False, False],\n",
       "       ...,\n",
       "       [False, False, False, ..., False, False, False],\n",
       "       [False, False, False, ..., False, False, False],\n",
       "       [False, False, False, ..., False, False, False]])"
      ]
     },
     "execution_count": 42,
     "metadata": {},
     "output_type": "execute_result"
    }
   ],
   "source": [
    "train.isnull().values"
   ]
  },
  {
   "cell_type": "code",
   "execution_count": 43,
   "metadata": {},
   "outputs": [
    {
     "name": "stderr",
     "output_type": "stream",
     "text": [
      "<ipython-input-43-1ed16ecb9225>:1: FutureWarning: Series.nonzero() is deprecated and will be removed in a future version.Use Series.to_numpy().nonzero() instead\n",
      "  pd.isnull(train).any(1).nonzero()[0]\n"
     ]
    },
    {
     "data": {
      "text/plain": [
       "array([], dtype=int64)"
      ]
     },
     "execution_count": 43,
     "metadata": {},
     "output_type": "execute_result"
    }
   ],
   "source": [
    "pd.isnull(train).any(1).nonzero()[0]"
   ]
  },
  {
   "cell_type": "code",
   "execution_count": 44,
   "metadata": {},
   "outputs": [],
   "source": [
    "train.insert(0, \"label\", train_labels)\n",
    "train.columns = colnames\n",
    "train = train.astype('int32')\n",
    "\n",
    "val.insert(0, \"label\", val_labels)\n",
    "val.columns = colnames\n",
    "val = val.astype('int32')\n",
    "\n",
    "test.insert(0, \"label\", test_labels)\n",
    "test.columns = colnames\n",
    "test = test.astype('int32')"
   ]
  },
  {
   "cell_type": "markdown",
   "metadata": {},
   "source": [
    "To prevent information leakage, we will assume that the max length is given by the training set. If an entry in tee test set it longer, we will simply drop the columns for now."
   ]
  },
  {
   "cell_type": "code",
   "execution_count": 45,
   "metadata": {},
   "outputs": [
    {
     "data": {
      "text/plain": [
       "(6912, 603)"
      ]
     },
     "execution_count": 45,
     "metadata": {},
     "output_type": "execute_result"
    }
   ],
   "source": [
    "train.shape #6912"
   ]
  },
  {
   "cell_type": "code",
   "execution_count": 46,
   "metadata": {},
   "outputs": [
    {
     "data": {
      "text/plain": [
       "(864, 603)"
      ]
     },
     "execution_count": 46,
     "metadata": {},
     "output_type": "execute_result"
    }
   ],
   "source": [
    "val.shape"
   ]
  },
  {
   "cell_type": "code",
   "execution_count": 47,
   "metadata": {},
   "outputs": [
    {
     "data": {
      "text/plain": [
       "(912, 603)"
      ]
     },
     "execution_count": 47,
     "metadata": {},
     "output_type": "execute_result"
    }
   ],
   "source": [
    "test.shape"
   ]
  },
  {
   "cell_type": "code",
   "execution_count": 48,
   "metadata": {},
   "outputs": [
    {
     "name": "stdout",
     "output_type": "stream",
     "text": [
      "CPU times: user 4.84 s, sys: 35.9 ms, total: 4.87 s\n",
      "Wall time: 4.87 s\n"
     ]
    }
   ],
   "source": [
    "%%time\n",
    "save_path_train = \"{}/preprocessed/train_spliced_constant.csv\".format(\"/\".join(data_dir.split(\"/\")[:-2]))\n",
    "save_path_val = \"{}/preprocessed/val_spliced_constant.csv\".format(\"/\".join(data_dir.split(\"/\")[:-2]))\n",
    "save_path_test = \"{}/preprocessed/test_spliced_constant.csv\".format(\"/\".join(data_dir.split(\"/\")[:-2]))\n",
    "train.to_csv(save_path_train)\n",
    "val.to_csv(save_path_val)\n",
    "test.to_csv(save_path_test)"
   ]
  },
  {
   "cell_type": "markdown",
   "metadata": {},
   "source": [
    "## RrIntervalDataset"
   ]
  },
  {
   "cell_type": "code",
   "execution_count": 31,
   "metadata": {},
   "outputs": [],
   "source": [
    "# Hyper Parameters\n",
    "N = 48\n",
    "LENGTH = 30_000 // N\n",
    "LR = 0.000005\n",
    "EPOCHS = 30\n",
    "splits = [0.8, 0.1, 0.1]\n",
    "SEED = 21\n",
    "data_dir = \"../data/age_decades/\""
   ]
  },
  {
   "cell_type": "code",
   "execution_count": 32,
   "metadata": {},
   "outputs": [],
   "source": [
    "save_path_train = \"{}/preprocessed/train_spliced_constant.csv\".format(\"/\".join(data_dir.split(\"/\")[:-2]))\n",
    "save_path_val = \"{}/preprocessed/val_spliced_constant.csv\".format(\"/\".join(data_dir.split(\"/\")[:-2]))\n",
    "save_path_test = \"{}/preprocessed/test_spliced_constant.csv\".format(\"/\".join(data_dir.split(\"/\")[:-2]))"
   ]
  },
  {
   "cell_type": "code",
   "execution_count": 33,
   "metadata": {},
   "outputs": [],
   "source": [
    "from torch.utils.data import Dataset\n",
    "import os\n",
    "\n",
    "class RrIntervalDataset(Dataset):\n",
    "    def __init__(self, path, header=True):\n",
    "        \n",
    "        self.samples = []\n",
    "        \n",
    "        with open(path, 'r') as file:\n",
    "            if header:\n",
    "                next(file)\n",
    "            for line in file:\n",
    "                self.samples.append(list(map(lambda x: int(x), line.split(\",\")[1:])))\n",
    "\n",
    "    def __len__(self):\n",
    "        return len(self.samples)\n",
    "\n",
    "    def __getitem__(self, idx):\n",
    "        return self.samples[idx]"
   ]
  },
  {
   "cell_type": "code",
   "execution_count": 34,
   "metadata": {},
   "outputs": [],
   "source": [
    "train_data = RrIntervalDataset(save_path_train)\n",
    "val_data = RrIntervalDataset(save_path_val)\n",
    "test_data = RrIntervalDataset(save_path_test)"
   ]
  },
  {
   "cell_type": "code",
   "execution_count": 35,
   "metadata": {},
   "outputs": [
    {
     "name": "stdout",
     "output_type": "stream",
     "text": [
      "[3, 1016, 1000, 1016, 1032, 1008, 1024, 1024, 1032, 1024]\n"
     ]
    }
   ],
   "source": [
    "aaa = iter(train_data)\n",
    "print(next(aaa)[:10])"
   ]
  },
  {
   "cell_type": "markdown",
   "metadata": {},
   "source": [
    "## RrIntervalDataLoader"
   ]
  },
  {
   "cell_type": "code",
   "execution_count": 36,
   "metadata": {},
   "outputs": [],
   "source": [
    "import torch\n",
    "def __batch2tensor__(batch):\n",
    "    \"\"\"\n",
    "    Takes a batch and transforms it in such a way that it can directly be fed to the network.\n",
    "    @param batch: List of x and y labels.\n",
    "    @return: Two tensors, one for x and one for y.\n",
    "    \"\"\"\n",
    "    #print(batch)\n",
    "    x, y = [None] * len(batch), [None] * len(batch)\n",
    "    for i, row in enumerate(batch):\n",
    "        #print(row)\n",
    "        y[i] = row[0]\n",
    "        x[i] = row[1:]\n",
    "\n",
    "    return torch.FloatTensor(x), torch.LongTensor(y)"
   ]
  },
  {
   "cell_type": "code",
   "execution_count": 37,
   "metadata": {},
   "outputs": [],
   "source": [
    "from torch.utils.data import DataLoader\n",
    "\n",
    "rrIntervalDataLoaderTrain = DataLoader(train_data, batch_size=N, num_workers=4, collate_fn=__batch2tensor__)#, shuffle=True)\n",
    "rrIntervalDataLoaderVal = DataLoader(val_data, batch_size=N, num_workers=4, collate_fn=__batch2tensor__)\n",
    "rrIntervalDataLoaderTest = DataLoader(test_data, batch_size=N, num_workers=4, collate_fn=__batch2tensor__)"
   ]
  },
  {
   "cell_type": "markdown",
   "metadata": {},
   "source": [
    "## Model"
   ]
  },
  {
   "cell_type": "markdown",
   "metadata": {},
   "source": [
    "Input: $N, C_{in}, L_{in}$\n",
    "\n",
    "Output: $N, C_{out} , L_{out}$\n",
    "\n",
    "where $N$ is a batch size, $C$ denotes a number of channels, $L$ is a length of signal sequence."
   ]
  },
  {
   "cell_type": "code",
   "execution_count": 38,
   "metadata": {},
   "outputs": [
    {
     "data": {
      "text/plain": [
       "torch.Size([2, 16, 50])"
      ]
     },
     "execution_count": 38,
     "metadata": {},
     "output_type": "execute_result"
    }
   ],
   "source": [
    "import torch.nn as nn\n",
    "# IN: N, C, L\n",
    "input = torch.randn(2, 16, 50)\n",
    "input.shape"
   ]
  },
  {
   "cell_type": "code",
   "execution_count": 39,
   "metadata": {},
   "outputs": [
    {
     "data": {
      "text/plain": [
       "tensor([[[-9.7762e-02,  1.3909e+00,  1.4261e+00,  ...,  1.2008e+00,\n",
       "           1.0296e+00, -6.7870e-01],\n",
       "         [ 3.3386e-01,  6.0472e-02,  1.0088e+00,  ...,  1.5575e+00,\n",
       "           7.4824e-02,  3.0662e-01],\n",
       "         [ 7.7931e-01,  1.5868e-01, -2.4308e+00,  ..., -5.3571e-01,\n",
       "          -1.0052e+00,  1.2988e+00],\n",
       "         ...,\n",
       "         [ 1.6651e-01,  4.9618e-01,  1.2523e-01,  ..., -1.3838e+00,\n",
       "           1.3517e+00,  1.7967e+00],\n",
       "         [-9.2586e-01,  5.0550e-01,  1.4499e+00,  ...,  6.2243e-02,\n",
       "          -1.7496e+00, -1.3120e+00],\n",
       "         [-5.8477e-01,  3.2914e-01,  6.1246e-01,  ..., -3.3212e-01,\n",
       "          -2.6463e-01,  1.3672e+00]],\n",
       "\n",
       "        [[-9.4175e-01, -2.7243e-01,  1.7003e+00,  ..., -9.0247e-01,\n",
       "          -1.4418e-01,  1.0229e+00],\n",
       "         [-1.8029e+00, -5.2971e-01, -1.7690e-01,  ..., -6.3490e-01,\n",
       "          -2.1641e-01,  6.6434e-01],\n",
       "         [-3.2665e-01, -1.1407e+00, -2.1364e+00,  ..., -3.7130e-01,\n",
       "          -3.7706e-01, -6.1842e-01],\n",
       "         ...,\n",
       "         [ 1.0825e+00, -1.0763e+00,  3.9235e-01,  ...,  8.8228e-01,\n",
       "           1.2866e+00, -4.7686e-04],\n",
       "         [ 2.3500e+00,  7.8653e-01,  7.5910e-01,  ..., -1.0704e+00,\n",
       "          -1.3036e+00,  2.1523e-01],\n",
       "         [-1.2273e+00, -2.8434e-01, -1.1321e+00,  ..., -1.2211e+00,\n",
       "           3.1128e-01, -2.8018e-01]]])"
      ]
     },
     "execution_count": 39,
     "metadata": {},
     "output_type": "execute_result"
    }
   ],
   "source": [
    "input"
   ]
  },
  {
   "cell_type": "code",
   "execution_count": 40,
   "metadata": {},
   "outputs": [
    {
     "data": {
      "text/plain": [
       "torch.Size([2, 33, 24])"
      ]
     },
     "execution_count": 40,
     "metadata": {},
     "output_type": "execute_result"
    }
   ],
   "source": [
    "#in_channels, out_channels, kernel_size\n",
    "m = nn.Conv1d(16, 33, 3, stride=2)\n",
    "output = m(input)\n",
    "output.shape"
   ]
  },
  {
   "cell_type": "code",
   "execution_count": 41,
   "metadata": {},
   "outputs": [],
   "source": [
    "# target output size of 5\n",
    "m = nn.AdaptiveMaxPool1d(5)\n",
    "input = torch.randn(1, 64, 8)\n",
    "output = m(input)"
   ]
  },
  {
   "cell_type": "code",
   "execution_count": 42,
   "metadata": {},
   "outputs": [
    {
     "data": {
      "text/plain": [
       "torch.Size([1, 64, 5])"
      ]
     },
     "execution_count": 42,
     "metadata": {},
     "output_type": "execute_result"
    }
   ],
   "source": [
    "output.shape"
   ]
  },
  {
   "cell_type": "code",
   "execution_count": 43,
   "metadata": {},
   "outputs": [
    {
     "data": {
      "text/plain": [
       "tensor([[1016., 1000., 1016.,  ...,    0.,    0.,    0.],\n",
       "        [1008.,  984.,  984.,  ...,    0.,    0.,    0.],\n",
       "        [1016., 1000., 1000.,  ...,    0.,    0.,    0.],\n",
       "        ...,\n",
       "        [1208., 1256., 1280.,  ...,    0.,    0.,    0.],\n",
       "        [1336., 1320., 1320.,  ...,    0.,    0.,    0.],\n",
       "        [1344., 1320., 1336.,  ...,    0.,    0.,    0.]])"
      ]
     },
     "execution_count": 43,
     "metadata": {},
     "output_type": "execute_result"
    }
   ],
   "source": [
    "import torch.nn as nn\n",
    "\n",
    "class CnnStage(nn.Module):\n",
    "    def __init__(self, avg_sequence_length=25_000, dropout=0.25, no_classes=7):\n",
    "        super().__init__()\n",
    "\n",
    "        # Dropout\n",
    "        # Maybe for CNN, check literature\n",
    "        self.dropout = nn.Dropout(p=dropout)\n",
    "        \n",
    "        # Convolutions\n",
    "        #in_channels, out_channels, kernel_size\n",
    "        self.conv1d1 = nn.Conv1d(1, 64, 3, stride=1)\n",
    "        self.conv1d2 = nn.Conv1d(64, 64, 3, stride=1)\n",
    "        \n",
    "        self.conv1d3 = nn.Conv1d(64, 128, 3, stride=1)\n",
    "        self.conv1d4 = nn.Conv1d(128, 128, 3, stride=1)\n",
    "        \n",
    "        # Forward // Don't how to _not_ hardcode this...\n",
    "        self.fc1 = nn.Linear(2432, 256)\n",
    "        self.fc2 = nn.Linear(256, no_classes)\n",
    "        \n",
    "        # Activation\n",
    "        self.relu = nn.ReLU()\n",
    "\n",
    "        # Pooling\n",
    "        ## MaxPool\n",
    "        self.maxpool = nn.AdaptiveMaxPool1d(avg_sequence_length//10)\n",
    "        ## Average\n",
    "        self.avgpool = torch.nn.AvgPool1d(3)\n",
    "        \n",
    "        # Softmax\n",
    "        self.softmax = nn.LogSoftmax(dim=1)\n",
    "        \n",
    "    def forward(self, x):\n",
    "        # Pass the input tensor through each of our operations\n",
    "        \n",
    "        # CNN\n",
    "        x = x.view(x.shape[0], -1, x.shape[1])\n",
    "        x = self.conv1d1(x)\n",
    "        x = self.relu(x)\n",
    "        x = self.conv1d2(x)\n",
    "        x = self.maxpool(x)\n",
    "        x = self.conv1d3(x)\n",
    "        x = self.relu(x)\n",
    "        x = self.conv1d4(x)\n",
    "        x = self.avgpool(x)\n",
    "        x = x.view(x.shape[0], -1)\n",
    "        \n",
    "        # FFN\n",
    "        x = self.dropout(x)\n",
    "        x = self.fc1(x)\n",
    "        x = self.dropout(x)\n",
    "        x = self.fc2(x)\n",
    "        x = self.softmax(x)\n",
    "        \n",
    "        return x\n",
    "    \n",
    "model = CnnStage(LENGTH).cuda()\n",
    "X, Y = next(iter(rrIntervalDataLoaderTrain))\n",
    "X"
   ]
  },
  {
   "cell_type": "code",
   "execution_count": 44,
   "metadata": {},
   "outputs": [
    {
     "data": {
      "text/plain": [
       "48"
      ]
     },
     "execution_count": 44,
     "metadata": {},
     "output_type": "execute_result"
    }
   ],
   "source": [
    "model(X.cuda()).shape[0]"
   ]
  },
  {
   "cell_type": "markdown",
   "metadata": {},
   "source": [
    "## Training"
   ]
  },
  {
   "cell_type": "code",
   "execution_count": 45,
   "metadata": {},
   "outputs": [],
   "source": [
    "optimizer = torch.optim.Adam(model.parameters(), lr=LR)\n",
    "criterion = torch.nn.NLLLoss()\n",
    "epochs = EPOCHS"
   ]
  },
  {
   "cell_type": "code",
   "execution_count": 46,
   "metadata": {},
   "outputs": [
    {
     "name": "stdout",
     "output_type": "stream",
     "text": [
      "Epoch: 1\n",
      "Training Loss: 0.6456149441224558\n",
      "Training Accuracy: 0.1283275462962963\n",
      "Validation Loss: 0.12343341746815929\n",
      "Validation Accuracy: 0.07291666666666667\n",
      "Epoch: 2\n",
      "Training Loss: 0.4921411357268139\n",
      "Training Accuracy: 0.14091435185185186\n",
      "Validation Loss: 0.095349939815976\n",
      "Validation Accuracy: 0.16550925925925927\n",
      "Epoch: 3\n",
      "Training Loss: 0.4161363340638302\n",
      "Training Accuracy: 0.13816550925925927\n",
      "Validation Loss: 0.0935154667262126\n",
      "Validation Accuracy: 0.1111111111111111\n",
      "Epoch: 4\n",
      "Training Loss: 0.35405112289030244\n",
      "Training Accuracy: 0.14930555555555555\n",
      "Validation Loss: 0.08359081060108212\n",
      "Validation Accuracy: 0.1886574074074074\n",
      "Epoch: 5\n",
      "Training Loss: 0.3119094534604638\n",
      "Training Accuracy: 0.15031828703703703\n",
      "Validation Loss: 0.07415476613850505\n",
      "Validation Accuracy: 0.26273148148148145\n",
      "Epoch: 6\n",
      "Training Loss: 0.264133482809282\n",
      "Training Accuracy: 0.16247106481481483\n",
      "Validation Loss: 0.07325562562241598\n",
      "Validation Accuracy: 0.23958333333333334\n",
      "Epoch: 7\n",
      "Training Loss: 0.22804806450450862\n",
      "Training Accuracy: 0.16030092592592593\n",
      "Validation Loss: 0.0672494627673317\n",
      "Validation Accuracy: 0.3055555555555556\n",
      "Epoch: 8\n",
      "Training Loss: 0.1979496612523993\n",
      "Training Accuracy: 0.16420717592592593\n",
      "Validation Loss: 0.06080537686055457\n",
      "Validation Accuracy: 0.25925925925925924\n",
      "Epoch: 9\n",
      "Training Loss: 0.1759120796945084\n",
      "Training Accuracy: 0.16999421296296297\n",
      "Validation Loss: 0.06092690759234958\n",
      "Validation Accuracy: 0.27314814814814814\n",
      "Epoch: 10\n",
      "Training Loss: 0.1561913154501882\n",
      "Training Accuracy: 0.1684027777777778\n",
      "Validation Loss: 0.055781252302781296\n",
      "Validation Accuracy: 0.2951388888888889\n",
      "Epoch: 11\n",
      "Training Loss: 0.1376430142360429\n",
      "Training Accuracy: 0.1753472222222222\n",
      "Validation Loss: 0.05404081595716653\n",
      "Validation Accuracy: 0.3055555555555556\n",
      "Epoch: 12\n",
      "Training Loss: 0.1236307338156082\n",
      "Training Accuracy: 0.1763599537037037\n",
      "Validation Loss: 0.05438275490370062\n",
      "Validation Accuracy: 0.31712962962962965\n",
      "Epoch: 13\n",
      "Training Loss: 0.1106769398579167\n",
      "Training Accuracy: 0.18388310185185186\n",
      "Validation Loss: 0.05354852767454253\n",
      "Validation Accuracy: 0.31712962962962965\n",
      "Epoch: 14\n",
      "Training Loss: 0.09993441082123253\n",
      "Training Accuracy: 0.18735532407407407\n",
      "Validation Loss: 0.05197228522350391\n",
      "Validation Accuracy: 0.3460648148148148\n",
      "Epoch: 15\n",
      "Training Loss: 0.09094902325456065\n",
      "Training Accuracy: 0.19285300925925927\n",
      "Validation Loss: 0.05130177650048777\n",
      "Validation Accuracy: 0.32175925925925924\n",
      "Epoch: 16\n",
      "Training Loss: 0.08432399463425908\n",
      "Training Accuracy: 0.19516782407407407\n",
      "Validation Loss: 0.05037090137462925\n",
      "Validation Accuracy: 0.3275462962962963\n",
      "Epoch: 17\n",
      "Training Loss: 0.0776433063481279\n",
      "Training Accuracy: 0.2064525462962963\n",
      "Validation Loss: 0.05167251401063469\n",
      "Validation Accuracy: 0.3275462962962963\n",
      "Epoch: 18\n",
      "Training Loss: 0.07216347680703082\n",
      "Training Accuracy: 0.21325231481481483\n",
      "Validation Loss: 0.05056618723190493\n",
      "Validation Accuracy: 0.3263888888888889\n",
      "Epoch: 19\n",
      "Training Loss: 0.06726839633106634\n",
      "Training Accuracy: 0.21875\n",
      "Validation Loss: 0.050164041592291105\n",
      "Validation Accuracy: 0.3287037037037037\n",
      "Epoch: 20\n",
      "Training Loss: 0.06310074296952398\n",
      "Training Accuracy: 0.2230902777777778\n",
      "Validation Loss: 0.05045494706266456\n",
      "Validation Accuracy: 0.3148148148148148\n",
      "Epoch: 21\n",
      "Training Loss: 0.06030534153493742\n",
      "Training Accuracy: 0.23987268518518517\n",
      "Validation Loss: 0.05117891011414705\n",
      "Validation Accuracy: 0.3194444444444444\n",
      "Epoch: 22\n",
      "Training Loss: 0.057483409729751724\n",
      "Training Accuracy: 0.23538773148148148\n",
      "Validation Loss: 0.05057999422704732\n",
      "Validation Accuracy: 0.32060185185185186\n",
      "Epoch: 23\n",
      "Training Loss: 0.0542334131249744\n",
      "Training Accuracy: 0.25028935185185186\n",
      "Validation Loss: 0.05036247204299326\n",
      "Validation Accuracy: 0.29976851851851855\n",
      "Epoch: 24\n",
      "Training Loss: 0.052764638896203704\n",
      "Training Accuracy: 0.24913194444444445\n",
      "Validation Loss: 0.050507628462380834\n",
      "Validation Accuracy: 0.30092592592592593\n",
      "Epoch: 25\n",
      "Training Loss: 0.05065162969252991\n",
      "Training Accuracy: 0.25593171296296297\n",
      "Validation Loss: 0.05044026403791375\n",
      "Validation Accuracy: 0.2835648148148148\n",
      "Epoch: 26\n",
      "Training Loss: 0.048955973539570416\n",
      "Training Accuracy: 0.2628761574074074\n",
      "Validation Loss: 0.050181882731892447\n",
      "Validation Accuracy: 0.28935185185185186\n",
      "Epoch: 27\n",
      "Training Loss: 0.04741943367170515\n",
      "Training Accuracy: 0.27025462962962965\n",
      "Validation Loss: 0.05046442123474898\n",
      "Validation Accuracy: 0.27546296296296297\n",
      "Epoch: 28\n",
      "Training Loss: 0.04653504041575447\n",
      "Training Accuracy: 0.26982060185185186\n",
      "Validation Loss: 0.05087328964361438\n",
      "Validation Accuracy: 0.26967592592592593\n",
      "Epoch: 29\n",
      "Training Loss: 0.044809082811870786\n",
      "Training Accuracy: 0.28660300925925924\n",
      "Validation Loss: 0.04989906158988123\n",
      "Validation Accuracy: 0.27662037037037035\n",
      "Epoch: 30\n",
      "Training Loss: 0.0442969395339282\n",
      "Training Accuracy: 0.2764756944444444\n",
      "Validation Loss: 0.04972356978665899\n",
      "Validation Accuracy: 0.27546296296296297\n"
     ]
    }
   ],
   "source": [
    "training_loss_storage = []\n",
    "training_accuracy_storage = []\n",
    "validation_loss_storage = []\n",
    "validation_accuracy_storage = []\n",
    "\n",
    "for i in range(epochs):\n",
    "    \n",
    "    print(\"Epoch: {}\".format(i+1))\n",
    "    \n",
    "    training_loss = 0\n",
    "    training_accuracy = 0\n",
    "    training_processed_data = 0\n",
    "    \n",
    "    for x, y in rrIntervalDataLoaderTrain:\n",
    "        x = x.cuda()\n",
    "        y = y.cuda()\n",
    "        \n",
    "        #print(x)\n",
    "        #print(y)\n",
    "        \n",
    "        # Reset Gradients\n",
    "        optimizer.zero_grad()\n",
    "\n",
    "        # Forward, Loss, Backwards, Update\n",
    "        output = model(x)\n",
    "        loss = criterion(output, y)\n",
    "        loss.backward()\n",
    "        optimizer.step()\n",
    "        \n",
    "        training_processed_data += x.shape[0]\n",
    "\n",
    "        # Calculate Metrics\n",
    "        training_loss += loss.item()\n",
    "        training_accuracy += torch.sum(torch.exp(output).topk(1)[1].view(-1) == y).item()\n",
    "    \n",
    "    else:\n",
    "        print(\"Training Loss: {}\".format(training_loss/training_processed_data))\n",
    "        print(\"Training Accuracy: {}\".format(training_accuracy/training_processed_data))\n",
    "        \n",
    "        training_loss_storage.append(training_loss/training_processed_data)\n",
    "        training_accuracy_storage.append(training_accuracy/training_processed_data)\n",
    "        \n",
    "        validation_loss = 0\n",
    "        validation_accuracy = 0\n",
    "        validation_processed_data = 0\n",
    "\n",
    "        model.eval()\n",
    "\n",
    "        with torch.no_grad():\n",
    "            for x, y in rrIntervalDataLoaderVal:\n",
    "                x = x.cuda()\n",
    "                y = y.cuda()\n",
    "\n",
    "                output_validation = model(x)\n",
    "                loss_val = criterion(output_validation, y)\n",
    "                \n",
    "                validation_processed_data += x.shape[0]\n",
    "                \n",
    "                validation_loss += loss_val.item()\n",
    "                validation_accuracy += torch.sum(\n",
    "                    torch.exp(output_validation).topk(1, dim=1)[1].view(-1) == y).item()\n",
    "            else:\n",
    "                print(\"Validation Loss: {}\".format(validation_loss/validation_processed_data))\n",
    "                print(\"Validation Accuracy: {}\".format(validation_accuracy/validation_processed_data))\n",
    "                \n",
    "                validation_loss_storage.append(validation_loss/validation_processed_data)\n",
    "                validation_accuracy_storage.append(validation_accuracy/validation_processed_data)\n",
    "                \n",
    "                model.train()\n",
    "                "
   ]
  },
  {
   "cell_type": "markdown",
   "metadata": {},
   "source": [
    "True label:"
   ]
  },
  {
   "cell_type": "code",
   "execution_count": 47,
   "metadata": {},
   "outputs": [],
   "source": [
    "X, Y = next(iter(rrIntervalDataLoaderVal))\n",
    "res = model(X.cuda()).cpu()"
   ]
  },
  {
   "cell_type": "code",
   "execution_count": 48,
   "metadata": {},
   "outputs": [],
   "source": [
    "true_label = int(Y[0])"
   ]
  },
  {
   "cell_type": "code",
   "execution_count": 49,
   "metadata": {},
   "outputs": [],
   "source": [
    "import numpy as np\n",
    "import matplotlib.pyplot as plt"
   ]
  },
  {
   "cell_type": "code",
   "execution_count": 50,
   "metadata": {},
   "outputs": [
    {
     "data": {
      "image/png": "[encoded data removed]",
      "text/plain": [
       "<Figure size 960x640 with 1 Axes>"
      ]
     },
     "metadata": {
      "needs_background": "light"
     },
     "output_type": "display_data"
    }
   ],
   "source": [
    "posterior = np.array(torch.exp(res[0]).detach().cpu())\n",
    "plt.bar(range(7), posterior);\n",
    "plt.title(f'True Label: {true_label}');"
   ]
  },
  {
   "cell_type": "code",
   "execution_count": 51,
   "metadata": {},
   "outputs": [],
   "source": [
    "import matplotlib.pyplot as plt\n",
    "%matplotlib inline\n",
    "plt.rcParams['figure.dpi']= 160"
   ]
  },
  {
   "cell_type": "code",
   "execution_count": 52,
   "metadata": {},
   "outputs": [
    {
     "data": {
      "image/png": "[encoded data removed]",
      "text/plain": [
       "<Figure size 960x640 with 1 Axes>"
      ]
     },
     "metadata": {
      "needs_background": "light"
     },
     "output_type": "display_data"
    }
   ],
   "source": [
    "plt.plot(range(len(training_loss_storage)), training_loss_storage, label=\"Training Loss\");\n",
    "plt.plot(range(len(validation_loss_storage)), validation_loss_storage, label=\"Validation Loss\");\n",
    "plt.legend()\n",
    "plt.ylabel('Loss');\n",
    "plt.xlabel('Epoch');\n",
    "plt.title('Loss during training');"
   ]
  },
  {
   "cell_type": "code",
   "execution_count": 53,
   "metadata": {},
   "outputs": [
    {
     "data": {
      "image/png": "[encoded data removed]",
      "text/plain": [
       "<Figure size 960x640 with 1 Axes>"
      ]
     },
     "metadata": {
      "needs_background": "light"
     },
     "output_type": "display_data"
    }
   ],
   "source": [
    "plt.plot(range(len(training_accuracy_storage)), training_accuracy_storage, label=\"Training Accuracy\");\n",
    "plt.plot(range(len(validation_accuracy_storage)), validation_accuracy_storage, label=\"Validation Accuracy\");\n",
    "plt.legend()\n",
    "plt.ylabel('Accuarcy');\n",
    "plt.xlabel('Epoch');\n",
    "plt.title('Accuracy during training');"
   ]
  },
  {
   "cell_type": "markdown",
   "metadata": {},
   "source": [
    "## Testing"
   ]
  },
  {
   "cell_type": "markdown",
   "metadata": {},
   "source": [
    "**This code only works if the data sets are not shuffled!!!**"
   ]
  },
  {
   "cell_type": "code",
   "execution_count": 54,
   "metadata": {},
   "outputs": [],
   "source": [
    "def distrib(predictions, classes=7):\n",
    "    res = [0]*classes\n",
    "    \n",
    "    for pred in predictions:\n",
    "        res[pred] += 1\n",
    "    return res"
   ]
  },
  {
   "cell_type": "code",
   "execution_count": 55,
   "metadata": {},
   "outputs": [],
   "source": [
    "def classify_with_probs(dataLoader):\n",
    "    \n",
    "    matches = []\n",
    "    model.eval()\n",
    "    \n",
    "    for x, y in dataLoader:\n",
    "        \n",
    "        y_hat = model(x.cuda()).cpu()\n",
    "        y_hat = np.array(torch.exp(y_hat).detach().numpy())\n",
    "        y_hat = np.argmax(np.sum(y_hat, axis=0))\n",
    "        matches.append(np.argmax(y_hat) == np.array(y[0]))\n",
    "        \n",
    "    model.train()\n",
    "    \n",
    "    return matches"
   ]
  },
  {
   "cell_type": "code",
   "execution_count": 56,
   "metadata": {},
   "outputs": [],
   "source": [
    "def classify(dataLoader):\n",
    "    \n",
    "    matches = []\n",
    "    model.eval()\n",
    "    \n",
    "    for x, y in dataLoader:\n",
    "\n",
    "        y_hat = model(x.cuda()).cpu()\n",
    "        y_hat = distrib(np.array(torch.exp(y_hat).topk(1, dim=1)[1].view(-1)))\n",
    "        matches.append(np.argmax(y_hat) == y[0])\n",
    "  \n",
    "    model.train()\n",
    "    \n",
    "    return matches"
   ]
  },
  {
   "cell_type": "code",
   "execution_count": 57,
   "metadata": {},
   "outputs": [
    {
     "data": {
      "text/plain": [
       "0.3333333333333333"
      ]
     },
     "execution_count": 57,
     "metadata": {},
     "output_type": "execute_result"
    }
   ],
   "source": [
    "np.mean(classify(rrIntervalDataLoaderVal))"
   ]
  },
  {
   "cell_type": "code",
   "execution_count": 58,
   "metadata": {},
   "outputs": [
    {
     "data": {
      "text/plain": [
       "0.16666666666666666"
      ]
     },
     "execution_count": 58,
     "metadata": {},
     "output_type": "execute_result"
    }
   ],
   "source": [
    "np.mean(classify_with_probs(rrIntervalDataLoaderVal))"
   ]
  },
  {
   "cell_type": "code",
   "execution_count": 59,
   "metadata": {},
   "outputs": [
    {
     "data": {
      "text/plain": [
       "0.05263157894736842"
      ]
     },
     "execution_count": 59,
     "metadata": {},
     "output_type": "execute_result"
    }
   ],
   "source": [
    "np.mean(classify(rrIntervalDataLoaderTest))"
   ]
  },
  {
   "cell_type": "code",
   "execution_count": 60,
   "metadata": {},
   "outputs": [
    {
     "data": {
      "text/plain": [
       "0.15789473684210525"
      ]
     },
     "execution_count": 60,
     "metadata": {},
     "output_type": "execute_result"
    }
   ],
   "source": [
    "np.mean(classify_with_probs(rrIntervalDataLoaderTest))"
   ]
  },
  {
   "cell_type": "code",
   "execution_count": null,
   "metadata": {},
   "outputs": [],
   "source": []
  }
 ],
 "metadata": {
  "kernelspec": {
   "display_name": "Python 3",
   "language": "python",
   "name": "python3"
  },
  "language_info": {
   "codemirror_mode": {
    "name": "ipython",
    "version": 3
   },
   "file_extension": ".py",
   "mimetype": "text/x-python",
   "name": "python",
   "nbconvert_exporter": "python",
   "pygments_lexer": "ipython3",
   "version": "3.8.1"
  }
 },
 "nbformat": 4,
 "nbformat_minor": 4
}
