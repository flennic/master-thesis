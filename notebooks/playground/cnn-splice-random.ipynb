{
 "cells": [
  {
   "cell_type": "markdown",
   "metadata": {},
   "source": [
    "# CNN Implementation - Splice Random"
   ]
  },
  {
   "cell_type": "markdown",
   "metadata": {},
   "source": [
    "## Load Data"
   ]
  },
  {
   "cell_type": "code",
   "execution_count": 1,
   "metadata": {},
   "outputs": [],
   "source": [
    "# Hyper Parameters\n",
    "N = 400\n",
    "SIZE = 5_000\n",
    "LR = 0.0001\n",
    "EPOCHS = 30\n",
    "splits = [0.8, 0.1, 0.1]\n",
    "SEED = 21\n",
    "data_dir = \"../data/age_decades/\""
   ]
  },
  {
   "cell_type": "code",
   "execution_count": 2,
   "metadata": {},
   "outputs": [],
   "source": [
    "# Imports\n",
    "import os\n",
    "import math\n",
    "import numpy as np\n",
    "import pandas as pd\n",
    "from datetime import datetime\n",
    "np.random.seed(seed=SEED)"
   ]
  },
  {
   "cell_type": "code",
   "execution_count": 3,
   "metadata": {},
   "outputs": [],
   "source": [
    "def raw_recording_to_dict(filepath, rawPythonic=True):\n",
    "    \n",
    "    recording = {}\n",
    "    \n",
    "    with open(filepath) as raw_recording:\n",
    "        \n",
    "        recording[\"Gender\"] = filepath.split(\"/\")[-1][0:1]\n",
    "        recording[\"AgeDecade\"] = filepath.split(\"/\")[-1][1:3]\n",
    "        recording[\"RecordingStartTime\"] = datetime.strptime(filepath.split(\"/\")[-1][4:9], '%H.%M').time()\n",
    "        \n",
    "        series = {\"ContractionNo\": [], \"ContractionNoNorm\": [], \"RrInterval\": []}\n",
    "        \n",
    "        first_index = None\n",
    "        previous_ContractionNo = None\n",
    "        \n",
    "        for line in raw_recording:\n",
    "            \n",
    "            # Handling shifted indexes\n",
    "            if first_index is None:\n",
    "                first_index = int(line.split()[1])\n",
    "            \n",
    "            # Fill missing data with None's\n",
    "            if previous_ContractionNo is not None:\n",
    "                diff = abs(previous_ContractionNo - int(line.split()[1]))\n",
    "                \n",
    "                if diff > 1:\n",
    "                    \n",
    "                    filling_indexes = np.array(range(previous_ContractionNo+1, int(line.split()[1])))\n",
    "                    \n",
    "                    series[\"ContractionNo\"].extend(filling_indexes)\n",
    "                    series[\"ContractionNoNorm\"].extend(filling_indexes - first_index)\n",
    "                    series[\"RrInterval\"].extend([math.nan]*(diff-1))\n",
    "          \n",
    "            series[\"ContractionNo\"].append(int(line.split()[1]))\n",
    "            series[\"ContractionNoNorm\"].append(int(line.split()[1]) - first_index)\n",
    "            series[\"RrInterval\"].append(int(line.split()[0]))\n",
    "            \n",
    "            previous_ContractionNo = int(line.split()[1])\n",
    "            \n",
    "        if rawPythonic:\n",
    "            recording[\"Series\"] = series\n",
    "            recording[\"RecordingStartTime\"] = str(recording[\"RecordingStartTime\"])\n",
    "        else:\n",
    "            recording[\"Series\"] = pd.DataFrame(series)\n",
    "            \n",
    "        return recording"
   ]
  },
  {
   "cell_type": "code",
   "execution_count": 4,
   "metadata": {},
   "outputs": [],
   "source": [
    "def splice_random(series, n=100, size=500, sigma=50):\n",
    "    cap = len(series) - size\n",
    "    starts = np.random.randint(cap, size=n)\n",
    "    ends = [max(min(round(np.random.normal(start+size, sigma)), cap+size), start+1) for start in starts]\n",
    "    splices = [series.iloc[start:end,] for start, end in zip(starts, ends)]\n",
    "    return splices"
   ]
  },
  {
   "cell_type": "code",
   "execution_count": 5,
   "metadata": {},
   "outputs": [],
   "source": [
    "def splice_constant(series, n=48):\n",
    "    return np.array_split(series, n)"
   ]
  },
  {
   "cell_type": "code",
   "execution_count": 6,
   "metadata": {},
   "outputs": [],
   "source": [
    "def splice_rr_intervals_constant(rr_intervals, n=48):\n",
    "    \n",
    "    spliced_recordings = []\n",
    "    \n",
    "    for recording in rr_intervals:\n",
    "        recording_copy = recording.copy()\n",
    "        # List of data frames\n",
    "        splices = splice_constant(recording_copy[\"Series\"], n=n)\n",
    "        \n",
    "        for splice in splices:\n",
    "            #spliced_recording = {}\n",
    "            recording_copy[\"Series\"] = splice\n",
    "            spliced_recordings.append(recording_copy)\n",
    "            \n",
    "    return spliced_recordings  "
   ]
  },
  {
   "cell_type": "code",
   "execution_count": 7,
   "metadata": {},
   "outputs": [],
   "source": [
    "def splice_rr_intervals_random(rr_intervals, n=48, size=500, sigma=50):\n",
    "    \n",
    "    spliced_recordings = []\n",
    "    \n",
    "    for recording in rr_intervals:\n",
    "        # List of data frames\n",
    "        splices = splice_random(recording[\"Series\"], n=n, size=500, sigma=50)\n",
    "        \n",
    "        for splice in splices:\n",
    "            recording_copy = recording.copy()\n",
    "            recording_copy[\"Series\"] = splice\n",
    "            spliced_recordings.append(recording_copy)\n",
    "            \n",
    "    return spliced_recordings  "
   ]
  },
  {
   "cell_type": "code",
   "execution_count": 8,
   "metadata": {},
   "outputs": [],
   "source": [
    "def decade_to_label(decade):\n",
    "    return(int(int(decade)/10) - 2)"
   ]
  },
  {
   "cell_type": "code",
   "execution_count": 9,
   "metadata": {},
   "outputs": [],
   "source": [
    "def label_to_decade(label):\n",
    "    return(str((label+2)*10))"
   ]
  },
  {
   "cell_type": "code",
   "execution_count": 10,
   "metadata": {},
   "outputs": [],
   "source": [
    "def pad(l, size, padding):\n",
    "    l = list(l)\n",
    "    l = l[0:min(len(l), size)]\n",
    "    return l + [padding] * abs((len(l)-size))"
   ]
  },
  {
   "cell_type": "code",
   "execution_count": 11,
   "metadata": {},
   "outputs": [],
   "source": [
    "def normalise(l):\n",
    "    scaled = l - np.mean(l)\n",
    "    return scaled / np.std(scaled)"
   ]
  },
  {
   "cell_type": "code",
   "execution_count": 12,
   "metadata": {},
   "outputs": [],
   "source": [
    "def rr_interval_dict_to_matrix(rr_interval_dict, pad_length):\n",
    "    data = []\n",
    "    labels = []\n",
    "    for recording in rr_interval_dict:\n",
    "        label = decade_to_label(recording[\"AgeDecade\"])\n",
    "        \n",
    "        # Interpolate\n",
    "        series = recording[\"Series\"][\"RrInterval\"].interpolate(method='linear', axis=0, limit_direction='both')\n",
    "        \n",
    "        # Normalise\n",
    "        #series = normalise(series)\n",
    "        \n",
    "        # Pad\n",
    "        series = pad(series, pad_length, 0)\n",
    "        \n",
    "        #series = pad(normalise(recording[\"Series\"][\"RrInterval\"]), pad_length, 0)\n",
    "        labels.append(label)\n",
    "        data.append(series)\n",
    "    data = pd.DataFrame(data)\n",
    "    \n",
    "    return labels, data"
   ]
  },
  {
   "cell_type": "code",
   "execution_count": 13,
   "metadata": {},
   "outputs": [
    {
     "name": "stdout",
     "output_type": "stream",
     "text": [
      "CPU times: user 11.1 s, sys: 207 ms, total: 11.3 s\n",
      "Wall time: 11.3 s\n"
     ]
    }
   ],
   "source": [
    "%%time\n",
    "recordings = []\n",
    "for filename in os.listdir(data_dir):\n",
    "    recordings.append(raw_recording_to_dict(data_dir + filename, False))"
   ]
  },
  {
   "cell_type": "code",
   "execution_count": 14,
   "metadata": {},
   "outputs": [
    {
     "name": "stdout",
     "output_type": "stream",
     "text": [
      "CPU times: user 8.87 s, sys: 67.8 ms, total: 8.94 s\n",
      "Wall time: 8.93 s\n"
     ]
    }
   ],
   "source": [
    "%%time\n",
    "train_orig, val_orig, test_orig = np.array_split(recordings, (np.array(splits)[:-1].cumsum() * len(recordings)).astype(int))\n",
    "train = splice_rr_intervals_random(train_orig, n=N, size=SIZE)\n",
    "val = splice_rr_intervals_random(val_orig, n=N, size=SIZE)\n",
    "test = splice_rr_intervals_random(test_orig, n=N, size=SIZE)"
   ]
  },
  {
   "cell_type": "code",
   "execution_count": 15,
   "metadata": {},
   "outputs": [
    {
     "name": "stdout",
     "output_type": "stream",
     "text": [
      "CPU times: user 68.5 ms, sys: 7 µs, total: 68.5 ms\n",
      "Wall time: 67.1 ms\n"
     ]
    }
   ],
   "source": [
    "%%time\n",
    "max_length_rr = max([recording[\"Series\"].shape[0] for recording in train])\n",
    "colnames = [\"label\"] + [\"rr\" + str(i+1) for i in range(max_length_rr)]"
   ]
  },
  {
   "cell_type": "code",
   "execution_count": 16,
   "metadata": {},
   "outputs": [
    {
     "name": "stdout",
     "output_type": "stream",
     "text": [
      "CPU times: user 35.5 s, sys: 920 ms, total: 36.5 s\n",
      "Wall time: 36.4 s\n"
     ]
    },
    {
     "data": {
      "text/html": [
       "<div>\n",
       "<style scoped>\n",
       "    .dataframe tbody tr th:only-of-type {\n",
       "        vertical-align: middle;\n",
       "    }\n",
       "\n",
       "    .dataframe tbody tr th {\n",
       "        vertical-align: top;\n",
       "    }\n",
       "\n",
       "    .dataframe thead th {\n",
       "        text-align: right;\n",
       "    }\n",
       "</style>\n",
       "<table border=\"1\" class=\"dataframe\">\n",
       "  <thead>\n",
       "    <tr style=\"text-align: right;\">\n",
       "      <th></th>\n",
       "      <th>0</th>\n",
       "      <th>1</th>\n",
       "      <th>2</th>\n",
       "      <th>3</th>\n",
       "      <th>4</th>\n",
       "      <th>5</th>\n",
       "      <th>6</th>\n",
       "      <th>7</th>\n",
       "      <th>8</th>\n",
       "      <th>9</th>\n",
       "      <th>...</th>\n",
       "      <th>680</th>\n",
       "      <th>681</th>\n",
       "      <th>682</th>\n",
       "      <th>683</th>\n",
       "      <th>684</th>\n",
       "      <th>685</th>\n",
       "      <th>686</th>\n",
       "      <th>687</th>\n",
       "      <th>688</th>\n",
       "      <th>689</th>\n",
       "    </tr>\n",
       "  </thead>\n",
       "  <tbody>\n",
       "    <tr>\n",
       "      <th>0</th>\n",
       "      <td>1240.0</td>\n",
       "      <td>1240.0</td>\n",
       "      <td>1256.0</td>\n",
       "      <td>1216.0</td>\n",
       "      <td>1240.0</td>\n",
       "      <td>1240.0</td>\n",
       "      <td>1240.0</td>\n",
       "      <td>1264.0</td>\n",
       "      <td>1232.0</td>\n",
       "      <td>1208.0</td>\n",
       "      <td>...</td>\n",
       "      <td>0.0</td>\n",
       "      <td>0.0</td>\n",
       "      <td>0.0</td>\n",
       "      <td>0.0</td>\n",
       "      <td>0.0</td>\n",
       "      <td>0.0</td>\n",
       "      <td>0.0</td>\n",
       "      <td>0.0</td>\n",
       "      <td>0.0</td>\n",
       "      <td>0</td>\n",
       "    </tr>\n",
       "    <tr>\n",
       "      <th>1</th>\n",
       "      <td>1088.0</td>\n",
       "      <td>1096.0</td>\n",
       "      <td>1096.0</td>\n",
       "      <td>1104.0</td>\n",
       "      <td>1080.0</td>\n",
       "      <td>1096.0</td>\n",
       "      <td>1080.0</td>\n",
       "      <td>1064.0</td>\n",
       "      <td>1056.0</td>\n",
       "      <td>1064.0</td>\n",
       "      <td>...</td>\n",
       "      <td>0.0</td>\n",
       "      <td>0.0</td>\n",
       "      <td>0.0</td>\n",
       "      <td>0.0</td>\n",
       "      <td>0.0</td>\n",
       "      <td>0.0</td>\n",
       "      <td>0.0</td>\n",
       "      <td>0.0</td>\n",
       "      <td>0.0</td>\n",
       "      <td>0</td>\n",
       "    </tr>\n",
       "    <tr>\n",
       "      <th>2</th>\n",
       "      <td>1048.0</td>\n",
       "      <td>1072.0</td>\n",
       "      <td>1080.0</td>\n",
       "      <td>1072.0</td>\n",
       "      <td>1080.0</td>\n",
       "      <td>1096.0</td>\n",
       "      <td>1088.0</td>\n",
       "      <td>1080.0</td>\n",
       "      <td>1088.0</td>\n",
       "      <td>1080.0</td>\n",
       "      <td>...</td>\n",
       "      <td>0.0</td>\n",
       "      <td>0.0</td>\n",
       "      <td>0.0</td>\n",
       "      <td>0.0</td>\n",
       "      <td>0.0</td>\n",
       "      <td>0.0</td>\n",
       "      <td>0.0</td>\n",
       "      <td>0.0</td>\n",
       "      <td>0.0</td>\n",
       "      <td>0</td>\n",
       "    </tr>\n",
       "    <tr>\n",
       "      <th>3</th>\n",
       "      <td>1184.0</td>\n",
       "      <td>1184.0</td>\n",
       "      <td>1152.0</td>\n",
       "      <td>1128.0</td>\n",
       "      <td>1128.0</td>\n",
       "      <td>1112.0</td>\n",
       "      <td>1112.0</td>\n",
       "      <td>1104.0</td>\n",
       "      <td>1088.0</td>\n",
       "      <td>1104.0</td>\n",
       "      <td>...</td>\n",
       "      <td>0.0</td>\n",
       "      <td>0.0</td>\n",
       "      <td>0.0</td>\n",
       "      <td>0.0</td>\n",
       "      <td>0.0</td>\n",
       "      <td>0.0</td>\n",
       "      <td>0.0</td>\n",
       "      <td>0.0</td>\n",
       "      <td>0.0</td>\n",
       "      <td>0</td>\n",
       "    </tr>\n",
       "    <tr>\n",
       "      <th>4</th>\n",
       "      <td>1232.0</td>\n",
       "      <td>1248.0</td>\n",
       "      <td>1240.0</td>\n",
       "      <td>1232.0</td>\n",
       "      <td>1240.0</td>\n",
       "      <td>1232.0</td>\n",
       "      <td>1248.0</td>\n",
       "      <td>1264.0</td>\n",
       "      <td>1264.0</td>\n",
       "      <td>1272.0</td>\n",
       "      <td>...</td>\n",
       "      <td>0.0</td>\n",
       "      <td>0.0</td>\n",
       "      <td>0.0</td>\n",
       "      <td>0.0</td>\n",
       "      <td>0.0</td>\n",
       "      <td>0.0</td>\n",
       "      <td>0.0</td>\n",
       "      <td>0.0</td>\n",
       "      <td>0.0</td>\n",
       "      <td>0</td>\n",
       "    </tr>\n",
       "    <tr>\n",
       "      <th>...</th>\n",
       "      <td>...</td>\n",
       "      <td>...</td>\n",
       "      <td>...</td>\n",
       "      <td>...</td>\n",
       "      <td>...</td>\n",
       "      <td>...</td>\n",
       "      <td>...</td>\n",
       "      <td>...</td>\n",
       "      <td>...</td>\n",
       "      <td>...</td>\n",
       "      <td>...</td>\n",
       "      <td>...</td>\n",
       "      <td>...</td>\n",
       "      <td>...</td>\n",
       "      <td>...</td>\n",
       "      <td>...</td>\n",
       "      <td>...</td>\n",
       "      <td>...</td>\n",
       "      <td>...</td>\n",
       "      <td>...</td>\n",
       "      <td>...</td>\n",
       "    </tr>\n",
       "    <tr>\n",
       "      <th>57595</th>\n",
       "      <td>1176.0</td>\n",
       "      <td>960.0</td>\n",
       "      <td>976.0</td>\n",
       "      <td>1272.0</td>\n",
       "      <td>1264.0</td>\n",
       "      <td>1264.0</td>\n",
       "      <td>1152.0</td>\n",
       "      <td>1144.0</td>\n",
       "      <td>1248.0</td>\n",
       "      <td>1240.0</td>\n",
       "      <td>...</td>\n",
       "      <td>0.0</td>\n",
       "      <td>0.0</td>\n",
       "      <td>0.0</td>\n",
       "      <td>0.0</td>\n",
       "      <td>0.0</td>\n",
       "      <td>0.0</td>\n",
       "      <td>0.0</td>\n",
       "      <td>0.0</td>\n",
       "      <td>0.0</td>\n",
       "      <td>0</td>\n",
       "    </tr>\n",
       "    <tr>\n",
       "      <th>57596</th>\n",
       "      <td>1200.0</td>\n",
       "      <td>1192.0</td>\n",
       "      <td>1136.0</td>\n",
       "      <td>1056.0</td>\n",
       "      <td>1248.0</td>\n",
       "      <td>1256.0</td>\n",
       "      <td>1224.0</td>\n",
       "      <td>1192.0</td>\n",
       "      <td>1184.0</td>\n",
       "      <td>1216.0</td>\n",
       "      <td>...</td>\n",
       "      <td>0.0</td>\n",
       "      <td>0.0</td>\n",
       "      <td>0.0</td>\n",
       "      <td>0.0</td>\n",
       "      <td>0.0</td>\n",
       "      <td>0.0</td>\n",
       "      <td>0.0</td>\n",
       "      <td>0.0</td>\n",
       "      <td>0.0</td>\n",
       "      <td>0</td>\n",
       "    </tr>\n",
       "    <tr>\n",
       "      <th>57597</th>\n",
       "      <td>656.0</td>\n",
       "      <td>656.0</td>\n",
       "      <td>640.0</td>\n",
       "      <td>640.0</td>\n",
       "      <td>640.0</td>\n",
       "      <td>656.0</td>\n",
       "      <td>680.0</td>\n",
       "      <td>704.0</td>\n",
       "      <td>688.0</td>\n",
       "      <td>680.0</td>\n",
       "      <td>...</td>\n",
       "      <td>0.0</td>\n",
       "      <td>0.0</td>\n",
       "      <td>0.0</td>\n",
       "      <td>0.0</td>\n",
       "      <td>0.0</td>\n",
       "      <td>0.0</td>\n",
       "      <td>0.0</td>\n",
       "      <td>0.0</td>\n",
       "      <td>0.0</td>\n",
       "      <td>0</td>\n",
       "    </tr>\n",
       "    <tr>\n",
       "      <th>57598</th>\n",
       "      <td>1008.0</td>\n",
       "      <td>1080.0</td>\n",
       "      <td>1096.0</td>\n",
       "      <td>1256.0</td>\n",
       "      <td>1280.0</td>\n",
       "      <td>1208.0</td>\n",
       "      <td>1128.0</td>\n",
       "      <td>1200.0</td>\n",
       "      <td>1232.0</td>\n",
       "      <td>1160.0</td>\n",
       "      <td>...</td>\n",
       "      <td>0.0</td>\n",
       "      <td>0.0</td>\n",
       "      <td>0.0</td>\n",
       "      <td>0.0</td>\n",
       "      <td>0.0</td>\n",
       "      <td>0.0</td>\n",
       "      <td>0.0</td>\n",
       "      <td>0.0</td>\n",
       "      <td>0.0</td>\n",
       "      <td>0</td>\n",
       "    </tr>\n",
       "    <tr>\n",
       "      <th>57599</th>\n",
       "      <td>840.0</td>\n",
       "      <td>888.0</td>\n",
       "      <td>912.0</td>\n",
       "      <td>928.0</td>\n",
       "      <td>912.0</td>\n",
       "      <td>928.0</td>\n",
       "      <td>968.0</td>\n",
       "      <td>1000.0</td>\n",
       "      <td>968.0</td>\n",
       "      <td>904.0</td>\n",
       "      <td>...</td>\n",
       "      <td>0.0</td>\n",
       "      <td>0.0</td>\n",
       "      <td>0.0</td>\n",
       "      <td>0.0</td>\n",
       "      <td>0.0</td>\n",
       "      <td>0.0</td>\n",
       "      <td>0.0</td>\n",
       "      <td>0.0</td>\n",
       "      <td>0.0</td>\n",
       "      <td>0</td>\n",
       "    </tr>\n",
       "  </tbody>\n",
       "</table>\n",
       "<p>57600 rows × 690 columns</p>\n",
       "</div>"
      ],
      "text/plain": [
       "          0       1       2       3       4       5       6       7       8    \\\n",
       "0      1240.0  1240.0  1256.0  1216.0  1240.0  1240.0  1240.0  1264.0  1232.0   \n",
       "1      1088.0  1096.0  1096.0  1104.0  1080.0  1096.0  1080.0  1064.0  1056.0   \n",
       "2      1048.0  1072.0  1080.0  1072.0  1080.0  1096.0  1088.0  1080.0  1088.0   \n",
       "3      1184.0  1184.0  1152.0  1128.0  1128.0  1112.0  1112.0  1104.0  1088.0   \n",
       "4      1232.0  1248.0  1240.0  1232.0  1240.0  1232.0  1248.0  1264.0  1264.0   \n",
       "...       ...     ...     ...     ...     ...     ...     ...     ...     ...   \n",
       "57595  1176.0   960.0   976.0  1272.0  1264.0  1264.0  1152.0  1144.0  1248.0   \n",
       "57596  1200.0  1192.0  1136.0  1056.0  1248.0  1256.0  1224.0  1192.0  1184.0   \n",
       "57597   656.0   656.0   640.0   640.0   640.0   656.0   680.0   704.0   688.0   \n",
       "57598  1008.0  1080.0  1096.0  1256.0  1280.0  1208.0  1128.0  1200.0  1232.0   \n",
       "57599   840.0   888.0   912.0   928.0   912.0   928.0   968.0  1000.0   968.0   \n",
       "\n",
       "          9    ...  680  681  682  683  684  685  686  687  688  689  \n",
       "0      1208.0  ...  0.0  0.0  0.0  0.0  0.0  0.0  0.0  0.0  0.0    0  \n",
       "1      1064.0  ...  0.0  0.0  0.0  0.0  0.0  0.0  0.0  0.0  0.0    0  \n",
       "2      1080.0  ...  0.0  0.0  0.0  0.0  0.0  0.0  0.0  0.0  0.0    0  \n",
       "3      1104.0  ...  0.0  0.0  0.0  0.0  0.0  0.0  0.0  0.0  0.0    0  \n",
       "4      1272.0  ...  0.0  0.0  0.0  0.0  0.0  0.0  0.0  0.0  0.0    0  \n",
       "...       ...  ...  ...  ...  ...  ...  ...  ...  ...  ...  ...  ...  \n",
       "57595  1240.0  ...  0.0  0.0  0.0  0.0  0.0  0.0  0.0  0.0  0.0    0  \n",
       "57596  1216.0  ...  0.0  0.0  0.0  0.0  0.0  0.0  0.0  0.0  0.0    0  \n",
       "57597   680.0  ...  0.0  0.0  0.0  0.0  0.0  0.0  0.0  0.0  0.0    0  \n",
       "57598  1160.0  ...  0.0  0.0  0.0  0.0  0.0  0.0  0.0  0.0  0.0    0  \n",
       "57599   904.0  ...  0.0  0.0  0.0  0.0  0.0  0.0  0.0  0.0  0.0    0  \n",
       "\n",
       "[57600 rows x 690 columns]"
      ]
     },
     "execution_count": 16,
     "metadata": {},
     "output_type": "execute_result"
    }
   ],
   "source": [
    "%%time\n",
    "train_labels, train = rr_interval_dict_to_matrix(train, max_length_rr)\n",
    "val_labels, val = rr_interval_dict_to_matrix(val, max_length_rr)\n",
    "test_labels, test = rr_interval_dict_to_matrix(test, max_length_rr)\n",
    "train"
   ]
  },
  {
   "cell_type": "code",
   "execution_count": 17,
   "metadata": {},
   "outputs": [
    {
     "name": "stdout",
     "output_type": "stream",
     "text": [
      "CPU times: user 20.2 ms, sys: 0 ns, total: 20.2 ms\n",
      "Wall time: 19.1 ms\n"
     ]
    }
   ],
   "source": [
    "%%time\n",
    "train.insert(0, \"label\", train_labels)\n",
    "train.columns = colnames\n",
    "train[\"label\"] = train[\"label\"].astype('int32')\n",
    "\n",
    "val.insert(0, \"label\", val_labels)\n",
    "val.columns = colnames\n",
    "val[\"label\"] = val[\"label\"].astype('int32')\n",
    "\n",
    "test.insert(0, \"label\", test_labels)\n",
    "test.columns = colnames\n",
    "test[\"label\"] = test[\"label\"].astype('int32')"
   ]
  },
  {
   "cell_type": "markdown",
   "metadata": {},
   "source": [
    "To prevent information leakage, we will assume that the max length is given by the training set. If an entry in the test set it longer, we will simply drop the columns for now."
   ]
  },
  {
   "cell_type": "code",
   "execution_count": 18,
   "metadata": {},
   "outputs": [
    {
     "name": "stdout",
     "output_type": "stream",
     "text": [
      "CPU times: user 46.2 s, sys: 348 ms, total: 46.6 s\n",
      "Wall time: 46.6 s\n"
     ]
    }
   ],
   "source": [
    "%%time\n",
    "save_path_train = \"{}/preprocessed/train_spliced_random.csv\".format(\"/\".join(data_dir.split(\"/\")[:-2]))\n",
    "save_path_val = \"{}/preprocessed/val_spliced_random.csv\".format(\"/\".join(data_dir.split(\"/\")[:-2]))\n",
    "save_path_test = \"{}/preprocessed/test_spliced_random.csv\".format(\"/\".join(data_dir.split(\"/\")[:-2]))\n",
    "train.to_csv(save_path_train)\n",
    "val.to_csv(save_path_val)\n",
    "test.to_csv(save_path_test)"
   ]
  },
  {
   "cell_type": "markdown",
   "metadata": {},
   "source": [
    "## RrIntervalDataset"
   ]
  },
  {
   "cell_type": "code",
   "execution_count": 48,
   "metadata": {},
   "outputs": [],
   "source": [
    "# Hyper Parameters\n",
    "N = 400\n",
    "SIZE = 5_000\n",
    "LR = 0.00001\n",
    "EPOCHS = 30\n",
    "splits = [0.8, 0.1, 0.1]\n",
    "SEED = 21\n",
    "data_dir = \"../data/age_decades/\""
   ]
  },
  {
   "cell_type": "code",
   "execution_count": 49,
   "metadata": {},
   "outputs": [],
   "source": [
    "save_path_train = \"{}/preprocessed/train_spliced_random.csv\".format(\"/\".join(data_dir.split(\"/\")[:-2]))\n",
    "save_path_val = \"{}/preprocessed/val_spliced_random.csv\".format(\"/\".join(data_dir.split(\"/\")[:-2]))\n",
    "save_path_test = \"{}/preprocessed/test_spliced_random.csv\".format(\"/\".join(data_dir.split(\"/\")[:-2]))"
   ]
  },
  {
   "cell_type": "code",
   "execution_count": 50,
   "metadata": {},
   "outputs": [],
   "source": [
    "from torch.utils.data import Dataset\n",
    "import os\n",
    "\n",
    "class RrIntervalDataset(Dataset):\n",
    "    def __init__(self, path, header=True):\n",
    "        \n",
    "        self.samples = []\n",
    "        \n",
    "        with open(path, 'r') as file:\n",
    "            if header:\n",
    "                next(file)\n",
    "            for line in file:\n",
    "                self.samples.append(list(map(lambda x: float(x), line.split(\",\")[1:])))\n",
    "\n",
    "    def __len__(self):\n",
    "        return len(self.samples)\n",
    "\n",
    "    def __getitem__(self, idx):\n",
    "        return self.samples[idx]"
   ]
  },
  {
   "cell_type": "code",
   "execution_count": 51,
   "metadata": {},
   "outputs": [
    {
     "name": "stdout",
     "output_type": "stream",
     "text": [
      "CPU times: user 14 s, sys: 885 ms, total: 14.9 s\n",
      "Wall time: 14.9 s\n"
     ]
    }
   ],
   "source": [
    "%%time\n",
    "train_data = RrIntervalDataset(save_path_train)\n",
    "val_data = RrIntervalDataset(save_path_val)\n",
    "test_data = RrIntervalDataset(save_path_test)"
   ]
  },
  {
   "cell_type": "markdown",
   "metadata": {},
   "source": [
    "## RrIntervalDataLoader"
   ]
  },
  {
   "cell_type": "code",
   "execution_count": 52,
   "metadata": {},
   "outputs": [],
   "source": [
    "import torch\n",
    "def __batch2tensor__(batch):\n",
    "    \"\"\"\n",
    "    Takes a batch and transforms it in such a way that it can directly be fed to the network.\n",
    "    @param batch: List of x and y labels.\n",
    "    @return: Two tensors, one for x and one for y.\n",
    "    \"\"\"\n",
    "    #print(batch)\n",
    "    x, y = [None] * len(batch), [None] * len(batch)\n",
    "    for i, row in enumerate(batch):\n",
    "        #print(row)\n",
    "        y[i] = int(row[0])\n",
    "        x[i] = row[1:]\n",
    "\n",
    "    return torch.FloatTensor(x), torch.LongTensor(y)"
   ]
  },
  {
   "cell_type": "code",
   "execution_count": 53,
   "metadata": {},
   "outputs": [
    {
     "name": "stdout",
     "output_type": "stream",
     "text": [
      "CPU times: user 607 ms, sys: 312 ms, total: 919 ms\n",
      "Wall time: 914 ms\n"
     ]
    }
   ],
   "source": [
    "%%time\n",
    "from torch.utils.data import DataLoader\n",
    "\n",
    "# Batch size is one patient size!\n",
    "rrIntervalDataLoaderTrain = DataLoader(train_data, batch_size=N, num_workers=4, collate_fn=__batch2tensor__, shuffle=True)\n",
    "rrIntervalDataLoaderVal = DataLoader(val_data, batch_size=N, num_workers=4, collate_fn=__batch2tensor__)\n",
    "rrIntervalDataLoaderTest = DataLoader(test_data, batch_size=N, num_workers=4, collate_fn=__batch2tensor__)"
   ]
  },
  {
   "cell_type": "markdown",
   "metadata": {},
   "source": [
    "## Model Playground"
   ]
  },
  {
   "cell_type": "markdown",
   "metadata": {},
   "source": [
    "Input: $N, C_{in}, L_{in}$\n",
    "\n",
    "Output: $N, C_{out} , L_{out}$\n",
    "\n",
    "where $N$ is a batch size, $C$ denotes a number of channels, $L$ is a length of signal sequence."
   ]
  },
  {
   "cell_type": "code",
   "execution_count": 54,
   "metadata": {},
   "outputs": [
    {
     "data": {
      "text/plain": [
       "torch.Size([2, 16, 50])"
      ]
     },
     "execution_count": 54,
     "metadata": {},
     "output_type": "execute_result"
    }
   ],
   "source": [
    "import torch.nn as nn\n",
    "# IN: N, C, L\n",
    "input = torch.randn(2, 16, 50)\n",
    "input.shape"
   ]
  },
  {
   "cell_type": "code",
   "execution_count": 55,
   "metadata": {},
   "outputs": [
    {
     "data": {
      "text/plain": [
       "tensor([[[ 0.1324, -0.8841,  1.1306,  ...,  0.2408,  0.4151,  0.1044],\n",
       "         [ 2.1141, -1.1038, -0.8250,  ...,  0.8967,  0.4706, -0.7862],\n",
       "         [ 0.7569,  1.0330, -1.7449,  ..., -0.8668,  0.7469,  1.6374],\n",
       "         ...,\n",
       "         [-0.7303,  0.7772,  0.4252,  ..., -0.3673, -1.3784, -0.8307],\n",
       "         [ 0.7161, -0.1185,  0.8779,  ..., -0.3500, -1.2359,  0.7360],\n",
       "         [ 1.0798, -0.0268, -0.0540,  ...,  0.1969, -0.9584, -0.0877]],\n",
       "\n",
       "        [[-1.3553,  1.4786, -0.7723,  ..., -1.7872, -0.0689,  0.3796],\n",
       "         [ 0.7476, -0.3827, -0.5626,  ..., -1.3212, -0.8430,  0.1863],\n",
       "         [ 1.5717, -0.2668,  1.1828,  ...,  0.3015,  0.8416,  0.4450],\n",
       "         ...,\n",
       "         [ 0.4870,  1.8642,  1.9961,  ..., -0.0085,  0.9403, -0.0691],\n",
       "         [ 0.3264,  0.6175, -0.7317,  ..., -1.6030, -0.0089,  1.1434],\n",
       "         [ 0.6149, -1.2169,  0.8836,  ...,  0.0544,  0.0701, -0.9843]]])"
      ]
     },
     "execution_count": 55,
     "metadata": {},
     "output_type": "execute_result"
    }
   ],
   "source": [
    "input"
   ]
  },
  {
   "cell_type": "code",
   "execution_count": 56,
   "metadata": {},
   "outputs": [
    {
     "data": {
      "text/plain": [
       "torch.Size([2, 33, 24])"
      ]
     },
     "execution_count": 56,
     "metadata": {},
     "output_type": "execute_result"
    }
   ],
   "source": [
    "#in_channels, out_channels, kernel_size\n",
    "m = nn.Conv1d(16, 33, 3, stride=2)\n",
    "output = m(input)\n",
    "output.shape"
   ]
  },
  {
   "cell_type": "code",
   "execution_count": 57,
   "metadata": {},
   "outputs": [],
   "source": [
    "# target output size of 5\n",
    "m = nn.AdaptiveMaxPool1d(5)\n",
    "input = torch.randn(1, 64, 8)\n",
    "output = m(input)"
   ]
  },
  {
   "cell_type": "code",
   "execution_count": 58,
   "metadata": {},
   "outputs": [
    {
     "data": {
      "text/plain": [
       "torch.Size([1, 64, 5])"
      ]
     },
     "execution_count": 58,
     "metadata": {},
     "output_type": "execute_result"
    }
   ],
   "source": [
    "output.shape"
   ]
  },
  {
   "cell_type": "markdown",
   "metadata": {},
   "source": [
    "## Model Definition"
   ]
  },
  {
   "cell_type": "code",
   "execution_count": 59,
   "metadata": {},
   "outputs": [
    {
     "data": {
      "text/plain": [
       "tensor([[1040., 1016., 1000.,  ...,    0.,    0.,    0.],\n",
       "        [1072., 1064., 1056.,  ...,    0.,    0.,    0.],\n",
       "        [1272., 1240., 1264.,  ...,    0.,    0.,    0.],\n",
       "        ...,\n",
       "        [1072., 1072., 1024.,  ...,    0.,    0.,    0.],\n",
       "        [ 776.,  792.,  808.,  ...,    0.,    0.,    0.],\n",
       "        [ 848.,  840.,  848.,  ...,    0.,    0.,    0.]])"
      ]
     },
     "execution_count": 59,
     "metadata": {},
     "output_type": "execute_result"
    }
   ],
   "source": [
    "import torch.nn as nn\n",
    "\n",
    "class CnnStage(nn.Module):\n",
    "    def __init__(self, avg_sequence_length=25_000, dropout=0.25, no_classes=7):\n",
    "        super().__init__()\n",
    "\n",
    "        # Dropout\n",
    "        # Maybe for CNN, check literature\n",
    "        self.dropout = nn.Dropout(p=dropout)\n",
    "        \n",
    "        # Convolutions\n",
    "        #in_channels, out_channels, kernel_size\n",
    "        self.conv1d1 = nn.Conv1d(1, 64, 3, stride=1)\n",
    "        self.conv1d2 = nn.Conv1d(64, 64, 3, stride=1)\n",
    "        \n",
    "        self.conv1d3 = nn.Conv1d(64, 128, 3, stride=1)\n",
    "        self.conv1d4 = nn.Conv1d(128, 128, 3, stride=1)\n",
    "        \n",
    "        # Forward // Don't how to _not_ hardcode this...\n",
    "        self.fc1 = nn.Linear(21120, 256)\n",
    "        self.fc2 = nn.Linear(256, no_classes)\n",
    "        \n",
    "        # Activation\n",
    "        self.relu = nn.ReLU()\n",
    "\n",
    "        # Pooling\n",
    "        ## MaxPool\n",
    "        self.maxpool = nn.AdaptiveMaxPool1d(avg_sequence_length//10)\n",
    "        ## Average\n",
    "        self.avgpool = torch.nn.AvgPool1d(3)\n",
    "        \n",
    "        # Softmax\n",
    "        self.softmax = nn.LogSoftmax(dim=1)\n",
    "        \n",
    "    def forward(self, x):\n",
    "        # Pass the input tensor through each of our operations\n",
    "        \n",
    "        # CNN\n",
    "        x = x.view(x.shape[0], -1, x.shape[1])\n",
    "        x = self.conv1d1(x)\n",
    "        x = self.relu(x)\n",
    "        x = self.conv1d2(x)\n",
    "        x = self.maxpool(x)\n",
    "        x = self.conv1d3(x)\n",
    "        x = self.relu(x)\n",
    "        x = self.conv1d4(x)\n",
    "        x = self.avgpool(x)\n",
    "        x = x.view(x.shape[0], -1)\n",
    "        \n",
    "        # FFN\n",
    "        x = self.dropout(x)\n",
    "        x = self.fc1(x)\n",
    "        x = self.dropout(x)\n",
    "        x = self.fc2(x)\n",
    "        x = self.softmax(x)\n",
    "        \n",
    "        return x\n",
    "    \n",
    "model = CnnStage(SIZE).cuda()\n",
    "X, Y = next(iter(rrIntervalDataLoaderTrain))\n",
    "X"
   ]
  },
  {
   "cell_type": "code",
   "execution_count": 60,
   "metadata": {},
   "outputs": [
    {
     "data": {
      "text/plain": [
       "400"
      ]
     },
     "execution_count": 60,
     "metadata": {},
     "output_type": "execute_result"
    }
   ],
   "source": [
    "model(X.cuda()).shape[0]"
   ]
  },
  {
   "cell_type": "markdown",
   "metadata": {},
   "source": [
    "## Training"
   ]
  },
  {
   "cell_type": "code",
   "execution_count": 61,
   "metadata": {},
   "outputs": [],
   "source": [
    "optimizer = torch.optim.Adam(model.parameters(), lr=LR)\n",
    "criterion = torch.nn.NLLLoss()"
   ]
  },
  {
   "cell_type": "code",
   "execution_count": 62,
   "metadata": {},
   "outputs": [
    {
     "name": "stdout",
     "output_type": "stream",
     "text": [
      "Epoch: 1\n",
      "Training Loss: 0.023536852954162493\n",
      "Training Accuracy: 0.15901041666666665\n",
      "Validation Loss: 0.00507372635934088\n",
      "Validation Accuracy: 0.21083333333333334\n",
      "Epoch: 2\n",
      "Training Loss: 0.011045484050280519\n",
      "Training Accuracy: 0.1885763888888889\n",
      "Validation Loss: 0.005080824022491773\n",
      "Validation Accuracy: 0.19027777777777777\n",
      "Epoch: 3\n",
      "Training Loss: 0.0070668317046430375\n",
      "Training Accuracy: 0.2048611111111111\n",
      "Validation Loss: 0.0046555750734276246\n",
      "Validation Accuracy: 0.24597222222222223\n",
      "Epoch: 4\n",
      "Training Loss: 0.005431822327276071\n",
      "Training Accuracy: 0.2212326388888889\n",
      "Validation Loss: 0.0046641012363963655\n",
      "Validation Accuracy: 0.2288888888888889\n",
      "Epoch: 5\n",
      "Training Loss: 0.004784853056901031\n",
      "Training Accuracy: 0.23835069444444446\n",
      "Validation Loss: 0.004392050819264518\n",
      "Validation Accuracy: 0.32680555555555557\n",
      "Epoch: 6\n",
      "Training Loss: 0.004532063822779391\n",
      "Training Accuracy: 0.25300347222222225\n",
      "Validation Loss: 0.004687716033723619\n",
      "Validation Accuracy: 0.24944444444444444\n",
      "Epoch: 7\n",
      "Training Loss: 0.0044072583359148765\n",
      "Training Accuracy: 0.27185763888888886\n",
      "Validation Loss: 0.004596128695540958\n",
      "Validation Accuracy: 0.21\n",
      "Epoch: 8\n",
      "Training Loss: 0.0043292513800164065\n",
      "Training Accuracy: 0.2805902777777778\n",
      "Validation Loss: 0.004475981675916248\n",
      "Validation Accuracy: 0.25666666666666665\n",
      "Epoch: 9\n",
      "Training Loss: 0.004289885682778226\n",
      "Training Accuracy: 0.2890972222222222\n",
      "Validation Loss: 0.004519138857722283\n",
      "Validation Accuracy: 0.24902777777777776\n",
      "Epoch: 10\n",
      "Training Loss: 0.004272022613634666\n",
      "Training Accuracy: 0.2939236111111111\n",
      "Validation Loss: 0.00462359145283699\n",
      "Validation Accuracy: 0.2376388888888889\n",
      "Epoch: 11\n",
      "Training Loss: 0.004233911234057612\n",
      "Training Accuracy: 0.30105902777777777\n",
      "Validation Loss: 0.004592319180568059\n",
      "Validation Accuracy: 0.21833333333333332\n",
      "Epoch: 12\n",
      "Training Loss: 0.004211339079257514\n",
      "Training Accuracy: 0.30961805555555555\n",
      "Validation Loss: 0.004723654877808359\n",
      "Validation Accuracy: 0.2727777777777778\n",
      "Epoch: 13\n",
      "Training Loss: 0.004200327922072675\n",
      "Training Accuracy: 0.3067361111111111\n",
      "Validation Loss: 0.0046410520705911845\n",
      "Validation Accuracy: 0.21458333333333332\n",
      "Epoch: 14\n",
      "Training Loss: 0.004173985889388455\n",
      "Training Accuracy: 0.3134548611111111\n",
      "Validation Loss: 0.004632529152764214\n",
      "Validation Accuracy: 0.23180555555555554\n",
      "Epoch: 15\n",
      "Training Loss: 0.004160247629301415\n",
      "Training Accuracy: 0.3149826388888889\n",
      "Validation Loss: 0.00445271286699507\n",
      "Validation Accuracy: 0.2375\n",
      "Epoch: 16\n",
      "Training Loss: 0.004161090389308003\n",
      "Training Accuracy: 0.3127256944444444\n",
      "Validation Loss: 0.0045526758001910314\n",
      "Validation Accuracy: 0.22277777777777777\n",
      "Epoch: 17\n",
      "Training Loss: 0.0041373737073606915\n",
      "Training Accuracy: 0.3204513888888889\n",
      "Validation Loss: 0.004688458806938595\n",
      "Validation Accuracy: 0.23277777777777778\n",
      "Epoch: 18\n",
      "Training Loss: 0.00412469457834959\n",
      "Training Accuracy: 0.3221527777777778\n",
      "Validation Loss: 0.004520621423919995\n",
      "Validation Accuracy: 0.24305555555555555\n",
      "Epoch: 19\n",
      "Training Loss: 0.004117453588793675\n",
      "Training Accuracy: 0.32555555555555554\n",
      "Validation Loss: 0.004688700056738324\n",
      "Validation Accuracy: 0.22847222222222222\n",
      "Epoch: 20\n",
      "Training Loss: 0.004085724504871501\n",
      "Training Accuracy: 0.3282638888888889\n",
      "Validation Loss: 0.004644757807254791\n",
      "Validation Accuracy: 0.23583333333333334\n",
      "Epoch: 21\n",
      "Training Loss: 0.004084632309774558\n",
      "Training Accuracy: 0.3314930555555556\n",
      "Validation Loss: 0.00478784238298734\n",
      "Validation Accuracy: 0.15208333333333332\n",
      "Epoch: 22\n",
      "Training Loss: 0.004076947553290261\n",
      "Training Accuracy: 0.3336458333333333\n",
      "Validation Loss: 0.004560698204570346\n",
      "Validation Accuracy: 0.2148611111111111\n",
      "Epoch: 23\n",
      "Training Loss: 0.004059857241809368\n",
      "Training Accuracy: 0.3344270833333333\n",
      "Validation Loss: 0.004470402838455306\n",
      "Validation Accuracy: 0.24583333333333332\n",
      "Epoch: 24\n",
      "Training Loss: 0.004050119401266178\n",
      "Training Accuracy: 0.33880208333333334\n",
      "Validation Loss: 0.004658819288015366\n",
      "Validation Accuracy: 0.25666666666666665\n",
      "Epoch: 25\n",
      "Training Loss: 0.004059128291491005\n",
      "Training Accuracy: 0.33671875\n",
      "Validation Loss: 0.004581955108377668\n",
      "Validation Accuracy: 0.2140277777777778\n",
      "Epoch: 26\n",
      "Training Loss: 0.004029449301047458\n",
      "Training Accuracy: 0.3431076388888889\n",
      "Validation Loss: 0.004563806338442697\n",
      "Validation Accuracy: 0.23416666666666666\n",
      "Epoch: 27\n",
      "Training Loss: 0.0040181425710519155\n",
      "Training Accuracy: 0.3423090277777778\n",
      "Validation Loss: 0.0046919152802891205\n",
      "Validation Accuracy: 0.18805555555555556\n",
      "Epoch: 28\n",
      "Training Loss: 0.004019065321319633\n",
      "Training Accuracy: 0.3448263888888889\n",
      "Validation Loss: 0.004847532080279457\n",
      "Validation Accuracy: 0.17666666666666667\n",
      "Epoch: 29\n",
      "Training Loss: 0.00401350210317307\n",
      "Training Accuracy: 0.3428645833333333\n",
      "Validation Loss: 0.004607793655660417\n",
      "Validation Accuracy: 0.24208333333333334\n",
      "Epoch: 30\n",
      "Training Loss: 0.004000545220656527\n",
      "Training Accuracy: 0.3464409722222222\n",
      "Validation Loss: 0.0046667548517386115\n",
      "Validation Accuracy: 0.23583333333333334\n"
     ]
    }
   ],
   "source": [
    "training_loss_storage = []\n",
    "training_accuracy_storage = []\n",
    "validation_loss_storage = []\n",
    "validation_accuracy_storage = []\n",
    "\n",
    "for i in range(EPOCHS):\n",
    "    \n",
    "    print(\"Epoch: {}\".format(i+1))\n",
    "    \n",
    "    training_loss = 0\n",
    "    training_accuracy = 0\n",
    "    training_processed_data = 0\n",
    "    \n",
    "    for x, y in rrIntervalDataLoaderTrain:\n",
    "        x = x.cuda()\n",
    "        y = y.cuda()\n",
    "        \n",
    "        # Reset Gradients\n",
    "        optimizer.zero_grad()\n",
    "\n",
    "        # Forward, Loss, Backwards, Update\n",
    "        output = model(x)\n",
    "        loss = criterion(output, y)\n",
    "        loss.backward()\n",
    "        optimizer.step()\n",
    "        \n",
    "        training_processed_data += x.shape[0]\n",
    "\n",
    "        # Calculate Metrics\n",
    "        training_loss += loss.item()\n",
    "        training_accuracy += torch.sum(torch.exp(output).topk(1)[1].view(-1) == y).item()\n",
    "    \n",
    "    else:\n",
    "        print(\"Training Loss: {}\".format(training_loss/training_processed_data))\n",
    "        print(\"Training Accuracy: {}\".format(training_accuracy/training_processed_data))\n",
    "        \n",
    "        training_loss_storage.append(training_loss/training_processed_data)\n",
    "        training_accuracy_storage.append(training_accuracy/training_processed_data)\n",
    "        \n",
    "        validation_loss = 0\n",
    "        validation_accuracy = 0\n",
    "        validation_processed_data = 0\n",
    "\n",
    "        model.eval()\n",
    "\n",
    "        with torch.no_grad():\n",
    "            for x, y in rrIntervalDataLoaderVal:\n",
    "                x = x.cuda()\n",
    "                y = y.cuda()\n",
    "\n",
    "                output_validation = model(x)\n",
    "                loss_val = criterion(output_validation, y)\n",
    "                \n",
    "                validation_processed_data += x.shape[0]\n",
    "                \n",
    "                validation_loss += loss_val.item()\n",
    "                validation_accuracy += torch.sum(\n",
    "                    torch.exp(output_validation).topk(1, dim=1)[1].view(-1) == y).item()\n",
    "            else:\n",
    "                print(\"Validation Loss: {}\".format(validation_loss/validation_processed_data))\n",
    "                print(\"Validation Accuracy: {}\".format(validation_accuracy/validation_processed_data))\n",
    "                \n",
    "                validation_loss_storage.append(validation_loss/validation_processed_data)\n",
    "                validation_accuracy_storage.append(validation_accuracy/validation_processed_data)\n",
    "                \n",
    "                model.train()\n",
    "                "
   ]
  },
  {
   "cell_type": "markdown",
   "metadata": {},
   "source": [
    "True label:"
   ]
  },
  {
   "cell_type": "code",
   "execution_count": 63,
   "metadata": {},
   "outputs": [],
   "source": [
    "X, Y = next(iter(rrIntervalDataLoaderVal))\n",
    "res = model(X.cuda()).cpu()"
   ]
  },
  {
   "cell_type": "code",
   "execution_count": 64,
   "metadata": {},
   "outputs": [],
   "source": [
    "import numpy as np\n",
    "import matplotlib.pyplot as plt"
   ]
  },
  {
   "cell_type": "code",
   "execution_count": 65,
   "metadata": {},
   "outputs": [
    {
     "data": {
      "image/png": "[encoded data removed]",
      "text/plain": [
       "<Figure size 960x640 with 1 Axes>"
      ]
     },
     "metadata": {
      "needs_background": "light"
     },
     "output_type": "display_data"
    }
   ],
   "source": [
    "index = 1\n",
    "true_label = int(Y[1])\n",
    "posterior = np.array(torch.exp(res[1]).detach().cpu())\n",
    "plt.bar(range(7), posterior);\n",
    "plt.title(f'True Label: {true_label}');"
   ]
  },
  {
   "cell_type": "code",
   "execution_count": 66,
   "metadata": {},
   "outputs": [],
   "source": [
    "import matplotlib.pyplot as plt\n",
    "%matplotlib inline\n",
    "plt.rcParams['figure.dpi']= 160"
   ]
  },
  {
   "cell_type": "code",
   "execution_count": 67,
   "metadata": {},
   "outputs": [
    {
     "data": {
      "image/png": "[encoded data removed]",
      "text/plain": [
       "<Figure size 960x640 with 1 Axes>"
      ]
     },
     "metadata": {
      "needs_background": "light"
     },
     "output_type": "display_data"
    }
   ],
   "source": [
    "plt.plot(range(len(training_loss_storage)), training_loss_storage, label=\"Training Loss\");\n",
    "plt.plot(range(len(validation_loss_storage)), validation_loss_storage, label=\"Validation Loss\");\n",
    "plt.legend()\n",
    "plt.ylabel('Loss');\n",
    "plt.xlabel('Epoch');\n",
    "plt.title('Loss during training');"
   ]
  },
  {
   "cell_type": "code",
   "execution_count": 68,
   "metadata": {},
   "outputs": [
    {
     "data": {
      "image/png": "[encoded data removed]",
      "text/plain": [
       "<Figure size 960x640 with 1 Axes>"
      ]
     },
     "metadata": {
      "needs_background": "light"
     },
     "output_type": "display_data"
    }
   ],
   "source": [
    "plt.plot(range(len(training_accuracy_storage)), training_accuracy_storage, label=\"Training Accuracy\");\n",
    "plt.plot(range(len(validation_accuracy_storage)), validation_accuracy_storage, label=\"Validation Accuracy\");\n",
    "plt.legend()\n",
    "plt.ylabel('Accuracy');\n",
    "plt.xlabel('Epoch');\n",
    "plt.title('Accuracy during training');"
   ]
  },
  {
   "cell_type": "markdown",
   "metadata": {},
   "source": [
    "## Testing"
   ]
  },
  {
   "cell_type": "markdown",
   "metadata": {},
   "source": [
    "**This code only works if the data sets are not shuffled!!!**"
   ]
  },
  {
   "cell_type": "code",
   "execution_count": 69,
   "metadata": {},
   "outputs": [],
   "source": [
    "def distrib(predictions, classes=7):\n",
    "    res = [0]*classes\n",
    "    \n",
    "    for pred in predictions:\n",
    "        res[pred] += 1\n",
    "    return res"
   ]
  },
  {
   "cell_type": "code",
   "execution_count": 70,
   "metadata": {},
   "outputs": [],
   "source": [
    "def classify_with_probs(dataLoader):\n",
    "    \n",
    "    matches = []\n",
    "    model.eval()\n",
    "    \n",
    "    for x, y in dataLoader:\n",
    "        \n",
    "        y_hat = model(x.cuda()).cpu()\n",
    "        y_hat = np.array(torch.exp(y_hat).detach().numpy())\n",
    "        y_hat = np.argmax(np.sum(y_hat, axis=0))\n",
    "        matches.append(np.argmax(y_hat) == np.array(y[0]))\n",
    "        \n",
    "    model.train()\n",
    "    \n",
    "    return matches"
   ]
  },
  {
   "cell_type": "code",
   "execution_count": 71,
   "metadata": {},
   "outputs": [],
   "source": [
    "def classify(dataLoader):\n",
    "    \n",
    "    matches = []\n",
    "    model.eval()\n",
    "    \n",
    "    for x, y in dataLoader:\n",
    "\n",
    "        y_hat = model(x.cuda()).cpu()\n",
    "        y_hat = distrib(np.array(torch.exp(y_hat).topk(1, dim=1)[1].view(-1)))\n",
    "        matches.append(np.argmax(y_hat) == y[0])\n",
    "  \n",
    "    model.train()\n",
    "    \n",
    "    return matches"
   ]
  },
  {
   "cell_type": "code",
   "execution_count": 72,
   "metadata": {},
   "outputs": [
    {
     "data": {
      "text/plain": [
       "0.2222222222222222"
      ]
     },
     "execution_count": 72,
     "metadata": {},
     "output_type": "execute_result"
    }
   ],
   "source": [
    "np.mean(classify(rrIntervalDataLoaderVal))"
   ]
  },
  {
   "cell_type": "code",
   "execution_count": 73,
   "metadata": {},
   "outputs": [
    {
     "data": {
      "text/plain": [
       "0.16666666666666666"
      ]
     },
     "execution_count": 73,
     "metadata": {},
     "output_type": "execute_result"
    }
   ],
   "source": [
    "np.mean(classify_with_probs(rrIntervalDataLoaderVal))"
   ]
  },
  {
   "cell_type": "code",
   "execution_count": 74,
   "metadata": {},
   "outputs": [
    {
     "data": {
      "text/plain": [
       "0.2631578947368421"
      ]
     },
     "execution_count": 74,
     "metadata": {},
     "output_type": "execute_result"
    }
   ],
   "source": [
    "np.mean(classify(rrIntervalDataLoaderTest))"
   ]
  },
  {
   "cell_type": "code",
   "execution_count": 75,
   "metadata": {},
   "outputs": [
    {
     "data": {
      "text/plain": [
       "0.15789473684210525"
      ]
     },
     "execution_count": 75,
     "metadata": {},
     "output_type": "execute_result"
    }
   ],
   "source": [
    "np.mean(classify_with_probs(rrIntervalDataLoaderTest))"
   ]
  },
  {
   "cell_type": "code",
   "execution_count": null,
   "metadata": {},
   "outputs": [],
   "source": []
  },
  {
   "cell_type": "code",
   "execution_count": null,
   "metadata": {},
   "outputs": [],
   "source": []
  }
 ],
 "metadata": {
  "kernelspec": {
   "display_name": "Python 3",
   "language": "python",
   "name": "python3"
  },
  "language_info": {
   "codemirror_mode": {
    "name": "ipython",
    "version": 3
   },
   "file_extension": ".py",
   "mimetype": "text/x-python",
   "name": "python",
   "nbconvert_exporter": "python",
   "pygments_lexer": "ipython3",
   "version": "3.8.1"
  }
 },
 "nbformat": 4,
 "nbformat_minor": 4
}
