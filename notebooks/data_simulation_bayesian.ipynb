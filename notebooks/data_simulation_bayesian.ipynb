{
 "cells": [
  {
   "cell_type": "code",
   "execution_count": 1,
   "metadata": {},
   "outputs": [],
   "source": [
    "import numpy as np\n",
    "\n",
    "import utilities as utils\n",
    "from utilities import *\n",
    "\n",
    "import gp_utilities as gp_utils\n",
    "from gp_utilities import *"
   ]
  },
  {
   "cell_type": "code",
   "execution_count": 2,
   "metadata": {},
   "outputs": [],
   "source": [
    "# Parameters, do not change!\n",
    "input_gdansk = \"../data/age_decades/\"\n",
    "output_dir = \"../data/preprocessed/\"\n",
    "\n",
    "data_source_type = \"gdansk\"\n",
    "splice_type = \"constant\"\n",
    "\n",
    "splits = [0.6, 0.2, 0.2]\n",
    "seed = 42\n",
    "N = 48 * 2\n",
    "samples = 100 # Easy to take quite lot in the beginning, can always be easily filteres later on\n",
    "\n",
    "np.random.seed(seed=seed)"
   ]
  },
  {
   "cell_type": "code",
   "execution_count": 3,
   "metadata": {},
   "outputs": [
    {
     "name": "stdout",
     "output_type": "stream",
     "text": [
      "CPU times: user 27.5 s, sys: 263 ms, total: 27.7 s\n",
      "Wall time: 27.6 s\n"
     ]
    }
   ],
   "source": [
    "%%time\n",
    "recordings = utils.read_gdansk_to_dict(input_gdansk)\n",
    "cleared_recordings = gp_utils.remove_outliers_in_recordings(recordings, in_seconds=True)\n",
    "train_recordings, val_recordings, test_recordings = np.array_split(cleared_recordings, (np.array(splits)[:-1].cumsum() * len(cleared_recordings)).astype(int))\n",
    "\n",
    "train_recordings = gp_utils.c_splice_lod_constant_by_number(train_recordings, n=N)\n",
    "val_recordings = gp_utils.c_splice_lod_constant_by_number(val_recordings, n=N)\n",
    "test_recordings = gp_utils.c_splice_lod_constant_by_number(test_recordings, n=N)\n",
    "\n",
    "del recordings, cleared_recordings"
   ]
  },
  {
   "cell_type": "code",
   "execution_count": null,
   "metadata": {},
   "outputs": [
    {
     "name": "stdout",
     "output_type": "stream",
     "text": [
      "Processing 3498/10368\n",
      "Current time is: 2020-04-06 20:22:15.591371\n"
     ]
    }
   ],
   "source": [
    "gp_utils.simulate_data(train_recordings, set_selector=\"train\", n=samples)"
   ]
  },
  {
   "cell_type": "code",
   "execution_count": null,
   "metadata": {},
   "outputs": [],
   "source": [
    "gp_utils.simulate_data(val_recordings, set_selector=\"val\", n=samples)"
   ]
  },
  {
   "cell_type": "code",
   "execution_count": null,
   "metadata": {},
   "outputs": [],
   "source": [
    "gp_utils.simulate_data(test_recordings, set_selector=\"test\", n=samples)"
   ]
  },
  {
   "cell_type": "code",
   "execution_count": null,
   "metadata": {},
   "outputs": [],
   "source": []
  },
  {
   "cell_type": "code",
   "execution_count": null,
   "metadata": {},
   "outputs": [],
   "source": []
  }
 ],
 "metadata": {
  "kernelspec": {
   "display_name": "Python 3",
   "language": "python",
   "name": "python3"
  },
  "language_info": {
   "codemirror_mode": {
    "name": "ipython",
    "version": 3
   },
   "file_extension": ".py",
   "mimetype": "text/x-python",
   "name": "python",
   "nbconvert_exporter": "python",
   "pygments_lexer": "ipython3",
   "version": "3.7.6"
  }
 },
 "nbformat": 4,
 "nbformat_minor": 4
}
