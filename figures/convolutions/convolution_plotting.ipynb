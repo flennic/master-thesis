{
 "cells": [
  {
   "cell_type": "code",
   "execution_count": 18,
   "metadata": {},
   "outputs": [],
   "source": [
    "import numpy as np\n",
    "from scipy import signal"
   ]
  },
  {
   "cell_type": "code",
   "execution_count": 6,
   "metadata": {},
   "outputs": [
    {
     "data": {
      "text/plain": [
       "array([[0.05, 0.59, 0.1 , 0.62, 0.74, 0.05, 0.3 ],\n",
       "       [0.11, 0.46, 0.03, 0.62, 0.85, 0.55, 0.49],\n",
       "       [0.46, 0.76, 0.65, 0.74, 0.37, 0.87, 0.12],\n",
       "       [0.21, 0.62, 0.31, 0.56, 0.46, 0.46, 0.23],\n",
       "       [0.87, 0.18, 0.27, 0.65, 0.45, 0.44, 0.4 ],\n",
       "       [0.  , 0.83, 0.82, 0.59, 0.26, 0.46, 0.79],\n",
       "       [0.5 , 0.48, 0.15, 0.42, 0.14, 0.69, 0.87]])"
      ]
     },
     "execution_count": 6,
     "metadata": {},
     "output_type": "execute_result"
    }
   ],
   "source": [
    "image = np.array([[0.05, 0.59, 0.1 , 0.62, 0.74, 0.05, 0.3 ],\n",
    "       [0.11, 0.46, 0.03, 0.62, 0.85, 0.55, 0.49],\n",
    "       [0.46, 0.76, 0.65, 0.74, 0.37, 0.87, 0.12],\n",
    "       [0.21, 0.62, 0.31, 0.56, 0.46, 0.46, 0.23],\n",
    "       [0.87, 0.18, 0.27, 0.65, 0.45, 0.44, 0.4 ],\n",
    "       [0.  , 0.83, 0.82, 0.59, 0.26, 0.46, 0.79],\n",
    "       [0.5 , 0.48, 0.15, 0.42, 0.14, 0.69, 0.87]])\n",
    "image"
   ]
  },
  {
   "cell_type": "code",
   "execution_count": 16,
   "metadata": {},
   "outputs": [
    {
     "data": {
      "text/plain": [
       "array([[ 0.  , -0.25,  0.  ],\n",
       "       [-0.25,  2.  , -0.25],\n",
       "       [ 0.  , -0.25,  0.  ]])"
      ]
     },
     "execution_count": 16,
     "metadata": {},
     "output_type": "execute_result"
    }
   ],
   "source": [
    "high_pass_filter = np.array([[ 0.  , -0.25,  0.  ],\n",
    "                             [-0.25,  2.  , -0.25],\n",
    "                             [ 0.  , -0.25,  0.  ]])\n",
    "high_pass_filter"
   ]
  },
  {
   "cell_type": "code",
   "execution_count": 24,
   "metadata": {},
   "outputs": [
    {
     "data": {
      "text/plain": [
       "array([[ 0.55, -0.4 ,  0.68,  1.13,  0.54],\n",
       "       [ 0.97,  0.84,  0.93,  0.01,  1.36],\n",
       "       [ 0.88,  0.09,  0.58,  0.46,  0.42],\n",
       "       [-0.29,  0.05,  0.83,  0.45,  0.44],\n",
       "       [ 1.29,  1.18,  0.64,  0.11,  0.38]])"
      ]
     },
     "execution_count": 24,
     "metadata": {},
     "output_type": "execute_result"
    }
   ],
   "source": [
    "res = np.around(signal.convolve2d(image, high_pass_filter, mode=\"valid\"), decimals=2)\n",
    "res"
   ]
  },
  {
   "cell_type": "code",
   "execution_count": null,
   "metadata": {},
   "outputs": [],
   "source": []
  }
 ],
 "metadata": {
  "kernelspec": {
   "display_name": "Python 3",
   "language": "python",
   "name": "python3"
  },
  "language_info": {
   "codemirror_mode": {
    "name": "ipython",
    "version": 3
   },
   "file_extension": ".py",
   "mimetype": "text/x-python",
   "name": "python",
   "nbconvert_exporter": "python",
   "pygments_lexer": "ipython3",
   "version": "3.8.1"
  }
 },
 "nbformat": 4,
 "nbformat_minor": 4
}
